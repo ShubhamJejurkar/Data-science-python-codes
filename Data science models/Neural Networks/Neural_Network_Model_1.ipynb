{
 "cells": [
  {
   "cell_type": "code",
   "execution_count": 6,
   "metadata": {
    "id": "mxSjWpK6t7FA"
   },
   "outputs": [],
   "source": [
    "# Importing the necessary packages\n",
    "import pandas as pd\n",
    "import numpy as np\n",
    "import keras\n",
    "from sklearn.preprocessing import StandardScaler"
   ]
  },
  {
   "cell_type": "markdown",
   "metadata": {},
   "source": [
    "### Gas Turbine Dataset"
   ]
  },
  {
   "cell_type": "code",
   "execution_count": 7,
   "metadata": {
    "id": "BAebOhHTt7FH"
   },
   "outputs": [],
   "source": [
    "dataset = pd.read_csv(\"/content/gas_turbines.csv\", delimiter=\",\")"
   ]
  },
  {
   "cell_type": "code",
   "execution_count": 8,
   "metadata": {
    "colab": {
     "base_uri": "https://localhost:8080/",
     "height": 204
    },
    "id": "yRL_83cZNNJv",
    "outputId": "c328deff-31ca-4090-84c4-4ee2b23b6680"
   },
   "outputs": [
    {
     "data": {
      "text/html": [
       "<div>\n",
       "<style scoped>\n",
       "    .dataframe tbody tr th:only-of-type {\n",
       "        vertical-align: middle;\n",
       "    }\n",
       "\n",
       "    .dataframe tbody tr th {\n",
       "        vertical-align: top;\n",
       "    }\n",
       "\n",
       "    .dataframe thead th {\n",
       "        text-align: right;\n",
       "    }\n",
       "</style>\n",
       "<table border=\"1\" class=\"dataframe\">\n",
       "  <thead>\n",
       "    <tr style=\"text-align: right;\">\n",
       "      <th></th>\n",
       "      <th>AT</th>\n",
       "      <th>AP</th>\n",
       "      <th>AH</th>\n",
       "      <th>AFDP</th>\n",
       "      <th>GTEP</th>\n",
       "      <th>TIT</th>\n",
       "      <th>TAT</th>\n",
       "      <th>TEY</th>\n",
       "      <th>CDP</th>\n",
       "      <th>CO</th>\n",
       "      <th>NOX</th>\n",
       "    </tr>\n",
       "  </thead>\n",
       "  <tbody>\n",
       "    <tr>\n",
       "      <th>0</th>\n",
       "      <td>6.8594</td>\n",
       "      <td>1007.9</td>\n",
       "      <td>96.799</td>\n",
       "      <td>3.5000</td>\n",
       "      <td>19.663</td>\n",
       "      <td>1059.2</td>\n",
       "      <td>550.00</td>\n",
       "      <td>114.70</td>\n",
       "      <td>10.605</td>\n",
       "      <td>3.1547</td>\n",
       "      <td>82.722</td>\n",
       "    </tr>\n",
       "    <tr>\n",
       "      <th>1</th>\n",
       "      <td>6.7850</td>\n",
       "      <td>1008.4</td>\n",
       "      <td>97.118</td>\n",
       "      <td>3.4998</td>\n",
       "      <td>19.728</td>\n",
       "      <td>1059.3</td>\n",
       "      <td>550.00</td>\n",
       "      <td>114.72</td>\n",
       "      <td>10.598</td>\n",
       "      <td>3.2363</td>\n",
       "      <td>82.776</td>\n",
       "    </tr>\n",
       "    <tr>\n",
       "      <th>2</th>\n",
       "      <td>6.8977</td>\n",
       "      <td>1008.8</td>\n",
       "      <td>95.939</td>\n",
       "      <td>3.4824</td>\n",
       "      <td>19.779</td>\n",
       "      <td>1059.4</td>\n",
       "      <td>549.87</td>\n",
       "      <td>114.71</td>\n",
       "      <td>10.601</td>\n",
       "      <td>3.2012</td>\n",
       "      <td>82.468</td>\n",
       "    </tr>\n",
       "    <tr>\n",
       "      <th>3</th>\n",
       "      <td>7.0569</td>\n",
       "      <td>1009.2</td>\n",
       "      <td>95.249</td>\n",
       "      <td>3.4805</td>\n",
       "      <td>19.792</td>\n",
       "      <td>1059.6</td>\n",
       "      <td>549.99</td>\n",
       "      <td>114.72</td>\n",
       "      <td>10.606</td>\n",
       "      <td>3.1923</td>\n",
       "      <td>82.670</td>\n",
       "    </tr>\n",
       "    <tr>\n",
       "      <th>4</th>\n",
       "      <td>7.3978</td>\n",
       "      <td>1009.7</td>\n",
       "      <td>95.150</td>\n",
       "      <td>3.4976</td>\n",
       "      <td>19.765</td>\n",
       "      <td>1059.7</td>\n",
       "      <td>549.98</td>\n",
       "      <td>114.72</td>\n",
       "      <td>10.612</td>\n",
       "      <td>3.2484</td>\n",
       "      <td>82.311</td>\n",
       "    </tr>\n",
       "  </tbody>\n",
       "</table>\n",
       "</div>"
      ],
      "text/plain": [
       "       AT      AP      AH    AFDP  ...     TEY     CDP      CO     NOX\n",
       "0  6.8594  1007.9  96.799  3.5000  ...  114.70  10.605  3.1547  82.722\n",
       "1  6.7850  1008.4  97.118  3.4998  ...  114.72  10.598  3.2363  82.776\n",
       "2  6.8977  1008.8  95.939  3.4824  ...  114.71  10.601  3.2012  82.468\n",
       "3  7.0569  1009.2  95.249  3.4805  ...  114.72  10.606  3.1923  82.670\n",
       "4  7.3978  1009.7  95.150  3.4976  ...  114.72  10.612  3.2484  82.311\n",
       "\n",
       "[5 rows x 11 columns]"
      ]
     },
     "execution_count": 8,
     "metadata": {},
     "output_type": "execute_result"
    }
   ],
   "source": [
    "dataset.head()"
   ]
  },
  {
   "cell_type": "code",
   "execution_count": 9,
   "metadata": {
    "id": "H21tw3s5t7FH"
   },
   "outputs": [],
   "source": [
    "X = dataset[['AT','AP','AH','AFDP','GTEP','TIT','TAT','CDP','CO','NOX']]\n",
    "y = dataset['TEY']"
   ]
  },
  {
   "cell_type": "code",
   "execution_count": 10,
   "metadata": {
    "id": "TLGQ964Wt7FI"
   },
   "outputs": [],
   "source": [
    "# Standardization\n",
    "a = StandardScaler()\n",
    "a.fit(X)\n",
    "X_standardized = a.transform(X)"
   ]
  },
  {
   "cell_type": "code",
   "execution_count": 11,
   "metadata": {
    "colab": {
     "base_uri": "https://localhost:8080/",
     "height": 368
    },
    "id": "fDdsaXMHt7FJ",
    "outputId": "bc7cc039-d02a-45fb-9271-8af9f446e31e"
   },
   "outputs": [
    {
     "data": {
      "text/html": [
       "<div>\n",
       "<style scoped>\n",
       "    .dataframe tbody tr th:only-of-type {\n",
       "        vertical-align: middle;\n",
       "    }\n",
       "\n",
       "    .dataframe tbody tr th {\n",
       "        vertical-align: top;\n",
       "    }\n",
       "\n",
       "    .dataframe thead th {\n",
       "        text-align: right;\n",
       "    }\n",
       "</style>\n",
       "<table border=\"1\" class=\"dataframe\">\n",
       "  <thead>\n",
       "    <tr style=\"text-align: right;\">\n",
       "      <th></th>\n",
       "      <th>0</th>\n",
       "      <th>1</th>\n",
       "      <th>2</th>\n",
       "      <th>3</th>\n",
       "      <th>4</th>\n",
       "      <th>5</th>\n",
       "      <th>6</th>\n",
       "      <th>7</th>\n",
       "      <th>8</th>\n",
       "      <th>9</th>\n",
       "    </tr>\n",
       "  </thead>\n",
       "  <tbody>\n",
       "    <tr>\n",
       "      <th>count</th>\n",
       "      <td>1.503900e+04</td>\n",
       "      <td>1.503900e+04</td>\n",
       "      <td>1.503900e+04</td>\n",
       "      <td>1.503900e+04</td>\n",
       "      <td>1.503900e+04</td>\n",
       "      <td>1.503900e+04</td>\n",
       "      <td>1.503900e+04</td>\n",
       "      <td>1.503900e+04</td>\n",
       "      <td>1.503900e+04</td>\n",
       "      <td>1.503900e+04</td>\n",
       "    </tr>\n",
       "    <tr>\n",
       "      <th>mean</th>\n",
       "      <td>-1.169680e-15</td>\n",
       "      <td>-1.925280e-14</td>\n",
       "      <td>2.007245e-16</td>\n",
       "      <td>3.810001e-16</td>\n",
       "      <td>1.111478e-16</td>\n",
       "      <td>-2.324212e-15</td>\n",
       "      <td>1.744899e-15</td>\n",
       "      <td>2.542166e-16</td>\n",
       "      <td>1.959261e-17</td>\n",
       "      <td>-3.646853e-17</td>\n",
       "    </tr>\n",
       "    <tr>\n",
       "      <th>std</th>\n",
       "      <td>1.000033e+00</td>\n",
       "      <td>1.000033e+00</td>\n",
       "      <td>1.000033e+00</td>\n",
       "      <td>1.000033e+00</td>\n",
       "      <td>1.000033e+00</td>\n",
       "      <td>1.000033e+00</td>\n",
       "      <td>1.000033e+00</td>\n",
       "      <td>1.000033e+00</td>\n",
       "      <td>1.000033e+00</td>\n",
       "      <td>1.000033e+00</td>\n",
       "    </tr>\n",
       "    <tr>\n",
       "      <th>min</th>\n",
       "      <td>-2.276462e+00</td>\n",
       "      <td>-4.266288e+00</td>\n",
       "      <td>-3.536594e+00</td>\n",
       "      <td>-2.779497e+00</td>\n",
       "      <td>-1.806771e+00</td>\n",
       "      <td>-5.021933e+00</td>\n",
       "      <td>-4.188141e+00</td>\n",
       "      <td>-1.992416e+00</td>\n",
       "      <td>-8.874862e-01</td>\n",
       "      <td>-3.861033e+00</td>\n",
       "    </tr>\n",
       "    <tr>\n",
       "      <th>25%</th>\n",
       "      <td>-8.392292e-01</td>\n",
       "      <td>-6.706510e-01</td>\n",
       "      <td>-6.796337e-01</td>\n",
       "      <td>-6.266930e-01</td>\n",
       "      <td>-5.091458e-01</td>\n",
       "      <td>-2.540512e-01</td>\n",
       "      <td>-4.101146e-01</td>\n",
       "      <td>-4.354335e-01</td>\n",
       "      <td>-5.015202e-01</td>\n",
       "      <td>-6.578107e-01</td>\n",
       "    </tr>\n",
       "    <tr>\n",
       "      <th>50%</th>\n",
       "      <td>5.566605e-02</td>\n",
       "      <td>-6.227861e-02</td>\n",
       "      <td>2.277844e-01</td>\n",
       "      <td>-1.854065e-02</td>\n",
       "      <td>-8.075681e-02</td>\n",
       "      <td>2.965544e-01</td>\n",
       "      <td>5.712570e-01</td>\n",
       "      <td>-7.011925e-02</td>\n",
       "      <td>-2.620452e-01</td>\n",
       "      <td>-1.518527e-01</td>\n",
       "    </tr>\n",
       "    <tr>\n",
       "      <th>75%</th>\n",
       "      <td>8.051309e-01</td>\n",
       "      <td>5.772924e-01</td>\n",
       "      <td>7.916582e-01</td>\n",
       "      <td>4.612196e-01</td>\n",
       "      <td>4.228638e-01</td>\n",
       "      <td>7.382490e-01</td>\n",
       "      <td>5.928675e-01</td>\n",
       "      <td>4.311680e-01</td>\n",
       "      <td>8.455882e-02</td>\n",
       "      <td>5.486567e-01</td>\n",
       "    </tr>\n",
       "    <tr>\n",
       "      <th>max</th>\n",
       "      <td>2.266234e+00</td>\n",
       "      <td>3.275970e+00</td>\n",
       "      <td>1.528011e+00</td>\n",
       "      <td>4.486233e+00</td>\n",
       "      <td>2.871006e+00</td>\n",
       "      <td>1.028678e+00</td>\n",
       "      <td>6.627839e-01</td>\n",
       "      <td>2.700105e+00</td>\n",
       "      <td>1.895949e+01</td>\n",
       "      <td>4.937717e+00</td>\n",
       "    </tr>\n",
       "  </tbody>\n",
       "</table>\n",
       "</div>"
      ],
      "text/plain": [
       "                  0             1  ...             8             9\n",
       "count  1.503900e+04  1.503900e+04  ...  1.503900e+04  1.503900e+04\n",
       "mean  -1.169680e-15 -1.925280e-14  ...  1.959261e-17 -3.646853e-17\n",
       "std    1.000033e+00  1.000033e+00  ...  1.000033e+00  1.000033e+00\n",
       "min   -2.276462e+00 -4.266288e+00  ... -8.874862e-01 -3.861033e+00\n",
       "25%   -8.392292e-01 -6.706510e-01  ... -5.015202e-01 -6.578107e-01\n",
       "50%    5.566605e-02 -6.227861e-02  ... -2.620452e-01 -1.518527e-01\n",
       "75%    8.051309e-01  5.772924e-01  ...  8.455882e-02  5.486567e-01\n",
       "max    2.266234e+00  3.275970e+00  ...  1.895949e+01  4.937717e+00\n",
       "\n",
       "[8 rows x 10 columns]"
      ]
     },
     "execution_count": 11,
     "metadata": {},
     "output_type": "execute_result"
    }
   ],
   "source": [
    "pd.DataFrame(X_standardized).describe()"
   ]
  },
  {
   "cell_type": "markdown",
   "metadata": {
    "id": "ED8yJunet7FK"
   },
   "source": [
    "#### Tuning of Hyperparameters :- Batch Size and Epochs"
   ]
  },
  {
   "cell_type": "code",
   "execution_count": 12,
   "metadata": {
    "id": "xS9o2Ngit7FM"
   },
   "outputs": [],
   "source": [
    "# Importing the necessary packages\n",
    "from sklearn.model_selection import GridSearchCV, KFold\n",
    "from keras.models import Sequential\n",
    "from keras.layers import Dense\n",
    "from keras.wrappers.scikit_learn import KerasRegressor\n",
    "#from keras.optimizers import Adam\n",
    "from tensorflow.keras.optimizers import Adam # - Works\n"
   ]
  },
  {
   "cell_type": "code",
   "execution_count": 13,
   "metadata": {
    "id": "2uHDcHsft7FO"
   },
   "outputs": [],
   "source": [
    "# create model\n",
    "def create_model():\n",
    "    model = Sequential()\n",
    "    model.add(Dense(8, input_dim=10, kernel_initializer='uniform', activation='relu'))\n",
    "    model.add(Dense(4, kernel_initializer='uniform', activation='relu'))\n",
    "    model.add(Dense(1, kernel_initializer='uniform', activation='relu'))\n",
    "    \n",
    "    adam=Adam(learning_rate=0.01)\n",
    "    model.compile(loss='mean_squared_error', optimizer=adam, metrics=['mse'])\n",
    "    return model"
   ]
  },
  {
   "cell_type": "code",
   "execution_count": 14,
   "metadata": {
    "id": "eZGhcUFft7FR"
   },
   "outputs": [],
   "source": [
    "# Create the model\n",
    "model = KerasRegressor(build_fn = create_model,verbose = 0)\n",
    "# Define the grid search parameters\n",
    "batch_size = [10,20,40]\n",
    "epochs = [10,20,30]\n",
    "# Make a dictionary of the grid search parameters\n",
    "param_grid = dict(batch_size = batch_size,epochs = epochs)\n",
    "# Build and fit the GridSearchCV\n",
    "grid = GridSearchCV(estimator = model,param_grid = param_grid,cv = KFold(),verbose = 10)\n"
   ]
  },
  {
   "cell_type": "code",
   "execution_count": 15,
   "metadata": {
    "colab": {
     "base_uri": "https://localhost:8080/"
    },
    "id": "Rd9jei5mwAkh",
    "outputId": "19b3c439-d9a9-446e-89e1-046c0d9d4fc9"
   },
   "outputs": [
    {
     "name": "stdout",
     "output_type": "stream",
     "text": [
      "Fitting 5 folds for each of 9 candidates, totalling 45 fits\n",
      "[CV] batch_size=10, epochs=10 ........................................\n"
     ]
    },
    {
     "name": "stderr",
     "output_type": "stream",
     "text": [
      "[Parallel(n_jobs=1)]: Using backend SequentialBackend with 1 concurrent workers.\n"
     ]
    },
    {
     "name": "stdout",
     "output_type": "stream",
     "text": [
      "[CV] ........... batch_size=10, epochs=10, score=-1.365, total=  35.7s\n",
      "[CV] batch_size=10, epochs=10 ........................................\n"
     ]
    },
    {
     "name": "stderr",
     "output_type": "stream",
     "text": [
      "[Parallel(n_jobs=1)]: Done   1 out of   1 | elapsed:   35.7s remaining:    0.0s\n"
     ]
    },
    {
     "name": "stdout",
     "output_type": "stream",
     "text": [
      "[CV] ........... batch_size=10, epochs=10, score=-0.525, total=  27.0s\n",
      "[CV] batch_size=10, epochs=10 ........................................\n"
     ]
    },
    {
     "name": "stderr",
     "output_type": "stream",
     "text": [
      "[Parallel(n_jobs=1)]: Done   2 out of   2 | elapsed:  1.0min remaining:    0.0s\n"
     ]
    },
    {
     "name": "stdout",
     "output_type": "stream",
     "text": [
      "[CV] ........... batch_size=10, epochs=10, score=-2.071, total=  27.1s\n",
      "[CV] batch_size=10, epochs=10 ........................................\n"
     ]
    },
    {
     "name": "stderr",
     "output_type": "stream",
     "text": [
      "[Parallel(n_jobs=1)]: Done   3 out of   3 | elapsed:  1.5min remaining:    0.0s\n"
     ]
    },
    {
     "name": "stdout",
     "output_type": "stream",
     "text": [
      "[CV] ........... batch_size=10, epochs=10, score=-2.523, total=  26.6s\n",
      "[CV] batch_size=10, epochs=10 ........................................\n"
     ]
    },
    {
     "name": "stderr",
     "output_type": "stream",
     "text": [
      "[Parallel(n_jobs=1)]: Done   4 out of   4 | elapsed:  1.9min remaining:    0.0s\n"
     ]
    },
    {
     "name": "stdout",
     "output_type": "stream",
     "text": [
      "[CV] ........... batch_size=10, epochs=10, score=-1.915, total=  42.2s\n",
      "[CV] batch_size=10, epochs=20 ........................................\n"
     ]
    },
    {
     "name": "stderr",
     "output_type": "stream",
     "text": [
      "[Parallel(n_jobs=1)]: Done   5 out of   5 | elapsed:  2.6min remaining:    0.0s\n"
     ]
    },
    {
     "name": "stdout",
     "output_type": "stream",
     "text": [
      "[CV] ........... batch_size=10, epochs=20, score=-1.783, total=  53.4s\n",
      "[CV] batch_size=10, epochs=20 ........................................\n"
     ]
    },
    {
     "name": "stderr",
     "output_type": "stream",
     "text": [
      "[Parallel(n_jobs=1)]: Done   6 out of   6 | elapsed:  3.5min remaining:    0.0s\n"
     ]
    },
    {
     "name": "stdout",
     "output_type": "stream",
     "text": [
      "[CV] ........... batch_size=10, epochs=20, score=-0.631, total=  54.5s\n",
      "[CV] batch_size=10, epochs=20 ........................................\n"
     ]
    },
    {
     "name": "stderr",
     "output_type": "stream",
     "text": [
      "[Parallel(n_jobs=1)]: Done   7 out of   7 | elapsed:  4.4min remaining:    0.0s\n"
     ]
    },
    {
     "name": "stdout",
     "output_type": "stream",
     "text": [
      "[CV] ........... batch_size=10, epochs=20, score=-1.197, total=  54.9s\n",
      "[CV] batch_size=10, epochs=20 ........................................\n"
     ]
    },
    {
     "name": "stderr",
     "output_type": "stream",
     "text": [
      "[Parallel(n_jobs=1)]: Done   8 out of   8 | elapsed:  5.4min remaining:    0.0s\n"
     ]
    },
    {
     "name": "stdout",
     "output_type": "stream",
     "text": [
      "[CV] ........... batch_size=10, epochs=20, score=-0.555, total= 1.4min\n",
      "[CV] batch_size=10, epochs=20 ........................................\n"
     ]
    },
    {
     "name": "stderr",
     "output_type": "stream",
     "text": [
      "[Parallel(n_jobs=1)]: Done   9 out of   9 | elapsed:  6.7min remaining:    0.0s\n"
     ]
    },
    {
     "name": "stdout",
     "output_type": "stream",
     "text": [
      "[CV] ........... batch_size=10, epochs=20, score=-1.855, total=  54.5s\n",
      "[CV] batch_size=10, epochs=30 ........................................\n",
      "[CV] ........... batch_size=10, epochs=30, score=-1.543, total= 1.4min\n",
      "[CV] batch_size=10, epochs=30 ........................................\n",
      "[CV] ........... batch_size=10, epochs=30, score=-0.449, total= 1.3min\n",
      "[CV] batch_size=10, epochs=30 ........................................\n",
      "[CV] ........... batch_size=10, epochs=30, score=-0.821, total= 1.3min\n",
      "[CV] batch_size=10, epochs=30 ........................................\n",
      "[CV] ........... batch_size=10, epochs=30, score=-0.984, total= 1.4min\n",
      "[CV] batch_size=10, epochs=30 ........................................\n",
      "[CV] ........... batch_size=10, epochs=30, score=-1.571, total= 1.3min\n",
      "[CV] batch_size=20, epochs=10 ........................................\n",
      "[CV] ........... batch_size=20, epochs=10, score=-1.214, total=  21.4s\n",
      "[CV] batch_size=20, epochs=10 ........................................\n",
      "[CV] ........... batch_size=20, epochs=10, score=-0.566, total=  14.1s\n",
      "[CV] batch_size=20, epochs=10 ........................................\n",
      "[CV] ........... batch_size=20, epochs=10, score=-0.981, total=  21.3s\n",
      "[CV] batch_size=20, epochs=10 ........................................\n",
      "[CV] ........... batch_size=20, epochs=10, score=-0.807, total=  21.4s\n",
      "[CV] batch_size=20, epochs=10 ........................................\n",
      "[CV] ........... batch_size=20, epochs=10, score=-1.695, total=  14.2s\n",
      "[CV] batch_size=20, epochs=20 ........................................\n",
      "[CV] ........... batch_size=20, epochs=20, score=-1.167, total=  27.2s\n",
      "[CV] batch_size=20, epochs=20 ........................................\n",
      "[CV] ........... batch_size=20, epochs=20, score=-0.996, total=  27.4s\n",
      "[CV] batch_size=20, epochs=20 ........................................\n",
      "[CV] ........... batch_size=20, epochs=20, score=-0.681, total=  41.9s\n",
      "[CV] batch_size=20, epochs=20 ........................................\n",
      "[CV] ........... batch_size=20, epochs=20, score=-0.749, total=  27.4s\n",
      "[CV] batch_size=20, epochs=20 ........................................\n",
      "[CV] ........... batch_size=20, epochs=20, score=-1.094, total=  41.9s\n",
      "[CV] batch_size=20, epochs=30 ........................................\n",
      "[CV] ........... batch_size=20, epochs=30, score=-1.118, total=  41.4s\n",
      "[CV] batch_size=20, epochs=30 ........................................\n",
      "[CV] ........... batch_size=20, epochs=30, score=-0.588, total=  40.9s\n",
      "[CV] batch_size=20, epochs=30 ........................................\n",
      "[CV] ........... batch_size=20, epochs=30, score=-1.840, total=  41.4s\n",
      "[CV] batch_size=20, epochs=30 ........................................\n",
      "[CV] ........... batch_size=20, epochs=30, score=-1.326, total=  41.8s\n",
      "[CV] batch_size=20, epochs=30 ........................................\n",
      "[CV] ........... batch_size=20, epochs=30, score=-0.827, total=  40.9s\n",
      "[CV] batch_size=40, epochs=10 ........................................\n",
      "[CV] ........... batch_size=40, epochs=10, score=-3.359, total=   7.4s\n",
      "[CV] batch_size=40, epochs=10 ........................................\n",
      "[CV] ........... batch_size=40, epochs=10, score=-0.502, total=  11.0s\n",
      "[CV] batch_size=40, epochs=10 ........................................\n",
      "[CV] ........... batch_size=40, epochs=10, score=-0.962, total=   7.3s\n",
      "[CV] batch_size=40, epochs=10 ........................................\n",
      "[CV] ........... batch_size=40, epochs=10, score=-0.640, total=   7.3s\n",
      "[CV] batch_size=40, epochs=10 ........................................\n",
      "[CV] ........... batch_size=40, epochs=10, score=-2.999, total=   7.4s\n",
      "[CV] batch_size=40, epochs=20 ........................................\n",
      "[CV] ........... batch_size=40, epochs=20, score=-1.280, total=  14.4s\n",
      "[CV] batch_size=40, epochs=20 ........................................\n",
      "[CV] ........... batch_size=40, epochs=20, score=-0.554, total=  14.2s\n",
      "[CV] batch_size=40, epochs=20 ........................................\n",
      "[CV] ........... batch_size=40, epochs=20, score=-0.736, total=  14.1s\n",
      "[CV] batch_size=40, epochs=20 ........................................\n",
      "[CV] ....... batch_size=40, epochs=20, score=-18508.840, total=  21.2s\n",
      "[CV] batch_size=40, epochs=20 ........................................\n",
      "[CV] ........... batch_size=40, epochs=20, score=-1.823, total=  14.0s\n",
      "[CV] batch_size=40, epochs=30 ........................................\n",
      "[CV] ........... batch_size=40, epochs=30, score=-0.899, total=  21.2s\n",
      "[CV] batch_size=40, epochs=30 ........................................\n",
      "[CV] ........... batch_size=40, epochs=30, score=-0.405, total=  21.2s\n",
      "[CV] batch_size=40, epochs=30 ........................................\n",
      "[CV] ........... batch_size=40, epochs=30, score=-0.810, total=  21.2s\n",
      "[CV] batch_size=40, epochs=30 ........................................\n",
      "[CV] ........... batch_size=40, epochs=30, score=-1.152, total=  21.2s\n",
      "[CV] batch_size=40, epochs=30 ........................................\n",
      "[CV] ........... batch_size=40, epochs=30, score=-1.282, total=  21.2s\n"
     ]
    },
    {
     "name": "stderr",
     "output_type": "stream",
     "text": [
      "[Parallel(n_jobs=1)]: Done  45 out of  45 | elapsed: 25.9min finished\n"
     ]
    }
   ],
   "source": [
    "grid_result = grid.fit(X_standardized,y)"
   ]
  },
  {
   "cell_type": "code",
   "execution_count": 16,
   "metadata": {
    "colab": {
     "base_uri": "https://localhost:8080/"
    },
    "id": "-ePL5_24t7FT",
    "outputId": "33dc4306-fd10-4d00-c2ac-7138938ede0d"
   },
   "outputs": [
    {
     "name": "stdout",
     "output_type": "stream",
     "text": [
      "Best : -0.9096513152122497, using {'batch_size': 40, 'epochs': 30}\n",
      "-1.6799649000167847,0.6857593733541538 with: {'batch_size': 10, 'epochs': 10}\n",
      "-1.2042145252227783,0.5491108321576034 with: {'batch_size': 10, 'epochs': 20}\n",
      "-1.0733700573444367,0.431193293917448 with: {'batch_size': 10, 'epochs': 30}\n",
      "-1.0527349829673767,0.3849841020992115 with: {'batch_size': 20, 'epochs': 10}\n",
      "-0.9373561620712281,0.19087131291962817 with: {'batch_size': 20, 'epochs': 20}\n",
      "-1.1398379802703857,0.43054638470908296 with: {'batch_size': 20, 'epochs': 30}\n",
      "-1.6924585223197937,1.2283641533782377 with: {'batch_size': 40, 'epochs': 10}\n",
      "-3702.6465077400208,7403.096681320721 with: {'batch_size': 40, 'epochs': 20}\n",
      "-0.9096513152122497,0.30404907676142756 with: {'batch_size': 40, 'epochs': 30}\n"
     ]
    }
   ],
   "source": [
    "# Summarize the results\n",
    "print('Best : {}, using {}'.format(grid_result.best_score_,grid_result.best_params_))\n",
    "means = grid_result.cv_results_['mean_test_score']\n",
    "stds = grid_result.cv_results_['std_test_score']\n",
    "params = grid_result.cv_results_['params']\n",
    "for mean, stdev, param in zip(means, stds, params):\n",
    "  print('{},{} with: {}'.format(mean, stdev, param))"
   ]
  },
  {
   "cell_type": "code",
   "execution_count": 17,
   "metadata": {
    "id": "lVwe1ZzYvV3r"
   },
   "outputs": [],
   "source": [
    "# Create the model\n",
    "model = KerasRegressor(build_fn = create_model,verbose = 0)\n",
    "# Define the grid search parameters\n",
    "batch_size = [40,50]\n",
    "epochs = [30,40,50]\n",
    "# Make a dictionary of the grid search parameters\n",
    "param_grid = dict(batch_size = batch_size,epochs = epochs)\n",
    "# Build and fit the GridSearchCV\n",
    "grid = GridSearchCV(estimator = model,param_grid = param_grid,cv = KFold(),verbose = 10)\n"
   ]
  },
  {
   "cell_type": "code",
   "execution_count": 18,
   "metadata": {
    "colab": {
     "base_uri": "https://localhost:8080/"
    },
    "id": "ge-G0joKvjtr",
    "outputId": "0e1f6a08-c64e-4371-e71b-1676ca75a75a"
   },
   "outputs": [
    {
     "name": "stdout",
     "output_type": "stream",
     "text": [
      "Fitting 5 folds for each of 6 candidates, totalling 30 fits\n",
      "[CV] batch_size=40, epochs=30 ........................................\n"
     ]
    },
    {
     "name": "stderr",
     "output_type": "stream",
     "text": [
      "[Parallel(n_jobs=1)]: Using backend SequentialBackend with 1 concurrent workers.\n"
     ]
    },
    {
     "name": "stdout",
     "output_type": "stream",
     "text": [
      "[CV] ........... batch_size=40, epochs=30, score=-1.082, total=  21.5s\n",
      "[CV] batch_size=40, epochs=30 ........................................\n"
     ]
    },
    {
     "name": "stderr",
     "output_type": "stream",
     "text": [
      "[Parallel(n_jobs=1)]: Done   1 out of   1 | elapsed:   21.5s remaining:    0.0s\n"
     ]
    },
    {
     "name": "stdout",
     "output_type": "stream",
     "text": [
      "[CV] ........... batch_size=40, epochs=30, score=-1.432, total=  21.3s\n",
      "[CV] batch_size=40, epochs=30 ........................................\n"
     ]
    },
    {
     "name": "stderr",
     "output_type": "stream",
     "text": [
      "[Parallel(n_jobs=1)]: Done   2 out of   2 | elapsed:   42.7s remaining:    0.0s\n"
     ]
    },
    {
     "name": "stdout",
     "output_type": "stream",
     "text": [
      "[CV] ........... batch_size=40, epochs=30, score=-0.723, total=  21.4s\n",
      "[CV] batch_size=40, epochs=30 ........................................\n"
     ]
    },
    {
     "name": "stderr",
     "output_type": "stream",
     "text": [
      "[Parallel(n_jobs=1)]: Done   3 out of   3 | elapsed:  1.1min remaining:    0.0s\n"
     ]
    },
    {
     "name": "stdout",
     "output_type": "stream",
     "text": [
      "[CV] ........... batch_size=40, epochs=30, score=-0.492, total=  21.2s\n",
      "[CV] batch_size=40, epochs=30 ........................................\n"
     ]
    },
    {
     "name": "stderr",
     "output_type": "stream",
     "text": [
      "[Parallel(n_jobs=1)]: Done   4 out of   4 | elapsed:  1.4min remaining:    0.0s\n"
     ]
    },
    {
     "name": "stdout",
     "output_type": "stream",
     "text": [
      "[CV] ........... batch_size=40, epochs=30, score=-1.039, total=  21.3s\n",
      "[CV] batch_size=40, epochs=40 ........................................\n"
     ]
    },
    {
     "name": "stderr",
     "output_type": "stream",
     "text": [
      "[Parallel(n_jobs=1)]: Done   5 out of   5 | elapsed:  1.8min remaining:    0.0s\n"
     ]
    },
    {
     "name": "stdout",
     "output_type": "stream",
     "text": [
      "[CV] ........... batch_size=40, epochs=40, score=-0.799, total=  27.8s\n",
      "[CV] batch_size=40, epochs=40 ........................................\n"
     ]
    },
    {
     "name": "stderr",
     "output_type": "stream",
     "text": [
      "[Parallel(n_jobs=1)]: Done   6 out of   6 | elapsed:  2.2min remaining:    0.0s\n"
     ]
    },
    {
     "name": "stdout",
     "output_type": "stream",
     "text": [
      "[CV] ........... batch_size=40, epochs=40, score=-0.901, total=  41.8s\n",
      "[CV] batch_size=40, epochs=40 ........................................\n"
     ]
    },
    {
     "name": "stderr",
     "output_type": "stream",
     "text": [
      "[Parallel(n_jobs=1)]: Done   7 out of   7 | elapsed:  2.9min remaining:    0.0s\n"
     ]
    },
    {
     "name": "stdout",
     "output_type": "stream",
     "text": [
      "[CV] ........... batch_size=40, epochs=40, score=-1.114, total=  27.6s\n",
      "[CV] batch_size=40, epochs=40 ........................................\n"
     ]
    },
    {
     "name": "stderr",
     "output_type": "stream",
     "text": [
      "[Parallel(n_jobs=1)]: Done   8 out of   8 | elapsed:  3.4min remaining:    0.0s\n"
     ]
    },
    {
     "name": "stdout",
     "output_type": "stream",
     "text": [
      "[CV] ........... batch_size=40, epochs=40, score=-0.435, total=  27.9s\n",
      "[CV] batch_size=40, epochs=40 ........................................\n"
     ]
    },
    {
     "name": "stderr",
     "output_type": "stream",
     "text": [
      "[Parallel(n_jobs=1)]: Done   9 out of   9 | elapsed:  3.9min remaining:    0.0s\n"
     ]
    },
    {
     "name": "stdout",
     "output_type": "stream",
     "text": [
      "[CV] ........... batch_size=40, epochs=40, score=-2.029, total=  41.7s\n",
      "[CV] batch_size=40, epochs=50 ........................................\n",
      "[CV] ........... batch_size=40, epochs=50, score=-1.638, total=  34.4s\n",
      "[CV] batch_size=40, epochs=50 ........................................\n",
      "[CV] ........... batch_size=40, epochs=50, score=-0.932, total=  34.6s\n",
      "[CV] batch_size=40, epochs=50 ........................................\n",
      "[CV] ........... batch_size=40, epochs=50, score=-0.694, total=  34.8s\n",
      "[CV] batch_size=40, epochs=50 ........................................\n",
      "[CV] ........... batch_size=40, epochs=50, score=-1.161, total=  34.8s\n",
      "[CV] batch_size=40, epochs=50 ........................................\n",
      "[CV] ........... batch_size=40, epochs=50, score=-1.056, total=  34.3s\n",
      "[CV] batch_size=50, epochs=30 ........................................\n",
      "[CV] ........... batch_size=50, epochs=30, score=-1.664, total=  17.0s\n",
      "[CV] batch_size=50, epochs=30 ........................................\n",
      "[CV] ........... batch_size=50, epochs=30, score=-0.882, total=  17.0s\n",
      "[CV] batch_size=50, epochs=30 ........................................\n",
      "[CV] ........... batch_size=50, epochs=30, score=-0.961, total=  21.2s\n",
      "[CV] batch_size=50, epochs=30 ........................................\n",
      "[CV] ........... batch_size=50, epochs=30, score=-0.602, total=  16.6s\n",
      "[CV] batch_size=50, epochs=30 ........................................\n",
      "[CV] ........... batch_size=50, epochs=30, score=-0.954, total=  21.2s\n",
      "[CV] batch_size=50, epochs=40 ........................................\n",
      "[CV] ........... batch_size=50, epochs=40, score=-1.007, total=  41.6s\n",
      "[CV] batch_size=50, epochs=40 ........................................\n",
      "[CV] ........... batch_size=50, epochs=40, score=-0.708, total=  22.2s\n",
      "[CV] batch_size=50, epochs=40 ........................................\n",
      "[CV] ........... batch_size=50, epochs=40, score=-1.404, total=  41.7s\n",
      "[CV] batch_size=50, epochs=40 ........................................\n",
      "[CV] ........... batch_size=50, epochs=40, score=-0.493, total=  22.3s\n",
      "[CV] batch_size=50, epochs=40 ........................................\n",
      "[CV] ........... batch_size=50, epochs=40, score=-0.855, total=  22.3s\n",
      "[CV] batch_size=50, epochs=50 ........................................\n",
      "[CV] ........... batch_size=50, epochs=50, score=-1.516, total=  27.8s\n",
      "[CV] batch_size=50, epochs=50 ........................................\n",
      "[CV] ........... batch_size=50, epochs=50, score=-0.574, total=  41.7s\n",
      "[CV] batch_size=50, epochs=50 ........................................\n",
      "[CV] ........... batch_size=50, epochs=50, score=-0.929, total=  28.0s\n",
      "[CV] batch_size=50, epochs=50 ........................................\n",
      "[CV] ........... batch_size=50, epochs=50, score=-0.574, total=  27.7s\n",
      "[CV] batch_size=50, epochs=50 ........................................\n",
      "[CV] ........... batch_size=50, epochs=50, score=-1.264, total=  27.3s\n"
     ]
    },
    {
     "name": "stderr",
     "output_type": "stream",
     "text": [
      "[Parallel(n_jobs=1)]: Done  30 out of  30 | elapsed: 14.0min finished\n"
     ]
    }
   ],
   "source": [
    "grid_result = grid.fit(X_standardized,y)"
   ]
  },
  {
   "cell_type": "code",
   "execution_count": 19,
   "metadata": {
    "colab": {
     "base_uri": "https://localhost:8080/"
    },
    "id": "lssYLSU8vqgj",
    "outputId": "5a1097d4-4268-454a-d114-f9ed72833322"
   },
   "outputs": [
    {
     "name": "stdout",
     "output_type": "stream",
     "text": [
      "Best : -0.8934893548488617, using {'batch_size': 50, 'epochs': 40}\n",
      "-0.9535381972789765,0.3220494318039668 with: {'batch_size': 40, 'epochs': 30}\n",
      "-1.055517554283142,0.5340523365467541 with: {'batch_size': 40, 'epochs': 40}\n",
      "-1.096095049381256,0.3122906604361459 with: {'batch_size': 40, 'epochs': 50}\n",
      "-1.0124719619750977,0.3510564406454085 with: {'batch_size': 50, 'epochs': 30}\n",
      "-0.8934893548488617,0.3064669234989667 with: {'batch_size': 50, 'epochs': 40}\n",
      "-0.9715386629104614,0.3742656707650369 with: {'batch_size': 50, 'epochs': 50}\n"
     ]
    }
   ],
   "source": [
    "# Summarize the results\n",
    "print('Best : {}, using {}'.format(grid_result.best_score_,grid_result.best_params_))\n",
    "means = grid_result.cv_results_['mean_test_score']\n",
    "stds = grid_result.cv_results_['std_test_score']\n",
    "params = grid_result.cv_results_['params']\n",
    "for mean, stdev, param in zip(means, stds, params):\n",
    "  print('{},{} with: {}'.format(mean, stdev, param))"
   ]
  },
  {
   "cell_type": "markdown",
   "metadata": {
    "id": "cdAyLN54t7FU"
   },
   "source": [
    "#### Tuning of Hyperparameters:- Learning rate and Drop out rate"
   ]
  },
  {
   "cell_type": "code",
   "execution_count": 21,
   "metadata": {
    "colab": {
     "base_uri": "https://localhost:8080/"
    },
    "id": "8oz_0EFPt7FU",
    "outputId": "bb833b00-945d-448a-b87e-318afb1b9aea"
   },
   "outputs": [
    {
     "name": "stdout",
     "output_type": "stream",
     "text": [
      "Fitting 5 folds for each of 9 candidates, totalling 45 fits\n",
      "[CV] dropout_rate=0.0, learning_rate=0.001 ...........................\n"
     ]
    },
    {
     "name": "stderr",
     "output_type": "stream",
     "text": [
      "[Parallel(n_jobs=1)]: Using backend SequentialBackend with 1 concurrent workers.\n",
      "/usr/local/lib/python3.7/dist-packages/keras/optimizer_v2/optimizer_v2.py:356: UserWarning: The `lr` argument is deprecated, use `learning_rate` instead.\n",
      "  \"The `lr` argument is deprecated, use `learning_rate` instead.\")\n"
     ]
    },
    {
     "name": "stdout",
     "output_type": "stream",
     "text": [
      "[CV]  dropout_rate=0.0, learning_rate=0.001, score=-6.673, total=  22.5s\n",
      "[CV] dropout_rate=0.0, learning_rate=0.001 ...........................\n"
     ]
    },
    {
     "name": "stderr",
     "output_type": "stream",
     "text": [
      "[Parallel(n_jobs=1)]: Done   1 out of   1 | elapsed:   22.5s remaining:    0.0s\n"
     ]
    },
    {
     "name": "stdout",
     "output_type": "stream",
     "text": [
      "[CV]  dropout_rate=0.0, learning_rate=0.001, score=-1.928, total=  22.5s\n",
      "[CV] dropout_rate=0.0, learning_rate=0.001 ...........................\n"
     ]
    },
    {
     "name": "stderr",
     "output_type": "stream",
     "text": [
      "[Parallel(n_jobs=1)]: Done   2 out of   2 | elapsed:   45.0s remaining:    0.0s\n"
     ]
    },
    {
     "name": "stdout",
     "output_type": "stream",
     "text": [
      "[CV]  dropout_rate=0.0, learning_rate=0.001, score=-2.446, total=  22.2s\n",
      "[CV] dropout_rate=0.0, learning_rate=0.001 ...........................\n"
     ]
    },
    {
     "name": "stderr",
     "output_type": "stream",
     "text": [
      "[Parallel(n_jobs=1)]: Done   3 out of   3 | elapsed:  1.1min remaining:    0.0s\n"
     ]
    },
    {
     "name": "stdout",
     "output_type": "stream",
     "text": [
      "[CV]  dropout_rate=0.0, learning_rate=0.001, score=-4.737, total=  22.1s\n",
      "[CV] dropout_rate=0.0, learning_rate=0.001 ...........................\n"
     ]
    },
    {
     "name": "stderr",
     "output_type": "stream",
     "text": [
      "[Parallel(n_jobs=1)]: Done   4 out of   4 | elapsed:  1.5min remaining:    0.0s\n"
     ]
    },
    {
     "name": "stdout",
     "output_type": "stream",
     "text": [
      "[CV]  dropout_rate=0.0, learning_rate=0.001, score=-0.976, total=  22.2s\n",
      "[CV] dropout_rate=0.0, learning_rate=0.01 ............................\n"
     ]
    },
    {
     "name": "stderr",
     "output_type": "stream",
     "text": [
      "[Parallel(n_jobs=1)]: Done   5 out of   5 | elapsed:  1.9min remaining:    0.0s\n"
     ]
    },
    {
     "name": "stdout",
     "output_type": "stream",
     "text": [
      "[CV]  dropout_rate=0.0, learning_rate=0.01, score=-1.176, total=  41.7s\n",
      "[CV] dropout_rate=0.0, learning_rate=0.01 ............................\n"
     ]
    },
    {
     "name": "stderr",
     "output_type": "stream",
     "text": [
      "[Parallel(n_jobs=1)]: Done   6 out of   6 | elapsed:  2.6min remaining:    0.0s\n"
     ]
    },
    {
     "name": "stdout",
     "output_type": "stream",
     "text": [
      "[CV]  dropout_rate=0.0, learning_rate=0.01, score=-0.998, total=  22.4s\n",
      "[CV] dropout_rate=0.0, learning_rate=0.01 ............................\n"
     ]
    },
    {
     "name": "stderr",
     "output_type": "stream",
     "text": [
      "[Parallel(n_jobs=1)]: Done   7 out of   7 | elapsed:  2.9min remaining:    0.0s\n"
     ]
    },
    {
     "name": "stdout",
     "output_type": "stream",
     "text": [
      "[CV]  dropout_rate=0.0, learning_rate=0.01, score=-0.732, total=  42.1s\n",
      "[CV] dropout_rate=0.0, learning_rate=0.01 ............................\n"
     ]
    },
    {
     "name": "stderr",
     "output_type": "stream",
     "text": [
      "[Parallel(n_jobs=1)]: Done   8 out of   8 | elapsed:  3.6min remaining:    0.0s\n"
     ]
    },
    {
     "name": "stdout",
     "output_type": "stream",
     "text": [
      "[CV]  dropout_rate=0.0, learning_rate=0.01, score=-0.595, total=  22.3s\n",
      "[CV] dropout_rate=0.0, learning_rate=0.01 ............................\n"
     ]
    },
    {
     "name": "stderr",
     "output_type": "stream",
     "text": [
      "[Parallel(n_jobs=1)]: Done   9 out of   9 | elapsed:  4.0min remaining:    0.0s\n"
     ]
    },
    {
     "name": "stdout",
     "output_type": "stream",
     "text": [
      "[CV]  dropout_rate=0.0, learning_rate=0.01, score=-1.288, total=  22.2s\n",
      "[CV] dropout_rate=0.0, learning_rate=0.1 .............................\n",
      "[CV]  dropout_rate=0.0, learning_rate=0.1, score=-2.587, total=  41.7s\n",
      "[CV] dropout_rate=0.0, learning_rate=0.1 .............................\n",
      "[CV]  dropout_rate=0.0, learning_rate=0.1, score=-0.887, total=  41.7s\n",
      "[CV] dropout_rate=0.0, learning_rate=0.1 .............................\n",
      "[CV]  dropout_rate=0.0, learning_rate=0.1, score=-2.351, total=  22.4s\n",
      "[CV] dropout_rate=0.0, learning_rate=0.1 .............................\n",
      "[CV]  dropout_rate=0.0, learning_rate=0.1, score=-0.823, total=  22.5s\n",
      "[CV] dropout_rate=0.0, learning_rate=0.1 .............................\n",
      "[CV]  dropout_rate=0.0, learning_rate=0.1, score=-2.343, total=  21.9s\n",
      "[CV] dropout_rate=0.1, learning_rate=0.001 ...........................\n",
      "[CV]  dropout_rate=0.1, learning_rate=0.001, score=-55.003, total=  41.8s\n",
      "[CV] dropout_rate=0.1, learning_rate=0.001 ...........................\n",
      "[CV]  dropout_rate=0.1, learning_rate=0.001, score=-34.679, total=  24.0s\n",
      "[CV] dropout_rate=0.1, learning_rate=0.001 ...........................\n",
      "[CV]  dropout_rate=0.1, learning_rate=0.001, score=-58.184, total=  23.7s\n",
      "[CV] dropout_rate=0.1, learning_rate=0.001 ...........................\n",
      "[CV]  dropout_rate=0.1, learning_rate=0.001, score=-96.532, total=  23.7s\n",
      "[CV] dropout_rate=0.1, learning_rate=0.001 ...........................\n",
      "[CV]  dropout_rate=0.1, learning_rate=0.001, score=-17528.010, total=  23.8s\n",
      "[CV] dropout_rate=0.1, learning_rate=0.01 ............................\n",
      "[CV]  dropout_rate=0.1, learning_rate=0.01, score=-7.521, total=  23.4s\n",
      "[CV] dropout_rate=0.1, learning_rate=0.01 ............................\n",
      "[CV]  dropout_rate=0.1, learning_rate=0.01, score=-10.368, total=  23.8s\n",
      "[CV] dropout_rate=0.1, learning_rate=0.01 ............................\n",
      "[CV]  dropout_rate=0.1, learning_rate=0.01, score=-41.753, total=  23.7s\n",
      "[CV] dropout_rate=0.1, learning_rate=0.01 ............................\n",
      "[CV]  dropout_rate=0.1, learning_rate=0.01, score=-16.748, total=  41.8s\n",
      "[CV] dropout_rate=0.1, learning_rate=0.01 ............................\n",
      "[CV]  dropout_rate=0.1, learning_rate=0.01, score=-18.845, total=  24.2s\n",
      "[CV] dropout_rate=0.1, learning_rate=0.1 .............................\n",
      "[CV]  dropout_rate=0.1, learning_rate=0.1, score=-15.990, total=  24.2s\n",
      "[CV] dropout_rate=0.1, learning_rate=0.1 .............................\n",
      "[CV]  dropout_rate=0.1, learning_rate=0.1, score=-22.227, total=  23.8s\n",
      "[CV] dropout_rate=0.1, learning_rate=0.1 .............................\n",
      "[CV]  dropout_rate=0.1, learning_rate=0.1, score=-12.785, total=  42.1s\n",
      "[CV] dropout_rate=0.1, learning_rate=0.1 .............................\n",
      "[CV]  dropout_rate=0.1, learning_rate=0.1, score=-32.341, total=  41.8s\n",
      "[CV] dropout_rate=0.1, learning_rate=0.1 .............................\n",
      "[CV]  dropout_rate=0.1, learning_rate=0.1, score=-12.617, total=  41.8s\n",
      "[CV] dropout_rate=0.2, learning_rate=0.001 ...........................\n",
      "[CV]  dropout_rate=0.2, learning_rate=0.001, score=-185.944, total=  24.0s\n",
      "[CV] dropout_rate=0.2, learning_rate=0.001 ...........................\n",
      "[CV]  dropout_rate=0.2, learning_rate=0.001, score=-252.575, total=  24.1s\n",
      "[CV] dropout_rate=0.2, learning_rate=0.001 ...........................\n",
      "[CV]  dropout_rate=0.2, learning_rate=0.001, score=-825.596, total=  23.9s\n",
      "[CV] dropout_rate=0.2, learning_rate=0.001 ...........................\n",
      "[CV]  dropout_rate=0.2, learning_rate=0.001, score=-845.600, total=  23.7s\n",
      "[CV] dropout_rate=0.2, learning_rate=0.001 ...........................\n",
      "[CV]  dropout_rate=0.2, learning_rate=0.001, score=-107.876, total=  23.8s\n",
      "[CV] dropout_rate=0.2, learning_rate=0.01 ............................\n",
      "[CV]  dropout_rate=0.2, learning_rate=0.01, score=-159.402, total=  24.0s\n",
      "[CV] dropout_rate=0.2, learning_rate=0.01 ............................\n",
      "[CV]  dropout_rate=0.2, learning_rate=0.01, score=-25.376, total=  23.9s\n",
      "[CV] dropout_rate=0.2, learning_rate=0.01 ............................\n",
      "[CV]  dropout_rate=0.2, learning_rate=0.01, score=-50.257, total=  24.2s\n",
      "[CV] dropout_rate=0.2, learning_rate=0.01 ............................\n",
      "[CV]  dropout_rate=0.2, learning_rate=0.01, score=-18508.838, total=  24.1s\n",
      "[CV] dropout_rate=0.2, learning_rate=0.01 ............................\n",
      "[CV]  dropout_rate=0.2, learning_rate=0.01, score=-61.741, total=  41.8s\n",
      "[CV] dropout_rate=0.2, learning_rate=0.1 .............................\n",
      "[CV]  dropout_rate=0.2, learning_rate=0.1, score=-53.915, total=  24.1s\n",
      "[CV] dropout_rate=0.2, learning_rate=0.1 .............................\n",
      "[CV]  dropout_rate=0.2, learning_rate=0.1, score=-17.765, total=  24.1s\n",
      "[CV] dropout_rate=0.2, learning_rate=0.1 .............................\n",
      "[CV]  dropout_rate=0.2, learning_rate=0.1, score=-15.858, total=  24.2s\n",
      "[CV] dropout_rate=0.2, learning_rate=0.1 .............................\n",
      "[CV]  dropout_rate=0.2, learning_rate=0.1, score=-20.180, total=  23.9s\n",
      "[CV] dropout_rate=0.2, learning_rate=0.1 .............................\n",
      "[CV]  dropout_rate=0.2, learning_rate=0.1, score=-60.957, total=  23.8s\n"
     ]
    },
    {
     "name": "stderr",
     "output_type": "stream",
     "text": [
      "[Parallel(n_jobs=1)]: Done  45 out of  45 | elapsed: 20.6min finished\n"
     ]
    }
   ],
   "source": [
    "from keras.layers import Dropout\n",
    "\n",
    "# Defining the model\n",
    "\n",
    "def create_model(learning_rate,dropout_rate):\n",
    "    model = Sequential()\n",
    "    model.add(Dense(8,input_dim = 10,kernel_initializer = 'normal',activation = 'relu'))\n",
    "    model.add(Dropout(dropout_rate))\n",
    "    model.add(Dense(4,kernel_initializer = 'normal',activation = 'relu'))\n",
    "    model.add(Dropout(dropout_rate))\n",
    "    model.add(Dense(1,activation = 'relu'))\n",
    "    \n",
    "    adam = Adam(lr = learning_rate)\n",
    "    model.compile(loss = 'mean_squared_error',optimizer = adam,metrics = ['mse'])\n",
    "    return model\n",
    "\n",
    "# Create the model\n",
    "\n",
    "model = KerasRegressor(build_fn = create_model,verbose = 0,batch_size = 50,epochs = 40)\n",
    "\n",
    "# Define the grid search parameters\n",
    "\n",
    "learning_rate = [0.001,0.01,0.1]\n",
    "dropout_rate = [0.0,0.1,0.2]\n",
    "\n",
    "# Make a dictionary of the grid search parameters\n",
    "\n",
    "param_grids = dict(learning_rate = learning_rate,dropout_rate = dropout_rate)\n",
    "\n",
    "# Build and fit the GridSearchCV\n",
    "\n",
    "grid = GridSearchCV(estimator = model,param_grid = param_grids,cv = KFold(),verbose = 10)\n",
    "grid_result = grid.fit(X_standardized,y)\n"
   ]
  },
  {
   "cell_type": "code",
   "execution_count": 22,
   "metadata": {
    "colab": {
     "base_uri": "https://localhost:8080/"
    },
    "id": "Pb9ACjXPt7FW",
    "outputId": "dfff5cd2-c431-474a-ab8b-687d84977361"
   },
   "outputs": [
    {
     "name": "stdout",
     "output_type": "stream",
     "text": [
      "Best : -0.957591450214386, using {'dropout_rate': 0.0, 'learning_rate': 0.01}\n",
      "-3.3521341681480408,2.07107321839519 with: {'dropout_rate': 0.0, 'learning_rate': 0.001}\n",
      "-0.957591450214386,0.26119644563050065 with: {'dropout_rate': 0.0, 'learning_rate': 0.01}\n",
      "-1.7980831623077393,0.7754660556416205 with: {'dropout_rate': 0.0, 'learning_rate': 0.1}\n",
      "-3554.481507110596,6986.792742297634 with: {'dropout_rate': 0.1, 'learning_rate': 0.001}\n",
      "-19.046792030334473,12.075134839234027 with: {'dropout_rate': 0.1, 'learning_rate': 0.01}\n",
      "-19.192231750488283,7.438275612114802 with: {'dropout_rate': 0.1, 'learning_rate': 0.1}\n",
      "-443.51842193603517,323.4541934798806 with: {'dropout_rate': 0.2, 'learning_rate': 0.001}\n",
      "-3761.12286529541,7373.99816568338 with: {'dropout_rate': 0.2, 'learning_rate': 0.01}\n",
      "-33.73481140136719,19.527543926612772 with: {'dropout_rate': 0.2, 'learning_rate': 0.1}\n"
     ]
    }
   ],
   "source": [
    "# Summarize the results\n",
    "print('Best : {}, using {}'.format(grid_result.best_score_,grid_result.best_params_))\n",
    "means = grid_result.cv_results_['mean_test_score']\n",
    "stds = grid_result.cv_results_['std_test_score']\n",
    "params = grid_result.cv_results_['params']\n",
    "for mean, stdev, param in zip(means, stds, params):\n",
    "  print('{},{} with: {}'.format(mean, stdev, param))"
   ]
  },
  {
   "cell_type": "markdown",
   "metadata": {
    "id": "pyGDbpO4t7FW"
   },
   "source": [
    "#### Tuning of Hyperparameters:- Activation Function and Kernel Initializer"
   ]
  },
  {
   "cell_type": "code",
   "execution_count": 23,
   "metadata": {
    "colab": {
     "base_uri": "https://localhost:8080/"
    },
    "id": "j6Z9SSHIt7FX",
    "outputId": "35cd381a-f405-449f-985f-d87ada3910e3"
   },
   "outputs": [
    {
     "name": "stdout",
     "output_type": "stream",
     "text": [
      "Fitting 5 folds for each of 12 candidates, totalling 60 fits\n",
      "[CV] activation_function=softmax, init=uniform .......................\n"
     ]
    },
    {
     "name": "stderr",
     "output_type": "stream",
     "text": [
      "[Parallel(n_jobs=1)]: Using backend SequentialBackend with 1 concurrent workers.\n",
      "/usr/local/lib/python3.7/dist-packages/keras/optimizer_v2/optimizer_v2.py:356: UserWarning: The `lr` argument is deprecated, use `learning_rate` instead.\n",
      "  \"The `lr` argument is deprecated, use `learning_rate` instead.\")\n"
     ]
    },
    {
     "name": "stdout",
     "output_type": "stream",
     "text": [
      "[CV]  activation_function=softmax, init=uniform, score=-190.885, total=  23.5s\n",
      "[CV] activation_function=softmax, init=uniform .......................\n"
     ]
    },
    {
     "name": "stderr",
     "output_type": "stream",
     "text": [
      "[Parallel(n_jobs=1)]: Done   1 out of   1 | elapsed:   23.5s remaining:    0.0s\n"
     ]
    },
    {
     "name": "stdout",
     "output_type": "stream",
     "text": [
      "[CV]  activation_function=softmax, init=uniform, score=-4.255, total=  41.7s\n",
      "[CV] activation_function=softmax, init=uniform .......................\n"
     ]
    },
    {
     "name": "stderr",
     "output_type": "stream",
     "text": [
      "[Parallel(n_jobs=1)]: Done   2 out of   2 | elapsed:  1.1min remaining:    0.0s\n"
     ]
    },
    {
     "name": "stdout",
     "output_type": "stream",
     "text": [
      "[CV]  activation_function=softmax, init=uniform, score=-176.852, total=  23.7s\n",
      "[CV] activation_function=softmax, init=uniform .......................\n"
     ]
    },
    {
     "name": "stderr",
     "output_type": "stream",
     "text": [
      "[Parallel(n_jobs=1)]: Done   3 out of   3 | elapsed:  1.5min remaining:    0.0s\n"
     ]
    },
    {
     "name": "stdout",
     "output_type": "stream",
     "text": [
      "[CV]  activation_function=softmax, init=uniform, score=-83.752, total=  23.3s\n",
      "[CV] activation_function=softmax, init=uniform .......................\n"
     ]
    },
    {
     "name": "stderr",
     "output_type": "stream",
     "text": [
      "[Parallel(n_jobs=1)]: Done   4 out of   4 | elapsed:  1.9min remaining:    0.0s\n"
     ]
    },
    {
     "name": "stdout",
     "output_type": "stream",
     "text": [
      "[CV]  activation_function=softmax, init=uniform, score=-66.531, total=  22.9s\n",
      "[CV] activation_function=softmax, init=normal ........................\n"
     ]
    },
    {
     "name": "stderr",
     "output_type": "stream",
     "text": [
      "[Parallel(n_jobs=1)]: Done   5 out of   5 | elapsed:  2.3min remaining:    0.0s\n"
     ]
    },
    {
     "name": "stdout",
     "output_type": "stream",
     "text": [
      "[CV]  activation_function=softmax, init=normal, score=-200.543, total=  41.7s\n",
      "[CV] activation_function=softmax, init=normal ........................\n"
     ]
    },
    {
     "name": "stderr",
     "output_type": "stream",
     "text": [
      "[Parallel(n_jobs=1)]: Done   6 out of   6 | elapsed:  2.9min remaining:    0.0s\n"
     ]
    },
    {
     "name": "stdout",
     "output_type": "stream",
     "text": [
      "[CV]  activation_function=softmax, init=normal, score=-6.750, total=  22.8s\n",
      "[CV] activation_function=softmax, init=normal ........................\n"
     ]
    },
    {
     "name": "stderr",
     "output_type": "stream",
     "text": [
      "[Parallel(n_jobs=1)]: Done   7 out of   7 | elapsed:  3.3min remaining:    0.0s\n"
     ]
    },
    {
     "name": "stdout",
     "output_type": "stream",
     "text": [
      "[CV]  activation_function=softmax, init=normal, score=-230.297, total=  22.9s\n",
      "[CV] activation_function=softmax, init=normal ........................\n"
     ]
    },
    {
     "name": "stderr",
     "output_type": "stream",
     "text": [
      "[Parallel(n_jobs=1)]: Done   8 out of   8 | elapsed:  3.7min remaining:    0.0s\n"
     ]
    },
    {
     "name": "stdout",
     "output_type": "stream",
     "text": [
      "[CV]  activation_function=softmax, init=normal, score=-101.262, total=  41.7s\n",
      "[CV] activation_function=softmax, init=normal ........................\n"
     ]
    },
    {
     "name": "stderr",
     "output_type": "stream",
     "text": [
      "[Parallel(n_jobs=1)]: Done   9 out of   9 | elapsed:  4.4min remaining:    0.0s\n"
     ]
    },
    {
     "name": "stdout",
     "output_type": "stream",
     "text": [
      "[CV]  activation_function=softmax, init=normal, score=-79.593, total=  22.9s\n",
      "[CV] activation_function=softmax, init=zero ..........................\n",
      "[CV]  activation_function=softmax, init=zero, score=-347.097, total=  41.7s\n",
      "[CV] activation_function=softmax, init=zero ..........................\n",
      "[CV]  activation_function=softmax, init=zero, score=-117.104, total=  22.7s\n",
      "[CV] activation_function=softmax, init=zero ..........................\n",
      "[CV]  activation_function=softmax, init=zero, score=-328.545, total=  22.5s\n",
      "[CV] activation_function=softmax, init=zero ..........................\n",
      "[CV]  activation_function=softmax, init=zero, score=-241.376, total=  42.0s\n",
      "[CV] activation_function=softmax, init=zero ..........................\n",
      "[CV]  activation_function=softmax, init=zero, score=-251.824, total=  41.7s\n",
      "[CV] activation_function=relu, init=uniform ..........................\n",
      "[CV]  activation_function=relu, init=uniform, score=-0.975, total=  41.7s\n",
      "[CV] activation_function=relu, init=uniform ..........................\n",
      "[CV]  activation_function=relu, init=uniform, score=-0.461, total=  22.0s\n",
      "[CV] activation_function=relu, init=uniform ..........................\n",
      "[CV]  activation_function=relu, init=uniform, score=-0.627, total=  41.7s\n",
      "[CV] activation_function=relu, init=uniform ..........................\n",
      "[CV]  activation_function=relu, init=uniform, score=-0.465, total=  21.8s\n",
      "[CV] activation_function=relu, init=uniform ..........................\n",
      "[CV]  activation_function=relu, init=uniform, score=-1.550, total=  41.7s\n",
      "[CV] activation_function=relu, init=normal ...........................\n",
      "[CV]  activation_function=relu, init=normal, score=-1.244, total=  41.7s\n",
      "[CV] activation_function=relu, init=normal ...........................\n",
      "[CV]  activation_function=relu, init=normal, score=-1874.316, total=  41.7s\n",
      "[CV] activation_function=relu, init=normal ...........................\n",
      "[CV]  activation_function=relu, init=normal, score=-0.803, total=  22.0s\n",
      "[CV] activation_function=relu, init=normal ...........................\n",
      "[CV]  activation_function=relu, init=normal, score=-2492.664, total=  22.1s\n",
      "[CV] activation_function=relu, init=normal ...........................\n",
      "[CV]  activation_function=relu, init=normal, score=-0.874, total=  42.0s\n",
      "[CV] activation_function=relu, init=zero .............................\n",
      "[CV]  activation_function=relu, init=zero, score=-2663.022, total=  41.7s\n",
      "[CV] activation_function=relu, init=zero .............................\n",
      "[CV]  activation_function=relu, init=zero, score=-1874.739, total=  22.0s\n",
      "[CV] activation_function=relu, init=zero .............................\n",
      "[CV]  activation_function=relu, init=zero, score=-2878.675, total=  41.7s\n",
      "[CV] activation_function=relu, init=zero .............................\n",
      "[CV]  activation_function=relu, init=zero, score=-2493.103, total=  22.0s\n",
      "[CV] activation_function=relu, init=zero .............................\n",
      "[CV]  activation_function=relu, init=zero, score=-2157.651, total=  22.0s\n",
      "[CV] activation_function=tanh, init=uniform ..........................\n",
      "[CV]  activation_function=tanh, init=uniform, score=-339.370, total=  21.9s\n",
      "[CV] activation_function=tanh, init=uniform ..........................\n",
      "[CV]  activation_function=tanh, init=uniform, score=-0.591, total=  21.8s\n",
      "[CV] activation_function=tanh, init=uniform ..........................\n",
      "[CV]  activation_function=tanh, init=uniform, score=-316.440, total=  22.3s\n",
      "[CV] activation_function=tanh, init=uniform ..........................\n",
      "[CV]  activation_function=tanh, init=uniform, score=-0.779, total=  21.9s\n",
      "[CV] activation_function=tanh, init=uniform ..........................\n",
      "[CV]  activation_function=tanh, init=uniform, score=-1.654, total=  22.0s\n",
      "[CV] activation_function=tanh, init=normal ...........................\n",
      "[CV]  activation_function=tanh, init=normal, score=-338.304, total=  41.7s\n",
      "[CV] activation_function=tanh, init=normal ...........................\n",
      "[CV]  activation_function=tanh, init=normal, score=-0.965, total=  22.5s\n",
      "[CV] activation_function=tanh, init=normal ...........................\n",
      "[CV]  activation_function=tanh, init=normal, score=-311.011, total=  41.7s\n",
      "[CV] activation_function=tanh, init=normal ...........................\n",
      "[CV]  activation_function=tanh, init=normal, score=-236.199, total=  22.1s\n",
      "[CV] activation_function=tanh, init=normal ...........................\n",
      "[CV]  activation_function=tanh, init=normal, score=-261.073, total=  41.7s\n",
      "[CV] activation_function=tanh, init=zero .............................\n",
      "[CV]  activation_function=tanh, init=zero, score=-338.786, total=  22.1s\n",
      "[CV] activation_function=tanh, init=zero .............................\n",
      "[CV]  activation_function=tanh, init=zero, score=-133.389, total=  22.2s\n",
      "[CV] activation_function=tanh, init=zero .............................\n",
      "[CV]  activation_function=tanh, init=zero, score=-314.647, total=  21.9s\n",
      "[CV] activation_function=tanh, init=zero .............................\n",
      "[CV]  activation_function=tanh, init=zero, score=-236.462, total=  41.7s\n",
      "[CV] activation_function=tanh, init=zero .............................\n",
      "[CV]  activation_function=tanh, init=zero, score=-259.485, total=  21.9s\n",
      "[CV] activation_function=linear, init=uniform ........................\n",
      "[CV]  activation_function=linear, init=uniform, score=-1.975, total=  21.4s\n",
      "[CV] activation_function=linear, init=uniform ........................\n",
      "[CV]  activation_function=linear, init=uniform, score=-0.883, total=  21.4s\n",
      "[CV] activation_function=linear, init=uniform ........................\n",
      "[CV]  activation_function=linear, init=uniform, score=-0.932, total=  42.0s\n",
      "[CV] activation_function=linear, init=uniform ........................\n",
      "[CV]  activation_function=linear, init=uniform, score=-0.577, total=  41.7s\n",
      "[CV] activation_function=linear, init=uniform ........................\n",
      "[CV]  activation_function=linear, init=uniform, score=-0.859, total=  21.0s\n",
      "[CV] activation_function=linear, init=normal .........................\n",
      "[CV]  activation_function=linear, init=normal, score=-1.304, total=  21.2s\n",
      "[CV] activation_function=linear, init=normal .........................\n",
      "[CV]  activation_function=linear, init=normal, score=-0.673, total=  21.4s\n",
      "[CV] activation_function=linear, init=normal .........................\n",
      "[CV]  activation_function=linear, init=normal, score=-0.618, total=  21.7s\n",
      "[CV] activation_function=linear, init=normal .........................\n",
      "[CV]  activation_function=linear, init=normal, score=-0.691, total=  21.8s\n",
      "[CV] activation_function=linear, init=normal .........................\n",
      "[CV]  activation_function=linear, init=normal, score=-0.886, total=  21.5s\n",
      "[CV] activation_function=linear, init=zero ...........................\n",
      "[CV]  activation_function=linear, init=zero, score=-345.898, total=  21.8s\n",
      "[CV] activation_function=linear, init=zero ...........................\n",
      "[CV]  activation_function=linear, init=zero, score=-143.579, total=  21.8s\n",
      "[CV] activation_function=linear, init=zero ...........................\n",
      "[CV]  activation_function=linear, init=zero, score=-319.100, total=  21.6s\n",
      "[CV] activation_function=linear, init=zero ...........................\n",
      "[CV]  activation_function=linear, init=zero, score=-237.644, total=  22.2s\n",
      "[CV] activation_function=linear, init=zero ...........................\n",
      "[CV]  activation_function=linear, init=zero, score=-262.020, total=  22.1s\n"
     ]
    },
    {
     "name": "stderr",
     "output_type": "stream",
     "text": [
      "[Parallel(n_jobs=1)]: Done  60 out of  60 | elapsed: 28.7min finished\n"
     ]
    }
   ],
   "source": [
    "# Defining the model\n",
    "\n",
    "def create_model(activation_function,init):\n",
    "    model = Sequential()\n",
    "    model.add(Dense(8,input_dim = 10,kernel_initializer = init,activation = activation_function))\n",
    "    model.add(Dropout(0.0))\n",
    "    model.add(Dense(4,kernel_initializer = init,activation = activation_function))\n",
    "    model.add(Dropout(0.0))\n",
    "    model.add(Dense(1,activation = 'linear'))\n",
    "    \n",
    "    adam = Adam(lr = 0.01)\n",
    "    model.compile(loss = 'mean_squared_error',optimizer = adam,metrics = ['mse'])\n",
    "    return model\n",
    "\n",
    "# Create the model\n",
    "\n",
    "model = KerasRegressor(build_fn = create_model,verbose = 0,batch_size = 50,epochs = 40)\n",
    "\n",
    "# Define the grid search parameters\n",
    "activation_function = ['softmax','relu','tanh','linear']\n",
    "init = ['uniform','normal','zero']\n",
    "\n",
    "# Make a dictionary of the grid search parameters\n",
    "param_grids = dict(activation_function = activation_function,init = init)\n",
    "\n",
    "# Build and fit the GridSearchCV\n",
    "\n",
    "grid = GridSearchCV(estimator = model,param_grid = param_grids,cv = KFold(),verbose = 10)\n",
    "grid_result = grid.fit(X_standardized,y)\n",
    "\n"
   ]
  },
  {
   "cell_type": "code",
   "execution_count": 24,
   "metadata": {
    "colab": {
     "base_uri": "https://localhost:8080/"
    },
    "id": "Bg3CHImIt7FX",
    "outputId": "41732a8c-e3c0-4b4f-bf47-b53e7f404c1c"
   },
   "outputs": [
    {
     "name": "stdout",
     "output_type": "stream",
     "text": [
      "Best : -0.8155075371265411, using {'activation_function': 'relu', 'init': 'uniform'}\n",
      "-104.45491228103637,70.16883219408874 with: {'activation_function': 'softmax', 'init': 'uniform'}\n",
      "-123.68891258239746,81.72406531400647 with: {'activation_function': 'softmax', 'init': 'normal'}\n",
      "-257.1893966674805,81.3362345007433 with: {'activation_function': 'softmax', 'init': 'zero'}\n",
      "-0.8155075371265411,0.4120667633449357 with: {'activation_function': 'relu', 'init': 'uniform'}\n",
      "-873.9801111102104,1086.9435050420748 with: {'activation_function': 'relu', 'init': 'normal'}\n",
      "-2413.4379638671876,357.96891073505884 with: {'activation_function': 'relu', 'init': 'zero'}\n",
      "-131.76701282262803,160.3108422499518 with: {'activation_function': 'tanh', 'init': 'uniform'}\n",
      "-229.5104631781578,119.79350134515258 with: {'activation_function': 'tanh', 'init': 'normal'}\n",
      "-256.55357666015624,71.71973270937839 with: {'activation_function': 'tanh', 'init': 'zero'}\n",
      "-1.0451114535331727,0.4811998130543639 with: {'activation_function': 'linear', 'init': 'uniform'}\n",
      "-0.8343180298805237,0.25177430957758234 with: {'activation_function': 'linear', 'init': 'normal'}\n",
      "-261.64817504882814,70.59083011228654 with: {'activation_function': 'linear', 'init': 'zero'}\n"
     ]
    }
   ],
   "source": [
    "# Summarize the results\n",
    "print('Best : {}, using {}'.format(grid_result.best_score_,grid_result.best_params_))\n",
    "means = grid_result.cv_results_['mean_test_score']\n",
    "stds = grid_result.cv_results_['std_test_score']\n",
    "params = grid_result.cv_results_['params']\n",
    "for mean, stdev, param in zip(means, stds, params):\n",
    "  print('{},{} with: {}'.format(mean, stdev, param))"
   ]
  },
  {
   "cell_type": "markdown",
   "metadata": {
    "id": "vHNvP3Bat7FY"
   },
   "source": [
    "#### Tuning of Hyperparameter :-Number of Neurons in activation layer"
   ]
  },
  {
   "cell_type": "code",
   "execution_count": 26,
   "metadata": {
    "colab": {
     "base_uri": "https://localhost:8080/"
    },
    "id": "AwF7n-Fst7FY",
    "outputId": "7249f498-628d-467e-a68f-4f2226023d4f"
   },
   "outputs": [
    {
     "name": "stdout",
     "output_type": "stream",
     "text": [
      "Fitting 5 folds for each of 9 candidates, totalling 45 fits\n",
      "[CV] neuron1=4, neuron2=2 ............................................\n"
     ]
    },
    {
     "name": "stderr",
     "output_type": "stream",
     "text": [
      "[Parallel(n_jobs=1)]: Using backend SequentialBackend with 1 concurrent workers.\n",
      "/usr/local/lib/python3.7/dist-packages/keras/optimizer_v2/optimizer_v2.py:356: UserWarning: The `lr` argument is deprecated, use `learning_rate` instead.\n",
      "  \"The `lr` argument is deprecated, use `learning_rate` instead.\")\n"
     ]
    },
    {
     "name": "stdout",
     "output_type": "stream",
     "text": [
      "[CV] ............ neuron1=4, neuron2=2, score=-2662.600, total=  22.1s\n",
      "[CV] neuron1=4, neuron2=2 ............................................\n"
     ]
    },
    {
     "name": "stderr",
     "output_type": "stream",
     "text": [
      "[Parallel(n_jobs=1)]: Done   1 out of   1 | elapsed:   22.1s remaining:    0.0s\n"
     ]
    },
    {
     "name": "stdout",
     "output_type": "stream",
     "text": [
      "[CV] ............ neuron1=4, neuron2=2, score=-1874.170, total=  41.7s\n",
      "[CV] neuron1=4, neuron2=2 ............................................\n"
     ]
    },
    {
     "name": "stderr",
     "output_type": "stream",
     "text": [
      "[Parallel(n_jobs=1)]: Done   2 out of   2 | elapsed:  1.1min remaining:    0.0s\n"
     ]
    },
    {
     "name": "stdout",
     "output_type": "stream",
     "text": [
      "[CV] ............ neuron1=4, neuron2=2, score=-2878.246, total=  41.8s\n",
      "[CV] neuron1=4, neuron2=2 ............................................\n"
     ]
    },
    {
     "name": "stderr",
     "output_type": "stream",
     "text": [
      "[Parallel(n_jobs=1)]: Done   3 out of   3 | elapsed:  1.8min remaining:    0.0s\n"
     ]
    },
    {
     "name": "stdout",
     "output_type": "stream",
     "text": [
      "[CV] ............... neuron1=4, neuron2=2, score=-0.635, total=  41.8s\n",
      "[CV] neuron1=4, neuron2=2 ............................................\n"
     ]
    },
    {
     "name": "stderr",
     "output_type": "stream",
     "text": [
      "[Parallel(n_jobs=1)]: Done   4 out of   4 | elapsed:  2.5min remaining:    0.0s\n"
     ]
    },
    {
     "name": "stdout",
     "output_type": "stream",
     "text": [
      "[CV] ............... neuron1=4, neuron2=2, score=-0.768, total=  22.4s\n",
      "[CV] neuron1=4, neuron2=4 ............................................\n"
     ]
    },
    {
     "name": "stderr",
     "output_type": "stream",
     "text": [
      "[Parallel(n_jobs=1)]: Done   5 out of   5 | elapsed:  2.8min remaining:    0.0s\n"
     ]
    },
    {
     "name": "stdout",
     "output_type": "stream",
     "text": [
      "[CV] ............ neuron1=4, neuron2=4, score=-2662.902, total=  22.9s\n",
      "[CV] neuron1=4, neuron2=4 ............................................\n"
     ]
    },
    {
     "name": "stderr",
     "output_type": "stream",
     "text": [
      "[Parallel(n_jobs=1)]: Done   6 out of   6 | elapsed:  3.2min remaining:    0.0s\n"
     ]
    },
    {
     "name": "stdout",
     "output_type": "stream",
     "text": [
      "[CV] ............... neuron1=4, neuron2=4, score=-0.784, total=  41.7s\n",
      "[CV] neuron1=4, neuron2=4 ............................................\n"
     ]
    },
    {
     "name": "stderr",
     "output_type": "stream",
     "text": [
      "[Parallel(n_jobs=1)]: Done   7 out of   7 | elapsed:  3.9min remaining:    0.0s\n"
     ]
    },
    {
     "name": "stdout",
     "output_type": "stream",
     "text": [
      "[CV] ............ neuron1=4, neuron2=4, score=-2878.385, total=  41.8s\n",
      "[CV] neuron1=4, neuron2=4 ............................................\n"
     ]
    },
    {
     "name": "stderr",
     "output_type": "stream",
     "text": [
      "[Parallel(n_jobs=1)]: Done   8 out of   8 | elapsed:  4.6min remaining:    0.0s\n"
     ]
    },
    {
     "name": "stdout",
     "output_type": "stream",
     "text": [
      "[CV] ............... neuron1=4, neuron2=4, score=-1.963, total=  41.7s\n",
      "[CV] neuron1=4, neuron2=4 ............................................\n"
     ]
    },
    {
     "name": "stderr",
     "output_type": "stream",
     "text": [
      "[Parallel(n_jobs=1)]: Done   9 out of   9 | elapsed:  5.3min remaining:    0.0s\n"
     ]
    },
    {
     "name": "stdout",
     "output_type": "stream",
     "text": [
      "[CV] ............... neuron1=4, neuron2=4, score=-1.607, total=  22.3s\n",
      "[CV] neuron1=4, neuron2=8 ............................................\n",
      "[CV] ............... neuron1=4, neuron2=8, score=-1.073, total=  41.7s\n",
      "[CV] neuron1=4, neuron2=8 ............................................\n",
      "[CV] ............... neuron1=4, neuron2=8, score=-0.798, total=  41.7s\n",
      "[CV] neuron1=4, neuron2=8 ............................................\n",
      "[CV] ............... neuron1=4, neuron2=8, score=-1.145, total=  22.5s\n",
      "[CV] neuron1=4, neuron2=8 ............................................\n",
      "[CV] ............... neuron1=4, neuron2=8, score=-0.475, total=  41.7s\n",
      "[CV] neuron1=4, neuron2=8 ............................................\n",
      "[CV] ............... neuron1=4, neuron2=8, score=-1.268, total=  41.7s\n",
      "[CV] neuron1=8, neuron2=2 ............................................\n",
      "[CV] ............... neuron1=8, neuron2=2, score=-2.140, total=  22.2s\n",
      "[CV] neuron1=8, neuron2=2 ............................................\n",
      "[CV] ............... neuron1=8, neuron2=2, score=-0.675, total=  22.8s\n",
      "[CV] neuron1=8, neuron2=2 ............................................\n",
      "[CV] ............... neuron1=8, neuron2=2, score=-0.823, total=  22.4s\n",
      "[CV] neuron1=8, neuron2=2 ............................................\n",
      "[CV] ............... neuron1=8, neuron2=2, score=-0.548, total=  23.0s\n",
      "[CV] neuron1=8, neuron2=2 ............................................\n",
      "[CV] ............... neuron1=8, neuron2=2, score=-0.770, total=  22.5s\n",
      "[CV] neuron1=8, neuron2=4 ............................................\n",
      "[CV] ............... neuron1=8, neuron2=4, score=-1.232, total=  22.6s\n",
      "[CV] neuron1=8, neuron2=4 ............................................\n",
      "[CV] ............... neuron1=8, neuron2=4, score=-0.635, total=  22.2s\n",
      "[CV] neuron1=8, neuron2=4 ............................................\n",
      "[CV] ............... neuron1=8, neuron2=4, score=-2.679, total=  41.7s\n",
      "[CV] neuron1=8, neuron2=4 ............................................\n",
      "[CV] ............... neuron1=8, neuron2=4, score=-1.202, total=  41.7s\n",
      "[CV] neuron1=8, neuron2=4 ............................................\n",
      "[CV] ............... neuron1=8, neuron2=4, score=-1.326, total=  21.7s\n",
      "[CV] neuron1=8, neuron2=8 ............................................\n",
      "[CV] ............... neuron1=8, neuron2=8, score=-1.415, total=  21.5s\n",
      "[CV] neuron1=8, neuron2=8 ............................................\n",
      "[CV] ............... neuron1=8, neuron2=8, score=-0.443, total=  21.7s\n",
      "[CV] neuron1=8, neuron2=8 ............................................\n",
      "[CV] ............... neuron1=8, neuron2=8, score=-0.804, total=  42.0s\n",
      "[CV] neuron1=8, neuron2=8 ............................................\n",
      "[CV] ............... neuron1=8, neuron2=8, score=-0.693, total=  41.7s\n",
      "[CV] neuron1=8, neuron2=8 ............................................\n",
      "[CV] ............... neuron1=8, neuron2=8, score=-1.799, total=  22.2s\n",
      "[CV] neuron1=16, neuron2=2 ...........................................\n",
      "[CV] .............. neuron1=16, neuron2=2, score=-0.767, total=  21.6s\n",
      "[CV] neuron1=16, neuron2=2 ...........................................\n",
      "[CV] .............. neuron1=16, neuron2=2, score=-1.104, total=  21.5s\n",
      "[CV] neuron1=16, neuron2=2 ...........................................\n",
      "[CV] .............. neuron1=16, neuron2=2, score=-1.787, total=  21.3s\n",
      "[CV] neuron1=16, neuron2=2 ...........................................\n",
      "[CV] .............. neuron1=16, neuron2=2, score=-0.564, total=  21.7s\n",
      "[CV] neuron1=16, neuron2=2 ...........................................\n",
      "[CV] .............. neuron1=16, neuron2=2, score=-0.708, total=  41.7s\n",
      "[CV] neuron1=16, neuron2=4 ...........................................\n",
      "[CV] .............. neuron1=16, neuron2=4, score=-1.115, total=  41.7s\n",
      "[CV] neuron1=16, neuron2=4 ...........................................\n",
      "[CV] .............. neuron1=16, neuron2=4, score=-0.815, total=  21.8s\n",
      "[CV] neuron1=16, neuron2=4 ...........................................\n",
      "[CV] .............. neuron1=16, neuron2=4, score=-1.136, total=  41.7s\n",
      "[CV] neuron1=16, neuron2=4 ...........................................\n",
      "[CV] .............. neuron1=16, neuron2=4, score=-0.496, total=  21.8s\n",
      "[CV] neuron1=16, neuron2=4 ...........................................\n",
      "[CV] .............. neuron1=16, neuron2=4, score=-1.327, total=  42.0s\n",
      "[CV] neuron1=16, neuron2=8 ...........................................\n",
      "[CV] .............. neuron1=16, neuron2=8, score=-0.994, total=  41.7s\n",
      "[CV] neuron1=16, neuron2=8 ...........................................\n",
      "[CV] .............. neuron1=16, neuron2=8, score=-0.557, total=  21.7s\n",
      "[CV] neuron1=16, neuron2=8 ...........................................\n",
      "[CV] .............. neuron1=16, neuron2=8, score=-0.945, total=  22.0s\n",
      "[CV] neuron1=16, neuron2=8 ...........................................\n",
      "[CV] .............. neuron1=16, neuron2=8, score=-0.623, total=  22.5s\n",
      "[CV] neuron1=16, neuron2=8 ...........................................\n",
      "[CV] .............. neuron1=16, neuron2=8, score=-1.180, total=  21.9s\n"
     ]
    },
    {
     "name": "stderr",
     "output_type": "stream",
     "text": [
      "[Parallel(n_jobs=1)]: Done  45 out of  45 | elapsed: 22.8min finished\n"
     ]
    }
   ],
   "source": [
    "# Defining the model\n",
    "\n",
    "def create_model(neuron1,neuron2):\n",
    "    model = Sequential()\n",
    "    model.add(Dense(neuron1,input_dim = 10,kernel_initializer = 'uniform',activation = 'relu'))\n",
    "    model.add(Dropout(0.0))\n",
    "    model.add(Dense(neuron2,input_dim = neuron1,kernel_initializer = 'uniform',activation = 'relu'))\n",
    "    model.add(Dropout(0.0))\n",
    "    model.add(Dense(1,activation = 'linear'))\n",
    "    \n",
    "    adam = Adam(lr = 0.01)\n",
    "    model.compile(loss = 'mean_squared_error',optimizer = adam,metrics = ['mse'])\n",
    "    return model\n",
    "\n",
    "# Create the model\n",
    "\n",
    "model = KerasRegressor(build_fn = create_model,verbose = 0,batch_size = 50,epochs = 40)\n",
    "\n",
    "# Define the grid search parameters\n",
    "\n",
    "neuron1 = [4,8,16]\n",
    "neuron2 = [2,4,8]\n",
    "\n",
    "# Make a dictionary of the grid search parameters\n",
    "\n",
    "param_grids = dict(neuron1 = neuron1,neuron2 = neuron2)\n",
    "\n",
    "# Build and fit the GridSearchCV\n",
    "\n",
    "grid = GridSearchCV(estimator = model,param_grid = param_grids,cv = KFold(),verbose = 10)\n",
    "grid_result = grid.fit(X_standardized,y)\n"
   ]
  },
  {
   "cell_type": "code",
   "execution_count": 27,
   "metadata": {
    "colab": {
     "base_uri": "https://localhost:8080/"
    },
    "id": "oc3o4DA1t7FY",
    "outputId": "90e000d7-64c4-4f31-97a9-7980992520bb"
   },
   "outputs": [
    {
     "name": "stdout",
     "output_type": "stream",
     "text": [
      "Best : -0.859942901134491, using {'neuron1': 16, 'neuron2': 8}\n",
      "-1483.2838861346245,1255.8341824572176 with: {'neuron1': 4, 'neuron2': 2}\n",
      "-1109.128024494648,1358.3319565075676 with: {'neuron1': 4, 'neuron2': 4}\n",
      "-0.9517445504665375,0.2837838268390778 with: {'neuron1': 4, 'neuron2': 8}\n",
      "-0.9913896560668946,0.5820933807629476 with: {'neuron1': 8, 'neuron2': 2}\n",
      "-1.4147026896476746,0.6769902100835556 with: {'neuron1': 8, 'neuron2': 4}\n",
      "-1.0307092726230622,0.49974541393041494 with: {'neuron1': 8, 'neuron2': 8}\n",
      "-0.9860666155815124,0.43806831837589455 with: {'neuron1': 16, 'neuron2': 2}\n",
      "-0.9778818786144257,0.29120044266110556 with: {'neuron1': 16, 'neuron2': 4}\n",
      "-0.859942901134491,0.2347465332889554 with: {'neuron1': 16, 'neuron2': 8}\n"
     ]
    }
   ],
   "source": [
    "# Summarize the results\n",
    "print('Best : {}, using {}'.format(grid_result.best_score_,grid_result.best_params_))\n",
    "means = grid_result.cv_results_['mean_test_score']\n",
    "stds = grid_result.cv_results_['std_test_score']\n",
    "params = grid_result.cv_results_['params']\n",
    "for mean, stdev, param in zip(means, stds, params):\n",
    "  print('{},{} with: {}'.format(mean, stdev, param))"
   ]
  },
  {
   "cell_type": "markdown",
   "metadata": {
    "id": "joS-p64Bt7FZ"
   },
   "source": [
    "#### Training model with optimum values of Hyperparameters"
   ]
  },
  {
   "cell_type": "code",
   "execution_count": 33,
   "metadata": {
    "colab": {
     "base_uri": "https://localhost:8080/"
    },
    "id": "I0VB9zizt7FZ",
    "outputId": "168d54d8-9156-47ad-d1bf-e29800f04ab9"
   },
   "outputs": [
    {
     "name": "stderr",
     "output_type": "stream",
     "text": [
      "/usr/local/lib/python3.7/dist-packages/keras/optimizer_v2/optimizer_v2.py:356: UserWarning: The `lr` argument is deprecated, use `learning_rate` instead.\n",
      "  \"The `lr` argument is deprecated, use `learning_rate` instead.\")\n"
     ]
    },
    {
     "data": {
      "text/plain": [
       "<keras.callbacks.History at 0x7fb844198650>"
      ]
     },
     "execution_count": 33,
     "metadata": {},
     "output_type": "execute_result"
    }
   ],
   "source": [
    "# Defining the model\n",
    "\n",
    "def create_model():\n",
    "    model = Sequential()\n",
    "    model.add(Dense(16,input_dim = 10,kernel_initializer = 'uniform',activation = 'relu'))\n",
    "    model.add(Dropout(0.0))\n",
    "    model.add(Dense(8,kernel_initializer = 'uniform',activation = 'relu'))\n",
    "    model.add(Dropout(0.0))\n",
    "    model.add(Dense(1,activation = 'linear'))\n",
    "    \n",
    "    adam = Adam(lr = 0.01) #sgd = SGD(lr=learning_rate, momentum=momentum, decay=decay_rate, nesterov=False)\n",
    "    model.compile(loss = 'mean_squared_error',optimizer = adam,metrics = ['mse'])\n",
    "    return model\n",
    "\n",
    "# Create the model\n",
    "\n",
    "model = KerasRegressor(build_fn = create_model,verbose = 0,batch_size = 50,epochs = 40)\n",
    "\n",
    "# Fitting the model\n",
    "\n",
    "model.fit(X_standardized,y)\n",
    "\n"
   ]
  },
  {
   "cell_type": "code",
   "execution_count": 34,
   "metadata": {
    "colab": {
     "base_uri": "https://localhost:8080/"
    },
    "id": "1Z7vo9b4NGFP",
    "outputId": "e7a2bb5e-3b33-4dc2-dc7b-7f47a6fd753c"
   },
   "outputs": [
    {
     "data": {
      "text/plain": [
       "-0.8029539585113525"
      ]
     },
     "execution_count": 34,
     "metadata": {},
     "output_type": "execute_result"
    }
   ],
   "source": [
    "result = model.score(X_standardized, y)\n",
    "result"
   ]
  },
  {
   "cell_type": "code",
   "execution_count": 35,
   "metadata": {
    "colab": {
     "base_uri": "https://localhost:8080/"
    },
    "id": "sD05ty_vLGqY",
    "outputId": "a145adbd-355b-423d-b7d8-f7ad71a351cb"
   },
   "outputs": [
    {
     "data": {
      "text/plain": [
       "-80.29539585113525"
      ]
     },
     "execution_count": 35,
     "metadata": {},
     "output_type": "execute_result"
    }
   ],
   "source": [
    "result*100.0"
   ]
  },
  {
   "cell_type": "code",
   "execution_count": null,
   "metadata": {
    "id": "yqo2OmaBLQWK"
   },
   "outputs": [],
   "source": []
  }
 ],
 "metadata": {
  "accelerator": "GPU",
  "colab": {
   "collapsed_sections": [],
   "name": "Neural_Network_Assignment_1.ipynb",
   "provenance": []
  },
  "kernelspec": {
   "display_name": "Python 3",
   "language": "python",
   "name": "python3"
  },
  "language_info": {
   "codemirror_mode": {
    "name": "ipython",
    "version": 3
   },
   "file_extension": ".py",
   "mimetype": "text/x-python",
   "name": "python",
   "nbconvert_exporter": "python",
   "pygments_lexer": "ipython3",
   "version": "3.8.8"
  }
 },
 "nbformat": 4,
 "nbformat_minor": 1
}
