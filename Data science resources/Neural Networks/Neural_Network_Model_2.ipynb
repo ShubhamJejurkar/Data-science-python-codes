{
 "cells": [
  {
   "cell_type": "code",
   "execution_count": 1,
   "metadata": {
    "id": "mxSjWpK6t7FA"
   },
   "outputs": [],
   "source": [
    "# Importing the necessary packages\n",
    "import pandas as pd\n",
    "import numpy as np\n",
    "import keras\n",
    "from sklearn.preprocessing import StandardScaler"
   ]
  },
  {
   "cell_type": "markdown",
   "metadata": {},
   "source": [
    "### Forest fires Dataset"
   ]
  },
  {
   "cell_type": "code",
   "execution_count": 2,
   "metadata": {
    "id": "BAebOhHTt7FH"
   },
   "outputs": [],
   "source": [
    "dataset = pd.read_csv(\"/content/forestfires.csv\", delimiter=\",\")"
   ]
  },
  {
   "cell_type": "code",
   "execution_count": 3,
   "metadata": {
    "colab": {
     "base_uri": "https://localhost:8080/",
     "height": 224
    },
    "id": "jBcw5g8RXZdw",
    "outputId": "c0e80ec7-5e73-4235-9034-cd4558dd60b0"
   },
   "outputs": [
    {
     "data": {
      "text/html": [
       "<div>\n",
       "<style scoped>\n",
       "    .dataframe tbody tr th:only-of-type {\n",
       "        vertical-align: middle;\n",
       "    }\n",
       "\n",
       "    .dataframe tbody tr th {\n",
       "        vertical-align: top;\n",
       "    }\n",
       "\n",
       "    .dataframe thead th {\n",
       "        text-align: right;\n",
       "    }\n",
       "</style>\n",
       "<table border=\"1\" class=\"dataframe\">\n",
       "  <thead>\n",
       "    <tr style=\"text-align: right;\">\n",
       "      <th></th>\n",
       "      <th>month</th>\n",
       "      <th>day</th>\n",
       "      <th>FFMC</th>\n",
       "      <th>DMC</th>\n",
       "      <th>DC</th>\n",
       "      <th>ISI</th>\n",
       "      <th>temp</th>\n",
       "      <th>RH</th>\n",
       "      <th>wind</th>\n",
       "      <th>rain</th>\n",
       "      <th>area</th>\n",
       "      <th>dayfri</th>\n",
       "      <th>daymon</th>\n",
       "      <th>daysat</th>\n",
       "      <th>daysun</th>\n",
       "      <th>daythu</th>\n",
       "      <th>daytue</th>\n",
       "      <th>daywed</th>\n",
       "      <th>monthapr</th>\n",
       "      <th>monthaug</th>\n",
       "      <th>monthdec</th>\n",
       "      <th>monthfeb</th>\n",
       "      <th>monthjan</th>\n",
       "      <th>monthjul</th>\n",
       "      <th>monthjun</th>\n",
       "      <th>monthmar</th>\n",
       "      <th>monthmay</th>\n",
       "      <th>monthnov</th>\n",
       "      <th>monthoct</th>\n",
       "      <th>monthsep</th>\n",
       "      <th>size_category</th>\n",
       "    </tr>\n",
       "  </thead>\n",
       "  <tbody>\n",
       "    <tr>\n",
       "      <th>0</th>\n",
       "      <td>mar</td>\n",
       "      <td>fri</td>\n",
       "      <td>86.2</td>\n",
       "      <td>26.2</td>\n",
       "      <td>94.3</td>\n",
       "      <td>5.1</td>\n",
       "      <td>8.2</td>\n",
       "      <td>51</td>\n",
       "      <td>6.7</td>\n",
       "      <td>0.0</td>\n",
       "      <td>0.0</td>\n",
       "      <td>1</td>\n",
       "      <td>0</td>\n",
       "      <td>0</td>\n",
       "      <td>0</td>\n",
       "      <td>0</td>\n",
       "      <td>0</td>\n",
       "      <td>0</td>\n",
       "      <td>0</td>\n",
       "      <td>0</td>\n",
       "      <td>0</td>\n",
       "      <td>0</td>\n",
       "      <td>0</td>\n",
       "      <td>0</td>\n",
       "      <td>0</td>\n",
       "      <td>1</td>\n",
       "      <td>0</td>\n",
       "      <td>0</td>\n",
       "      <td>0</td>\n",
       "      <td>0</td>\n",
       "      <td>small</td>\n",
       "    </tr>\n",
       "    <tr>\n",
       "      <th>1</th>\n",
       "      <td>oct</td>\n",
       "      <td>tue</td>\n",
       "      <td>90.6</td>\n",
       "      <td>35.4</td>\n",
       "      <td>669.1</td>\n",
       "      <td>6.7</td>\n",
       "      <td>18.0</td>\n",
       "      <td>33</td>\n",
       "      <td>0.9</td>\n",
       "      <td>0.0</td>\n",
       "      <td>0.0</td>\n",
       "      <td>0</td>\n",
       "      <td>0</td>\n",
       "      <td>0</td>\n",
       "      <td>0</td>\n",
       "      <td>0</td>\n",
       "      <td>1</td>\n",
       "      <td>0</td>\n",
       "      <td>0</td>\n",
       "      <td>0</td>\n",
       "      <td>0</td>\n",
       "      <td>0</td>\n",
       "      <td>0</td>\n",
       "      <td>0</td>\n",
       "      <td>0</td>\n",
       "      <td>0</td>\n",
       "      <td>0</td>\n",
       "      <td>0</td>\n",
       "      <td>1</td>\n",
       "      <td>0</td>\n",
       "      <td>small</td>\n",
       "    </tr>\n",
       "    <tr>\n",
       "      <th>2</th>\n",
       "      <td>oct</td>\n",
       "      <td>sat</td>\n",
       "      <td>90.6</td>\n",
       "      <td>43.7</td>\n",
       "      <td>686.9</td>\n",
       "      <td>6.7</td>\n",
       "      <td>14.6</td>\n",
       "      <td>33</td>\n",
       "      <td>1.3</td>\n",
       "      <td>0.0</td>\n",
       "      <td>0.0</td>\n",
       "      <td>0</td>\n",
       "      <td>0</td>\n",
       "      <td>1</td>\n",
       "      <td>0</td>\n",
       "      <td>0</td>\n",
       "      <td>0</td>\n",
       "      <td>0</td>\n",
       "      <td>0</td>\n",
       "      <td>0</td>\n",
       "      <td>0</td>\n",
       "      <td>0</td>\n",
       "      <td>0</td>\n",
       "      <td>0</td>\n",
       "      <td>0</td>\n",
       "      <td>0</td>\n",
       "      <td>0</td>\n",
       "      <td>0</td>\n",
       "      <td>1</td>\n",
       "      <td>0</td>\n",
       "      <td>small</td>\n",
       "    </tr>\n",
       "    <tr>\n",
       "      <th>3</th>\n",
       "      <td>mar</td>\n",
       "      <td>fri</td>\n",
       "      <td>91.7</td>\n",
       "      <td>33.3</td>\n",
       "      <td>77.5</td>\n",
       "      <td>9.0</td>\n",
       "      <td>8.3</td>\n",
       "      <td>97</td>\n",
       "      <td>4.0</td>\n",
       "      <td>0.2</td>\n",
       "      <td>0.0</td>\n",
       "      <td>1</td>\n",
       "      <td>0</td>\n",
       "      <td>0</td>\n",
       "      <td>0</td>\n",
       "      <td>0</td>\n",
       "      <td>0</td>\n",
       "      <td>0</td>\n",
       "      <td>0</td>\n",
       "      <td>0</td>\n",
       "      <td>0</td>\n",
       "      <td>0</td>\n",
       "      <td>0</td>\n",
       "      <td>0</td>\n",
       "      <td>0</td>\n",
       "      <td>1</td>\n",
       "      <td>0</td>\n",
       "      <td>0</td>\n",
       "      <td>0</td>\n",
       "      <td>0</td>\n",
       "      <td>small</td>\n",
       "    </tr>\n",
       "    <tr>\n",
       "      <th>4</th>\n",
       "      <td>mar</td>\n",
       "      <td>sun</td>\n",
       "      <td>89.3</td>\n",
       "      <td>51.3</td>\n",
       "      <td>102.2</td>\n",
       "      <td>9.6</td>\n",
       "      <td>11.4</td>\n",
       "      <td>99</td>\n",
       "      <td>1.8</td>\n",
       "      <td>0.0</td>\n",
       "      <td>0.0</td>\n",
       "      <td>0</td>\n",
       "      <td>0</td>\n",
       "      <td>0</td>\n",
       "      <td>1</td>\n",
       "      <td>0</td>\n",
       "      <td>0</td>\n",
       "      <td>0</td>\n",
       "      <td>0</td>\n",
       "      <td>0</td>\n",
       "      <td>0</td>\n",
       "      <td>0</td>\n",
       "      <td>0</td>\n",
       "      <td>0</td>\n",
       "      <td>0</td>\n",
       "      <td>1</td>\n",
       "      <td>0</td>\n",
       "      <td>0</td>\n",
       "      <td>0</td>\n",
       "      <td>0</td>\n",
       "      <td>small</td>\n",
       "    </tr>\n",
       "  </tbody>\n",
       "</table>\n",
       "</div>"
      ],
      "text/plain": [
       "  month  day  FFMC   DMC  ...  monthnov  monthoct  monthsep  size_category\n",
       "0   mar  fri  86.2  26.2  ...         0         0         0          small\n",
       "1   oct  tue  90.6  35.4  ...         0         1         0          small\n",
       "2   oct  sat  90.6  43.7  ...         0         1         0          small\n",
       "3   mar  fri  91.7  33.3  ...         0         0         0          small\n",
       "4   mar  sun  89.3  51.3  ...         0         0         0          small\n",
       "\n",
       "[5 rows x 31 columns]"
      ]
     },
     "execution_count": 3,
     "metadata": {},
     "output_type": "execute_result"
    }
   ],
   "source": [
    "dataset.head()"
   ]
  },
  {
   "cell_type": "code",
   "execution_count": 4,
   "metadata": {
    "id": "fHn6hzG-Xv9J"
   },
   "outputs": [],
   "source": [
    "from sklearn.preprocessing import LabelEncoder\n",
    "from sklearn import preprocessing"
   ]
  },
  {
   "cell_type": "code",
   "execution_count": 5,
   "metadata": {
    "id": "M_l6eNbDX1gZ"
   },
   "outputs": [],
   "source": [
    "string_columns = [\"month\",\"day\",\"size_category\"]   \n",
    "\n",
    "for x in string_columns:\n",
    "    dataset[x] = dataset[x].astype(str)\n",
    "    \n",
    "for i in string_columns:\n",
    "    number = preprocessing.LabelEncoder()\n",
    "    dataset[i] = number.fit_transform(dataset[i])"
   ]
  },
  {
   "cell_type": "code",
   "execution_count": 6,
   "metadata": {
    "colab": {
     "base_uri": "https://localhost:8080/",
     "height": 224
    },
    "id": "3PJ6G-RmYAhW",
    "outputId": "c6201600-44cd-41e0-805c-530ddec6d0bd"
   },
   "outputs": [
    {
     "data": {
      "text/html": [
       "<div>\n",
       "<style scoped>\n",
       "    .dataframe tbody tr th:only-of-type {\n",
       "        vertical-align: middle;\n",
       "    }\n",
       "\n",
       "    .dataframe tbody tr th {\n",
       "        vertical-align: top;\n",
       "    }\n",
       "\n",
       "    .dataframe thead th {\n",
       "        text-align: right;\n",
       "    }\n",
       "</style>\n",
       "<table border=\"1\" class=\"dataframe\">\n",
       "  <thead>\n",
       "    <tr style=\"text-align: right;\">\n",
       "      <th></th>\n",
       "      <th>month</th>\n",
       "      <th>day</th>\n",
       "      <th>FFMC</th>\n",
       "      <th>DMC</th>\n",
       "      <th>DC</th>\n",
       "      <th>ISI</th>\n",
       "      <th>temp</th>\n",
       "      <th>RH</th>\n",
       "      <th>wind</th>\n",
       "      <th>rain</th>\n",
       "      <th>area</th>\n",
       "      <th>dayfri</th>\n",
       "      <th>daymon</th>\n",
       "      <th>daysat</th>\n",
       "      <th>daysun</th>\n",
       "      <th>daythu</th>\n",
       "      <th>daytue</th>\n",
       "      <th>daywed</th>\n",
       "      <th>monthapr</th>\n",
       "      <th>monthaug</th>\n",
       "      <th>monthdec</th>\n",
       "      <th>monthfeb</th>\n",
       "      <th>monthjan</th>\n",
       "      <th>monthjul</th>\n",
       "      <th>monthjun</th>\n",
       "      <th>monthmar</th>\n",
       "      <th>monthmay</th>\n",
       "      <th>monthnov</th>\n",
       "      <th>monthoct</th>\n",
       "      <th>monthsep</th>\n",
       "      <th>size_category</th>\n",
       "    </tr>\n",
       "  </thead>\n",
       "  <tbody>\n",
       "    <tr>\n",
       "      <th>0</th>\n",
       "      <td>7</td>\n",
       "      <td>0</td>\n",
       "      <td>86.2</td>\n",
       "      <td>26.2</td>\n",
       "      <td>94.3</td>\n",
       "      <td>5.1</td>\n",
       "      <td>8.2</td>\n",
       "      <td>51</td>\n",
       "      <td>6.7</td>\n",
       "      <td>0.0</td>\n",
       "      <td>0.0</td>\n",
       "      <td>1</td>\n",
       "      <td>0</td>\n",
       "      <td>0</td>\n",
       "      <td>0</td>\n",
       "      <td>0</td>\n",
       "      <td>0</td>\n",
       "      <td>0</td>\n",
       "      <td>0</td>\n",
       "      <td>0</td>\n",
       "      <td>0</td>\n",
       "      <td>0</td>\n",
       "      <td>0</td>\n",
       "      <td>0</td>\n",
       "      <td>0</td>\n",
       "      <td>1</td>\n",
       "      <td>0</td>\n",
       "      <td>0</td>\n",
       "      <td>0</td>\n",
       "      <td>0</td>\n",
       "      <td>1</td>\n",
       "    </tr>\n",
       "    <tr>\n",
       "      <th>1</th>\n",
       "      <td>10</td>\n",
       "      <td>5</td>\n",
       "      <td>90.6</td>\n",
       "      <td>35.4</td>\n",
       "      <td>669.1</td>\n",
       "      <td>6.7</td>\n",
       "      <td>18.0</td>\n",
       "      <td>33</td>\n",
       "      <td>0.9</td>\n",
       "      <td>0.0</td>\n",
       "      <td>0.0</td>\n",
       "      <td>0</td>\n",
       "      <td>0</td>\n",
       "      <td>0</td>\n",
       "      <td>0</td>\n",
       "      <td>0</td>\n",
       "      <td>1</td>\n",
       "      <td>0</td>\n",
       "      <td>0</td>\n",
       "      <td>0</td>\n",
       "      <td>0</td>\n",
       "      <td>0</td>\n",
       "      <td>0</td>\n",
       "      <td>0</td>\n",
       "      <td>0</td>\n",
       "      <td>0</td>\n",
       "      <td>0</td>\n",
       "      <td>0</td>\n",
       "      <td>1</td>\n",
       "      <td>0</td>\n",
       "      <td>1</td>\n",
       "    </tr>\n",
       "    <tr>\n",
       "      <th>2</th>\n",
       "      <td>10</td>\n",
       "      <td>2</td>\n",
       "      <td>90.6</td>\n",
       "      <td>43.7</td>\n",
       "      <td>686.9</td>\n",
       "      <td>6.7</td>\n",
       "      <td>14.6</td>\n",
       "      <td>33</td>\n",
       "      <td>1.3</td>\n",
       "      <td>0.0</td>\n",
       "      <td>0.0</td>\n",
       "      <td>0</td>\n",
       "      <td>0</td>\n",
       "      <td>1</td>\n",
       "      <td>0</td>\n",
       "      <td>0</td>\n",
       "      <td>0</td>\n",
       "      <td>0</td>\n",
       "      <td>0</td>\n",
       "      <td>0</td>\n",
       "      <td>0</td>\n",
       "      <td>0</td>\n",
       "      <td>0</td>\n",
       "      <td>0</td>\n",
       "      <td>0</td>\n",
       "      <td>0</td>\n",
       "      <td>0</td>\n",
       "      <td>0</td>\n",
       "      <td>1</td>\n",
       "      <td>0</td>\n",
       "      <td>1</td>\n",
       "    </tr>\n",
       "    <tr>\n",
       "      <th>3</th>\n",
       "      <td>7</td>\n",
       "      <td>0</td>\n",
       "      <td>91.7</td>\n",
       "      <td>33.3</td>\n",
       "      <td>77.5</td>\n",
       "      <td>9.0</td>\n",
       "      <td>8.3</td>\n",
       "      <td>97</td>\n",
       "      <td>4.0</td>\n",
       "      <td>0.2</td>\n",
       "      <td>0.0</td>\n",
       "      <td>1</td>\n",
       "      <td>0</td>\n",
       "      <td>0</td>\n",
       "      <td>0</td>\n",
       "      <td>0</td>\n",
       "      <td>0</td>\n",
       "      <td>0</td>\n",
       "      <td>0</td>\n",
       "      <td>0</td>\n",
       "      <td>0</td>\n",
       "      <td>0</td>\n",
       "      <td>0</td>\n",
       "      <td>0</td>\n",
       "      <td>0</td>\n",
       "      <td>1</td>\n",
       "      <td>0</td>\n",
       "      <td>0</td>\n",
       "      <td>0</td>\n",
       "      <td>0</td>\n",
       "      <td>1</td>\n",
       "    </tr>\n",
       "    <tr>\n",
       "      <th>4</th>\n",
       "      <td>7</td>\n",
       "      <td>3</td>\n",
       "      <td>89.3</td>\n",
       "      <td>51.3</td>\n",
       "      <td>102.2</td>\n",
       "      <td>9.6</td>\n",
       "      <td>11.4</td>\n",
       "      <td>99</td>\n",
       "      <td>1.8</td>\n",
       "      <td>0.0</td>\n",
       "      <td>0.0</td>\n",
       "      <td>0</td>\n",
       "      <td>0</td>\n",
       "      <td>0</td>\n",
       "      <td>1</td>\n",
       "      <td>0</td>\n",
       "      <td>0</td>\n",
       "      <td>0</td>\n",
       "      <td>0</td>\n",
       "      <td>0</td>\n",
       "      <td>0</td>\n",
       "      <td>0</td>\n",
       "      <td>0</td>\n",
       "      <td>0</td>\n",
       "      <td>0</td>\n",
       "      <td>1</td>\n",
       "      <td>0</td>\n",
       "      <td>0</td>\n",
       "      <td>0</td>\n",
       "      <td>0</td>\n",
       "      <td>1</td>\n",
       "    </tr>\n",
       "  </tbody>\n",
       "</table>\n",
       "</div>"
      ],
      "text/plain": [
       "   month  day  FFMC   DMC  ...  monthnov  monthoct  monthsep  size_category\n",
       "0      7    0  86.2  26.2  ...         0         0         0              1\n",
       "1     10    5  90.6  35.4  ...         0         1         0              1\n",
       "2     10    2  90.6  43.7  ...         0         1         0              1\n",
       "3      7    0  91.7  33.3  ...         0         0         0              1\n",
       "4      7    3  89.3  51.3  ...         0         0         0              1\n",
       "\n",
       "[5 rows x 31 columns]"
      ]
     },
     "execution_count": 6,
     "metadata": {},
     "output_type": "execute_result"
    }
   ],
   "source": [
    "dataset.head()"
   ]
  },
  {
   "cell_type": "markdown",
   "metadata": {
    "id": "1j64KcI8YbDu"
   },
   "source": []
  },
  {
   "cell_type": "code",
   "execution_count": 7,
   "metadata": {
    "id": "H21tw3s5t7FH"
   },
   "outputs": [],
   "source": [
    "array = dataset.values\n",
    "X = array[:,0:30]\n",
    "Y = array[:,30]"
   ]
  },
  {
   "cell_type": "code",
   "execution_count": 8,
   "metadata": {
    "id": "TLGQ964Wt7FI"
   },
   "outputs": [],
   "source": [
    "# Standardization\n",
    "a = StandardScaler()\n",
    "a.fit(X)\n",
    "X_standardized = a.transform(X)"
   ]
  },
  {
   "cell_type": "code",
   "execution_count": 9,
   "metadata": {
    "colab": {
     "base_uri": "https://localhost:8080/",
     "height": 402
    },
    "id": "fDdsaXMHt7FJ",
    "outputId": "50ce8ce4-70a7-41a4-f485-ca448a3cfde6"
   },
   "outputs": [
    {
     "data": {
      "text/html": [
       "<div>\n",
       "<style scoped>\n",
       "    .dataframe tbody tr th:only-of-type {\n",
       "        vertical-align: middle;\n",
       "    }\n",
       "\n",
       "    .dataframe tbody tr th {\n",
       "        vertical-align: top;\n",
       "    }\n",
       "\n",
       "    .dataframe thead th {\n",
       "        text-align: right;\n",
       "    }\n",
       "</style>\n",
       "<table border=\"1\" class=\"dataframe\">\n",
       "  <thead>\n",
       "    <tr style=\"text-align: right;\">\n",
       "      <th></th>\n",
       "      <th>0</th>\n",
       "      <th>1</th>\n",
       "      <th>2</th>\n",
       "      <th>3</th>\n",
       "      <th>4</th>\n",
       "      <th>5</th>\n",
       "      <th>6</th>\n",
       "      <th>7</th>\n",
       "      <th>8</th>\n",
       "      <th>9</th>\n",
       "      <th>10</th>\n",
       "      <th>11</th>\n",
       "      <th>12</th>\n",
       "      <th>13</th>\n",
       "      <th>14</th>\n",
       "      <th>15</th>\n",
       "      <th>16</th>\n",
       "      <th>17</th>\n",
       "      <th>18</th>\n",
       "      <th>19</th>\n",
       "      <th>20</th>\n",
       "      <th>21</th>\n",
       "      <th>22</th>\n",
       "      <th>23</th>\n",
       "      <th>24</th>\n",
       "      <th>25</th>\n",
       "      <th>26</th>\n",
       "      <th>27</th>\n",
       "      <th>28</th>\n",
       "      <th>29</th>\n",
       "    </tr>\n",
       "  </thead>\n",
       "  <tbody>\n",
       "    <tr>\n",
       "      <th>count</th>\n",
       "      <td>5.170000e+02</td>\n",
       "      <td>5.170000e+02</td>\n",
       "      <td>5.170000e+02</td>\n",
       "      <td>5.170000e+02</td>\n",
       "      <td>5.170000e+02</td>\n",
       "      <td>5.170000e+02</td>\n",
       "      <td>5.170000e+02</td>\n",
       "      <td>5.170000e+02</td>\n",
       "      <td>5.170000e+02</td>\n",
       "      <td>5.170000e+02</td>\n",
       "      <td>5.170000e+02</td>\n",
       "      <td>5.170000e+02</td>\n",
       "      <td>5.170000e+02</td>\n",
       "      <td>5.170000e+02</td>\n",
       "      <td>5.170000e+02</td>\n",
       "      <td>5.170000e+02</td>\n",
       "      <td>5.170000e+02</td>\n",
       "      <td>5.170000e+02</td>\n",
       "      <td>5.170000e+02</td>\n",
       "      <td>5.170000e+02</td>\n",
       "      <td>5.170000e+02</td>\n",
       "      <td>5.170000e+02</td>\n",
       "      <td>5.170000e+02</td>\n",
       "      <td>5.170000e+02</td>\n",
       "      <td>5.170000e+02</td>\n",
       "      <td>5.170000e+02</td>\n",
       "      <td>5.170000e+02</td>\n",
       "      <td>5.170000e+02</td>\n",
       "      <td>5.170000e+02</td>\n",
       "      <td>5.170000e+02</td>\n",
       "    </tr>\n",
       "    <tr>\n",
       "      <th>mean</th>\n",
       "      <td>-4.874674e-17</td>\n",
       "      <td>5.110891e-17</td>\n",
       "      <td>-1.754024e-15</td>\n",
       "      <td>3.070830e-16</td>\n",
       "      <td>7.387171e-17</td>\n",
       "      <td>-3.865380e-17</td>\n",
       "      <td>2.005703e-16</td>\n",
       "      <td>3.362881e-16</td>\n",
       "      <td>-2.676776e-16</td>\n",
       "      <td>-2.841054e-16</td>\n",
       "      <td>-1.274502e-16</td>\n",
       "      <td>4.874674e-17</td>\n",
       "      <td>-1.868267e-16</td>\n",
       "      <td>-2.238699e-16</td>\n",
       "      <td>-6.098711e-17</td>\n",
       "      <td>-1.004999e-16</td>\n",
       "      <td>2.405125e-17</td>\n",
       "      <td>-3.843906e-17</td>\n",
       "      <td>-1.344293e-16</td>\n",
       "      <td>2.473843e-16</td>\n",
       "      <td>7.179943e-16</td>\n",
       "      <td>-1.933764e-16</td>\n",
       "      <td>-2.260174e-17</td>\n",
       "      <td>1.352883e-17</td>\n",
       "      <td>1.169277e-16</td>\n",
       "      <td>2.265542e-16</td>\n",
       "      <td>-2.596515e-16</td>\n",
       "      <td>1.443075e-16</td>\n",
       "      <td>6.253326e-16</td>\n",
       "      <td>4.024290e-16</td>\n",
       "    </tr>\n",
       "    <tr>\n",
       "      <th>std</th>\n",
       "      <td>1.000969e+00</td>\n",
       "      <td>1.000969e+00</td>\n",
       "      <td>1.000969e+00</td>\n",
       "      <td>1.000969e+00</td>\n",
       "      <td>1.000969e+00</td>\n",
       "      <td>1.000969e+00</td>\n",
       "      <td>1.000969e+00</td>\n",
       "      <td>1.000969e+00</td>\n",
       "      <td>1.000969e+00</td>\n",
       "      <td>1.000969e+00</td>\n",
       "      <td>1.000969e+00</td>\n",
       "      <td>1.000969e+00</td>\n",
       "      <td>1.000969e+00</td>\n",
       "      <td>1.000969e+00</td>\n",
       "      <td>1.000969e+00</td>\n",
       "      <td>1.000969e+00</td>\n",
       "      <td>1.000969e+00</td>\n",
       "      <td>1.000969e+00</td>\n",
       "      <td>1.000969e+00</td>\n",
       "      <td>1.000969e+00</td>\n",
       "      <td>1.000969e+00</td>\n",
       "      <td>1.000969e+00</td>\n",
       "      <td>1.000969e+00</td>\n",
       "      <td>1.000969e+00</td>\n",
       "      <td>1.000969e+00</td>\n",
       "      <td>1.000969e+00</td>\n",
       "      <td>1.000969e+00</td>\n",
       "      <td>1.000969e+00</td>\n",
       "      <td>1.000969e+00</td>\n",
       "      <td>1.000969e+00</td>\n",
       "    </tr>\n",
       "    <tr>\n",
       "      <th>min</th>\n",
       "      <td>-1.317959e+00</td>\n",
       "      <td>-1.423121e+00</td>\n",
       "      <td>-1.304582e+01</td>\n",
       "      <td>-1.715608e+00</td>\n",
       "      <td>-2.179108e+00</td>\n",
       "      <td>-1.980578e+00</td>\n",
       "      <td>-2.876943e+00</td>\n",
       "      <td>-1.796637e+00</td>\n",
       "      <td>-2.021098e+00</td>\n",
       "      <td>-7.326831e-02</td>\n",
       "      <td>-2.020198e-01</td>\n",
       "      <td>-4.435755e-01</td>\n",
       "      <td>-4.087088e-01</td>\n",
       "      <td>-4.404491e-01</td>\n",
       "      <td>-4.744665e-01</td>\n",
       "      <td>-3.657485e-01</td>\n",
       "      <td>-3.758728e-01</td>\n",
       "      <td>-3.415123e-01</td>\n",
       "      <td>-1.331035e-01</td>\n",
       "      <td>-7.433388e-01</td>\n",
       "      <td>-1.331035e-01</td>\n",
       "      <td>-2.006027e-01</td>\n",
       "      <td>-6.231770e-02</td>\n",
       "      <td>-2.568645e-01</td>\n",
       "      <td>-1.843909e-01</td>\n",
       "      <td>-3.415123e-01</td>\n",
       "      <td>-6.231770e-02</td>\n",
       "      <td>-4.402255e-02</td>\n",
       "      <td>-1.728597e-01</td>\n",
       "      <td>-7.060812e-01</td>\n",
       "    </tr>\n",
       "    <tr>\n",
       "      <th>25%</th>\n",
       "      <td>-1.089076e+00</td>\n",
       "      <td>-9.031536e-01</td>\n",
       "      <td>-8.063453e-02</td>\n",
       "      <td>-6.606652e-01</td>\n",
       "      <td>-4.448281e-01</td>\n",
       "      <td>-5.535954e-01</td>\n",
       "      <td>-5.842379e-01</td>\n",
       "      <td>-6.924563e-01</td>\n",
       "      <td>-7.361236e-01</td>\n",
       "      <td>-7.326831e-02</td>\n",
       "      <td>-2.020198e-01</td>\n",
       "      <td>-4.435755e-01</td>\n",
       "      <td>-4.087088e-01</td>\n",
       "      <td>-4.404491e-01</td>\n",
       "      <td>-4.744665e-01</td>\n",
       "      <td>-3.657485e-01</td>\n",
       "      <td>-3.758728e-01</td>\n",
       "      <td>-3.415123e-01</td>\n",
       "      <td>-1.331035e-01</td>\n",
       "      <td>-7.433388e-01</td>\n",
       "      <td>-1.331035e-01</td>\n",
       "      <td>-2.006027e-01</td>\n",
       "      <td>-6.231770e-02</td>\n",
       "      <td>-2.568645e-01</td>\n",
       "      <td>-1.843909e-01</td>\n",
       "      <td>-3.415123e-01</td>\n",
       "      <td>-6.231770e-02</td>\n",
       "      <td>-4.402255e-02</td>\n",
       "      <td>-1.728597e-01</td>\n",
       "      <td>-7.060812e-01</td>\n",
       "    </tr>\n",
       "    <tr>\n",
       "      <th>50%</th>\n",
       "      <td>5.533922e-02</td>\n",
       "      <td>1.367805e-01</td>\n",
       "      <td>1.732292e-01</td>\n",
       "      <td>-4.020255e-02</td>\n",
       "      <td>4.691190e-01</td>\n",
       "      <td>-1.364774e-01</td>\n",
       "      <td>7.082076e-02</td>\n",
       "      <td>-1.403660e-01</td>\n",
       "      <td>-9.833712e-03</td>\n",
       "      <td>-7.326831e-02</td>\n",
       "      <td>-1.938429e-01</td>\n",
       "      <td>-4.435755e-01</td>\n",
       "      <td>-4.087088e-01</td>\n",
       "      <td>-4.404491e-01</td>\n",
       "      <td>-4.744665e-01</td>\n",
       "      <td>-3.657485e-01</td>\n",
       "      <td>-3.758728e-01</td>\n",
       "      <td>-3.415123e-01</td>\n",
       "      <td>-1.331035e-01</td>\n",
       "      <td>-7.433388e-01</td>\n",
       "      <td>-1.331035e-01</td>\n",
       "      <td>-2.006027e-01</td>\n",
       "      <td>-6.231770e-02</td>\n",
       "      <td>-2.568645e-01</td>\n",
       "      <td>-1.843909e-01</td>\n",
       "      <td>-3.415123e-01</td>\n",
       "      <td>-6.231770e-02</td>\n",
       "      <td>-4.402255e-02</td>\n",
       "      <td>-1.728597e-01</td>\n",
       "      <td>-7.060812e-01</td>\n",
       "    </tr>\n",
       "    <tr>\n",
       "      <th>75%</th>\n",
       "      <td>1.199754e+00</td>\n",
       "      <td>6.567476e-01</td>\n",
       "      <td>4.089598e-01</td>\n",
       "      <td>4.927389e-01</td>\n",
       "      <td>6.696628e-01</td>\n",
       "      <td>3.904086e-01</td>\n",
       "      <td>6.741643e-01</td>\n",
       "      <td>5.344111e-01</td>\n",
       "      <td>4.929823e-01</td>\n",
       "      <td>-7.326831e-02</td>\n",
       "      <td>-9.870852e-02</td>\n",
       "      <td>-4.435755e-01</td>\n",
       "      <td>-4.087088e-01</td>\n",
       "      <td>-4.404491e-01</td>\n",
       "      <td>-4.744665e-01</td>\n",
       "      <td>-3.657485e-01</td>\n",
       "      <td>-3.758728e-01</td>\n",
       "      <td>-3.415123e-01</td>\n",
       "      <td>-1.331035e-01</td>\n",
       "      <td>1.345282e+00</td>\n",
       "      <td>-1.331035e-01</td>\n",
       "      <td>-2.006027e-01</td>\n",
       "      <td>-6.231770e-02</td>\n",
       "      <td>-2.568645e-01</td>\n",
       "      <td>-1.843909e-01</td>\n",
       "      <td>-3.415123e-01</td>\n",
       "      <td>-6.231770e-02</td>\n",
       "      <td>-4.402255e-02</td>\n",
       "      <td>-1.728597e-01</td>\n",
       "      <td>1.416268e+00</td>\n",
       "    </tr>\n",
       "    <tr>\n",
       "      <th>max</th>\n",
       "      <td>1.199754e+00</td>\n",
       "      <td>1.696682e+00</td>\n",
       "      <td>1.007353e+00</td>\n",
       "      <td>2.819865e+00</td>\n",
       "      <td>1.261610e+00</td>\n",
       "      <td>1.033538e+01</td>\n",
       "      <td>2.484195e+00</td>\n",
       "      <td>3.417549e+00</td>\n",
       "      <td>3.007063e+00</td>\n",
       "      <td>2.157228e+01</td>\n",
       "      <td>1.695111e+01</td>\n",
       "      <td>2.254407e+00</td>\n",
       "      <td>2.446730e+00</td>\n",
       "      <td>2.270410e+00</td>\n",
       "      <td>2.107630e+00</td>\n",
       "      <td>2.734120e+00</td>\n",
       "      <td>2.660475e+00</td>\n",
       "      <td>2.928152e+00</td>\n",
       "      <td>7.512952e+00</td>\n",
       "      <td>1.345282e+00</td>\n",
       "      <td>7.512952e+00</td>\n",
       "      <td>4.984977e+00</td>\n",
       "      <td>1.604681e+01</td>\n",
       "      <td>3.893103e+00</td>\n",
       "      <td>5.423261e+00</td>\n",
       "      <td>2.928152e+00</td>\n",
       "      <td>1.604681e+01</td>\n",
       "      <td>2.271563e+01</td>\n",
       "      <td>5.785038e+00</td>\n",
       "      <td>1.416268e+00</td>\n",
       "    </tr>\n",
       "  </tbody>\n",
       "</table>\n",
       "</div>"
      ],
      "text/plain": [
       "                 0             1   ...            28            29\n",
       "count  5.170000e+02  5.170000e+02  ...  5.170000e+02  5.170000e+02\n",
       "mean  -4.874674e-17  5.110891e-17  ...  6.253326e-16  4.024290e-16\n",
       "std    1.000969e+00  1.000969e+00  ...  1.000969e+00  1.000969e+00\n",
       "min   -1.317959e+00 -1.423121e+00  ... -1.728597e-01 -7.060812e-01\n",
       "25%   -1.089076e+00 -9.031536e-01  ... -1.728597e-01 -7.060812e-01\n",
       "50%    5.533922e-02  1.367805e-01  ... -1.728597e-01 -7.060812e-01\n",
       "75%    1.199754e+00  6.567476e-01  ... -1.728597e-01  1.416268e+00\n",
       "max    1.199754e+00  1.696682e+00  ...  5.785038e+00  1.416268e+00\n",
       "\n",
       "[8 rows x 30 columns]"
      ]
     },
     "execution_count": 9,
     "metadata": {},
     "output_type": "execute_result"
    }
   ],
   "source": [
    "pd.DataFrame(X_standardized).describe()"
   ]
  },
  {
   "cell_type": "markdown",
   "metadata": {
    "id": "ED8yJunet7FK"
   },
   "source": [
    "#### Tuning of Hyperparameters :- Batch Size and Epochs"
   ]
  },
  {
   "cell_type": "code",
   "execution_count": 10,
   "metadata": {
    "id": "xS9o2Ngit7FM"
   },
   "outputs": [],
   "source": [
    "# Importing the necessary packages\n",
    "from sklearn.model_selection import GridSearchCV, KFold\n",
    "from keras.models import Sequential\n",
    "from keras.layers import Dense\n",
    "from keras.wrappers.scikit_learn import KerasClassifier\n",
    "#from keras.optimizers import Adam\n",
    "from tensorflow.keras.optimizers import Adam # - Works\n"
   ]
  },
  {
   "cell_type": "code",
   "execution_count": 11,
   "metadata": {
    "id": "2uHDcHsft7FO"
   },
   "outputs": [],
   "source": [
    "# create model\n",
    "def create_model():\n",
    "    model = Sequential()\n",
    "    model.add(Dense(12, input_dim=30, kernel_initializer='uniform', activation='relu'))\n",
    "    model.add(Dense(8, kernel_initializer='uniform', activation='sigmoid'))\n",
    "    model.add(Dense(4, kernel_initializer='uniform', activation='relu'))\n",
    "    model.add(Dense(1, kernel_initializer='uniform', activation='linear'))\n",
    "    \n",
    "    adam=Adam(learning_rate=0.01)\n",
    "    model.compile(loss='binary_crossentropy', optimizer=adam, metrics=['accuracy'])\n",
    "    return model"
   ]
  },
  {
   "cell_type": "code",
   "execution_count": 12,
   "metadata": {
    "id": "eZGhcUFft7FR"
   },
   "outputs": [],
   "source": [
    "# Create the model\n",
    "model = KerasClassifier(build_fn = create_model,verbose = 0)\n",
    "# Define the grid search parameters\n",
    "batch_size = [10,20,40]\n",
    "epochs = [10,50,100]\n",
    "# Make a dictionary of the grid search parameters\n",
    "param_grid = dict(batch_size = batch_size,epochs = epochs)\n",
    "# Build and fit the GridSearchCV\n",
    "grid = GridSearchCV(estimator = model,param_grid = param_grid,cv = KFold(),verbose = 10)\n"
   ]
  },
  {
   "cell_type": "code",
   "execution_count": 13,
   "metadata": {
    "colab": {
     "base_uri": "https://localhost:8080/"
    },
    "id": "Rd9jei5mwAkh",
    "outputId": "c190c782-f601-4322-8e82-41d9144b0385"
   },
   "outputs": [
    {
     "name": "stdout",
     "output_type": "stream",
     "text": [
      "Fitting 5 folds for each of 9 candidates, totalling 45 fits\n",
      "[CV] batch_size=10, epochs=10 ........................................\n"
     ]
    },
    {
     "name": "stderr",
     "output_type": "stream",
     "text": [
      "[Parallel(n_jobs=1)]: Using backend SequentialBackend with 1 concurrent workers.\n"
     ]
    },
    {
     "name": "stdout",
     "output_type": "stream",
     "text": [
      "[CV] ............ batch_size=10, epochs=10, score=0.981, total=   2.9s\n",
      "[CV] batch_size=10, epochs=10 ........................................\n"
     ]
    },
    {
     "name": "stderr",
     "output_type": "stream",
     "text": [
      "[Parallel(n_jobs=1)]: Done   1 out of   1 | elapsed:    2.9s remaining:    0.0s\n"
     ]
    },
    {
     "name": "stdout",
     "output_type": "stream",
     "text": [
      "[CV] ............ batch_size=10, epochs=10, score=0.750, total=   1.9s\n",
      "[CV] batch_size=10, epochs=10 ........................................\n"
     ]
    },
    {
     "name": "stderr",
     "output_type": "stream",
     "text": [
      "[Parallel(n_jobs=1)]: Done   2 out of   2 | elapsed:    4.8s remaining:    0.0s\n"
     ]
    },
    {
     "name": "stdout",
     "output_type": "stream",
     "text": [
      "[CV] ............ batch_size=10, epochs=10, score=0.476, total=   2.2s\n",
      "[CV] batch_size=10, epochs=10 ........................................\n"
     ]
    },
    {
     "name": "stderr",
     "output_type": "stream",
     "text": [
      "[Parallel(n_jobs=1)]: Done   3 out of   3 | elapsed:    7.1s remaining:    0.0s\n"
     ]
    },
    {
     "name": "stdout",
     "output_type": "stream",
     "text": [
      "[CV] ............ batch_size=10, epochs=10, score=0.786, total=   2.1s\n",
      "[CV] batch_size=10, epochs=10 ........................................\n"
     ]
    },
    {
     "name": "stderr",
     "output_type": "stream",
     "text": [
      "[Parallel(n_jobs=1)]: Done   4 out of   4 | elapsed:    9.1s remaining:    0.0s\n"
     ]
    },
    {
     "name": "stdout",
     "output_type": "stream",
     "text": [
      "[CV] ............ batch_size=10, epochs=10, score=0.767, total=   1.9s\n",
      "[CV] batch_size=10, epochs=50 ........................................\n"
     ]
    },
    {
     "name": "stderr",
     "output_type": "stream",
     "text": [
      "[Parallel(n_jobs=1)]: Done   5 out of   5 | elapsed:   11.0s remaining:    0.0s\n"
     ]
    },
    {
     "name": "stdout",
     "output_type": "stream",
     "text": [
      "[CV] ............ batch_size=10, epochs=50, score=1.000, total=  11.0s\n",
      "[CV] batch_size=10, epochs=50 ........................................\n"
     ]
    },
    {
     "name": "stderr",
     "output_type": "stream",
     "text": [
      "[Parallel(n_jobs=1)]: Done   6 out of   6 | elapsed:   22.1s remaining:    0.0s\n"
     ]
    },
    {
     "name": "stdout",
     "output_type": "stream",
     "text": [
      "[CV] ............ batch_size=10, epochs=50, score=0.837, total=  11.1s\n",
      "[CV] batch_size=10, epochs=50 ........................................\n"
     ]
    },
    {
     "name": "stderr",
     "output_type": "stream",
     "text": [
      "[Parallel(n_jobs=1)]: Done   7 out of   7 | elapsed:   33.1s remaining:    0.0s\n"
     ]
    },
    {
     "name": "stdout",
     "output_type": "stream",
     "text": [
      "[CV] ............ batch_size=10, epochs=50, score=0.476, total=  11.1s\n",
      "[CV] batch_size=10, epochs=50 ........................................\n"
     ]
    },
    {
     "name": "stderr",
     "output_type": "stream",
     "text": [
      "[Parallel(n_jobs=1)]: Done   8 out of   8 | elapsed:   44.2s remaining:    0.0s\n"
     ]
    },
    {
     "name": "stdout",
     "output_type": "stream",
     "text": [
      "[CV] ............ batch_size=10, epochs=50, score=0.903, total=   6.1s\n",
      "[CV] batch_size=10, epochs=50 ........................................\n"
     ]
    },
    {
     "name": "stderr",
     "output_type": "stream",
     "text": [
      "[Parallel(n_jobs=1)]: Done   9 out of   9 | elapsed:   50.3s remaining:    0.0s\n"
     ]
    },
    {
     "name": "stdout",
     "output_type": "stream",
     "text": [
      "[CV] ............ batch_size=10, epochs=50, score=0.301, total=   6.1s\n",
      "[CV] batch_size=10, epochs=100 .......................................\n",
      "[CV] ........... batch_size=10, epochs=100, score=0.000, total=  21.3s\n",
      "[CV] batch_size=10, epochs=100 .......................................\n",
      "[CV] ........... batch_size=10, epochs=100, score=0.250, total=  21.6s\n",
      "[CV] batch_size=10, epochs=100 .......................................\n",
      "[CV] ........... batch_size=10, epochs=100, score=0.816, total=  21.3s\n",
      "[CV] batch_size=10, epochs=100 .......................................\n",
      "[CV] ........... batch_size=10, epochs=100, score=0.320, total=  11.4s\n",
      "[CV] batch_size=10, epochs=100 .......................................\n",
      "[CV] ........... batch_size=10, epochs=100, score=0.301, total=  11.5s\n",
      "[CV] batch_size=20, epochs=10 ........................................\n",
      "[CV] ............ batch_size=20, epochs=10, score=1.000, total=   1.4s\n",
      "[CV] batch_size=20, epochs=10 ........................................\n",
      "[CV] ............ batch_size=20, epochs=10, score=0.750, total=   1.3s\n",
      "[CV] batch_size=20, epochs=10 ........................................\n",
      "[CV] ............ batch_size=20, epochs=10, score=0.476, total=   1.4s\n",
      "[CV] batch_size=20, epochs=10 ........................................\n",
      "[CV] ............ batch_size=20, epochs=10, score=0.709, total=   1.4s\n",
      "[CV] batch_size=20, epochs=10 ........................................\n",
      "[CV] ............ batch_size=20, epochs=10, score=0.738, total=   1.3s\n",
      "[CV] batch_size=20, epochs=50 ........................................\n",
      "[CV] ............ batch_size=20, epochs=50, score=1.000, total=   6.2s\n",
      "[CV] batch_size=20, epochs=50 ........................................\n",
      "[CV] ............ batch_size=20, epochs=50, score=0.865, total=   5.9s\n",
      "[CV] batch_size=20, epochs=50 ........................................\n",
      "[CV] ............ batch_size=20, epochs=50, score=0.476, total=   3.6s\n",
      "[CV] batch_size=20, epochs=50 ........................................\n",
      "[CV] ............ batch_size=20, epochs=50, score=0.922, total=   3.5s\n",
      "[CV] batch_size=20, epochs=50 ........................................\n",
      "[CV] ............ batch_size=20, epochs=50, score=0.301, total=   5.9s\n",
      "[CV] batch_size=20, epochs=100 .......................................\n",
      "[CV] ........... batch_size=20, epochs=100, score=0.000, total=  11.0s\n",
      "[CV] batch_size=20, epochs=100 .......................................\n",
      "[CV] ........... batch_size=20, epochs=100, score=0.250, total=   6.1s\n",
      "[CV] batch_size=20, epochs=100 .......................................\n",
      "[CV] ........... batch_size=20, epochs=100, score=0.476, total=  11.0s\n",
      "[CV] batch_size=20, epochs=100 .......................................\n",
      "[CV] ........... batch_size=20, epochs=100, score=0.320, total=  11.3s\n",
      "[CV] batch_size=20, epochs=100 .......................................\n",
      "[CV] ........... batch_size=20, epochs=100, score=0.913, total=  11.0s\n",
      "[CV] batch_size=40, epochs=10 ........................................\n",
      "[CV] ............ batch_size=40, epochs=10, score=0.000, total=   1.1s\n",
      "[CV] batch_size=40, epochs=10 ........................................\n",
      "[CV] ............ batch_size=40, epochs=10, score=0.750, total=   1.4s\n",
      "[CV] batch_size=40, epochs=10 ........................................\n",
      "[CV] ............ batch_size=40, epochs=10, score=0.476, total=   1.4s\n",
      "[CV] batch_size=40, epochs=10 ........................................\n",
      "WARNING:tensorflow:5 out of the last 16 calls to <function Model.make_test_function.<locals>.test_function at 0x7f1fefedce60> triggered tf.function retracing. Tracing is expensive and the excessive number of tracings could be due to (1) creating @tf.function repeatedly in a loop, (2) passing tensors with different shapes, (3) passing Python objects instead of tensors. For (1), please define your @tf.function outside of the loop. For (2), @tf.function has experimental_relax_shapes=True option that relaxes argument shapes that can avoid unnecessary retracing. For (3), please refer to https://www.tensorflow.org/guide/function#controlling_retracing and https://www.tensorflow.org/api_docs/python/tf/function for  more details.\n",
      "[CV] ............ batch_size=40, epochs=10, score=0.680, total=   1.1s\n",
      "[CV] batch_size=40, epochs=10 ........................................\n",
      "WARNING:tensorflow:5 out of the last 13 calls to <function Model.make_test_function.<locals>.test_function at 0x7f1fef3dca70> triggered tf.function retracing. Tracing is expensive and the excessive number of tracings could be due to (1) creating @tf.function repeatedly in a loop, (2) passing tensors with different shapes, (3) passing Python objects instead of tensors. For (1), please define your @tf.function outside of the loop. For (2), @tf.function has experimental_relax_shapes=True option that relaxes argument shapes that can avoid unnecessary retracing. For (3), please refer to https://www.tensorflow.org/guide/function#controlling_retracing and https://www.tensorflow.org/api_docs/python/tf/function for  more details.\n",
      "[CV] ............ batch_size=40, epochs=10, score=0.301, total=   1.4s\n",
      "[CV] batch_size=40, epochs=50 ........................................\n",
      "[CV] ............ batch_size=40, epochs=50, score=1.000, total=   2.3s\n",
      "[CV] batch_size=40, epochs=50 ........................................\n",
      "[CV] ............ batch_size=40, epochs=50, score=0.250, total=   2.3s\n",
      "[CV] batch_size=40, epochs=50 ........................................\n",
      "[CV] ............ batch_size=40, epochs=50, score=0.476, total=   3.6s\n",
      "[CV] batch_size=40, epochs=50 ........................................\n",
      "[CV] ............ batch_size=40, epochs=50, score=0.903, total=   3.3s\n",
      "[CV] batch_size=40, epochs=50 ........................................\n",
      "[CV] ............ batch_size=40, epochs=50, score=0.301, total=   3.3s\n",
      "[CV] batch_size=40, epochs=100 .......................................\n",
      "[CV] ........... batch_size=40, epochs=100, score=1.000, total=   5.9s\n",
      "[CV] batch_size=40, epochs=100 .......................................\n",
      "[CV] ........... batch_size=40, epochs=100, score=0.808, total=   3.8s\n",
      "[CV] batch_size=40, epochs=100 .......................................\n",
      "[CV] ........... batch_size=40, epochs=100, score=0.476, total=   5.9s\n",
      "[CV] batch_size=40, epochs=100 .......................................\n",
      "[CV] ........... batch_size=40, epochs=100, score=0.320, total=   5.9s\n",
      "[CV] batch_size=40, epochs=100 .......................................\n",
      "[CV] ........... batch_size=40, epochs=100, score=0.301, total=   3.8s\n"
     ]
    },
    {
     "name": "stderr",
     "output_type": "stream",
     "text": [
      "[Parallel(n_jobs=1)]: Done  45 out of  45 | elapsed:  4.5min finished\n"
     ]
    }
   ],
   "source": [
    "grid_result = grid.fit(X_standardized,Y)"
   ]
  },
  {
   "cell_type": "code",
   "execution_count": 14,
   "metadata": {
    "colab": {
     "base_uri": "https://localhost:8080/"
    },
    "id": "-ePL5_24t7FT",
    "outputId": "99e57f93-0be8-4f3a-8a53-6998b48c6a56"
   },
   "outputs": [
    {
     "name": "stdout",
     "output_type": "stream",
     "text": [
      "Best : 0.7519790887832641, using {'batch_size': 10, 'epochs': 10}\n",
      "0.7519790887832641,0.1612910964814406 with: {'batch_size': 10, 'epochs': 10}\n",
      "0.7032300174236298,0.26806201022489234 with: {'batch_size': 10, 'epochs': 50}\n",
      "0.3373786449432373,0.26521919706594393 with: {'batch_size': 10, 'epochs': 100}\n",
      "0.734466016292572,0.16635406084067653 with: {'batch_size': 20, 'epochs': 10}\n",
      "0.7128827512264252,0.27403467481797533 with: {'batch_size': 20, 'epochs': 50}\n",
      "0.3917475759983063,0.30232860739199974 with: {'batch_size': 20, 'epochs': 100}\n",
      "0.44126213192939756,0.27118678497785204 with: {'batch_size': 40, 'epochs': 10}\n",
      "0.5859223306179047,0.30923358629573006 with: {'batch_size': 40, 'epochs': 50}\n",
      "0.5809559345245361,0.27726063060572836 with: {'batch_size': 40, 'epochs': 100}\n"
     ]
    }
   ],
   "source": [
    "# Summarize the results\n",
    "print('Best : {}, using {}'.format(grid_result.best_score_,grid_result.best_params_))\n",
    "means = grid_result.cv_results_['mean_test_score']\n",
    "stds = grid_result.cv_results_['std_test_score']\n",
    "params = grid_result.cv_results_['params']\n",
    "for mean, stdev, param in zip(means, stds, params):\n",
    "  print('{},{} with: {}'.format(mean, stdev, param))"
   ]
  },
  {
   "cell_type": "markdown",
   "metadata": {
    "id": "cdAyLN54t7FU"
   },
   "source": [
    "#### Tuning of Hyperparameters:- Learning rate and Drop out rate"
   ]
  },
  {
   "cell_type": "code",
   "execution_count": 16,
   "metadata": {
    "colab": {
     "base_uri": "https://localhost:8080/"
    },
    "id": "8oz_0EFPt7FU",
    "outputId": "df8e1204-99b4-401d-ce86-78b2f74b761c"
   },
   "outputs": [
    {
     "name": "stdout",
     "output_type": "stream",
     "text": [
      "Fitting 5 folds for each of 9 candidates, totalling 45 fits\n",
      "[CV] dropout_rate=0.0, learning_rate=0.001 ...........................\n"
     ]
    },
    {
     "name": "stderr",
     "output_type": "stream",
     "text": [
      "[Parallel(n_jobs=1)]: Using backend SequentialBackend with 1 concurrent workers.\n",
      "/usr/local/lib/python3.7/dist-packages/keras/optimizer_v2/optimizer_v2.py:356: UserWarning: The `lr` argument is deprecated, use `learning_rate` instead.\n",
      "  \"The `lr` argument is deprecated, use `learning_rate` instead.\")\n"
     ]
    },
    {
     "name": "stdout",
     "output_type": "stream",
     "text": [
      "[CV]  dropout_rate=0.0, learning_rate=0.001, score=1.000, total=   1.5s\n",
      "[CV] dropout_rate=0.0, learning_rate=0.001 ...........................\n"
     ]
    },
    {
     "name": "stderr",
     "output_type": "stream",
     "text": [
      "[Parallel(n_jobs=1)]: Done   1 out of   1 | elapsed:    1.5s remaining:    0.0s\n"
     ]
    },
    {
     "name": "stdout",
     "output_type": "stream",
     "text": [
      "[CV]  dropout_rate=0.0, learning_rate=0.001, score=0.250, total=   1.4s\n",
      "[CV] dropout_rate=0.0, learning_rate=0.001 ...........................\n"
     ]
    },
    {
     "name": "stderr",
     "output_type": "stream",
     "text": [
      "[Parallel(n_jobs=1)]: Done   2 out of   2 | elapsed:    2.9s remaining:    0.0s\n"
     ]
    },
    {
     "name": "stdout",
     "output_type": "stream",
     "text": [
      "[CV]  dropout_rate=0.0, learning_rate=0.001, score=0.476, total=   1.5s\n",
      "[CV] dropout_rate=0.0, learning_rate=0.001 ...........................\n"
     ]
    },
    {
     "name": "stderr",
     "output_type": "stream",
     "text": [
      "[Parallel(n_jobs=1)]: Done   3 out of   3 | elapsed:    4.4s remaining:    0.0s\n"
     ]
    },
    {
     "name": "stdout",
     "output_type": "stream",
     "text": [
      "[CV]  dropout_rate=0.0, learning_rate=0.001, score=0.320, total=   1.2s\n",
      "[CV] dropout_rate=0.0, learning_rate=0.001 ...........................\n"
     ]
    },
    {
     "name": "stderr",
     "output_type": "stream",
     "text": [
      "[Parallel(n_jobs=1)]: Done   4 out of   4 | elapsed:    5.5s remaining:    0.0s\n"
     ]
    },
    {
     "name": "stdout",
     "output_type": "stream",
     "text": [
      "[CV]  dropout_rate=0.0, learning_rate=0.001, score=0.301, total=   1.5s\n",
      "[CV] dropout_rate=0.0, learning_rate=0.01 ............................\n"
     ]
    },
    {
     "name": "stderr",
     "output_type": "stream",
     "text": [
      "[Parallel(n_jobs=1)]: Done   5 out of   5 | elapsed:    7.0s remaining:    0.0s\n"
     ]
    },
    {
     "name": "stdout",
     "output_type": "stream",
     "text": [
      "[CV]  dropout_rate=0.0, learning_rate=0.01, score=0.000, total=   1.5s\n",
      "[CV] dropout_rate=0.0, learning_rate=0.01 ............................\n"
     ]
    },
    {
     "name": "stderr",
     "output_type": "stream",
     "text": [
      "[Parallel(n_jobs=1)]: Done   6 out of   6 | elapsed:    8.5s remaining:    0.0s\n"
     ]
    },
    {
     "name": "stdout",
     "output_type": "stream",
     "text": [
      "[CV]  dropout_rate=0.0, learning_rate=0.01, score=0.750, total=   1.1s\n",
      "[CV] dropout_rate=0.0, learning_rate=0.01 ............................\n"
     ]
    },
    {
     "name": "stderr",
     "output_type": "stream",
     "text": [
      "[Parallel(n_jobs=1)]: Done   7 out of   7 | elapsed:    9.6s remaining:    0.0s\n"
     ]
    },
    {
     "name": "stdout",
     "output_type": "stream",
     "text": [
      "[CV]  dropout_rate=0.0, learning_rate=0.01, score=0.476, total=   1.4s\n",
      "[CV] dropout_rate=0.0, learning_rate=0.01 ............................\n"
     ]
    },
    {
     "name": "stderr",
     "output_type": "stream",
     "text": [
      "[Parallel(n_jobs=1)]: Done   8 out of   8 | elapsed:   11.0s remaining:    0.0s\n"
     ]
    },
    {
     "name": "stdout",
     "output_type": "stream",
     "text": [
      "[CV]  dropout_rate=0.0, learning_rate=0.01, score=0.816, total=   1.4s\n",
      "[CV] dropout_rate=0.0, learning_rate=0.01 ............................\n"
     ]
    },
    {
     "name": "stderr",
     "output_type": "stream",
     "text": [
      "[Parallel(n_jobs=1)]: Done   9 out of   9 | elapsed:   12.5s remaining:    0.0s\n"
     ]
    },
    {
     "name": "stdout",
     "output_type": "stream",
     "text": [
      "[CV]  dropout_rate=0.0, learning_rate=0.01, score=0.301, total=   1.7s\n",
      "[CV] dropout_rate=0.0, learning_rate=0.1 .............................\n",
      "[CV] . dropout_rate=0.0, learning_rate=0.1, score=0.000, total=   1.5s\n",
      "[CV] dropout_rate=0.0, learning_rate=0.1 .............................\n",
      "[CV] . dropout_rate=0.0, learning_rate=0.1, score=0.250, total=   1.4s\n",
      "[CV] dropout_rate=0.0, learning_rate=0.1 .............................\n",
      "[CV] . dropout_rate=0.0, learning_rate=0.1, score=0.476, total=   1.4s\n",
      "[CV] dropout_rate=0.0, learning_rate=0.1 .............................\n",
      "[CV] . dropout_rate=0.0, learning_rate=0.1, score=0.320, total=   1.4s\n",
      "[CV] dropout_rate=0.0, learning_rate=0.1 .............................\n",
      "[CV] . dropout_rate=0.0, learning_rate=0.1, score=0.301, total=   1.5s\n",
      "[CV] dropout_rate=0.1, learning_rate=0.001 ...........................\n",
      "[CV]  dropout_rate=0.1, learning_rate=0.001, score=1.000, total=   1.5s\n",
      "[CV] dropout_rate=0.1, learning_rate=0.001 ...........................\n",
      "[CV]  dropout_rate=0.1, learning_rate=0.001, score=0.750, total=   1.5s\n",
      "[CV] dropout_rate=0.1, learning_rate=0.001 ...........................\n",
      "[CV]  dropout_rate=0.1, learning_rate=0.001, score=0.476, total=   1.5s\n",
      "[CV] dropout_rate=0.1, learning_rate=0.001 ...........................\n",
      "[CV]  dropout_rate=0.1, learning_rate=0.001, score=0.320, total=   1.8s\n",
      "[CV] dropout_rate=0.1, learning_rate=0.001 ...........................\n",
      "[CV]  dropout_rate=0.1, learning_rate=0.001, score=0.301, total=   1.5s\n",
      "[CV] dropout_rate=0.1, learning_rate=0.01 ............................\n",
      "[CV]  dropout_rate=0.1, learning_rate=0.01, score=1.000, total=   1.5s\n",
      "[CV] dropout_rate=0.1, learning_rate=0.01 ............................\n",
      "[CV]  dropout_rate=0.1, learning_rate=0.01, score=0.750, total=   1.5s\n",
      "[CV] dropout_rate=0.1, learning_rate=0.01 ............................\n",
      "[CV]  dropout_rate=0.1, learning_rate=0.01, score=0.524, total=   1.2s\n",
      "[CV] dropout_rate=0.1, learning_rate=0.01 ............................\n",
      "[CV]  dropout_rate=0.1, learning_rate=0.01, score=0.738, total=   1.2s\n",
      "[CV] dropout_rate=0.1, learning_rate=0.01 ............................\n",
      "[CV]  dropout_rate=0.1, learning_rate=0.01, score=0.699, total=   1.5s\n",
      "[CV] dropout_rate=0.1, learning_rate=0.1 .............................\n",
      "[CV] . dropout_rate=0.1, learning_rate=0.1, score=1.000, total=   1.8s\n",
      "[CV] dropout_rate=0.1, learning_rate=0.1 .............................\n",
      "[CV] . dropout_rate=0.1, learning_rate=0.1, score=0.750, total=   1.5s\n",
      "[CV] dropout_rate=0.1, learning_rate=0.1 .............................\n",
      "[CV] . dropout_rate=0.1, learning_rate=0.1, score=0.524, total=   1.2s\n",
      "[CV] dropout_rate=0.1, learning_rate=0.1 .............................\n",
      "[CV] . dropout_rate=0.1, learning_rate=0.1, score=0.320, total=   1.5s\n",
      "[CV] dropout_rate=0.1, learning_rate=0.1 .............................\n",
      "[CV] . dropout_rate=0.1, learning_rate=0.1, score=0.699, total=   1.2s\n",
      "[CV] dropout_rate=0.2, learning_rate=0.001 ...........................\n",
      "[CV]  dropout_rate=0.2, learning_rate=0.001, score=1.000, total=   1.2s\n",
      "[CV] dropout_rate=0.2, learning_rate=0.001 ...........................\n",
      "[CV]  dropout_rate=0.2, learning_rate=0.001, score=0.250, total=   1.5s\n",
      "[CV] dropout_rate=0.2, learning_rate=0.001 ...........................\n",
      "[CV]  dropout_rate=0.2, learning_rate=0.001, score=0.476, total=   1.5s\n",
      "[CV] dropout_rate=0.2, learning_rate=0.001 ...........................\n",
      "[CV]  dropout_rate=0.2, learning_rate=0.001, score=0.680, total=   1.5s\n",
      "[CV] dropout_rate=0.2, learning_rate=0.001 ...........................\n",
      "[CV]  dropout_rate=0.2, learning_rate=0.001, score=0.699, total=   1.2s\n",
      "[CV] dropout_rate=0.2, learning_rate=0.01 ............................\n",
      "[CV]  dropout_rate=0.2, learning_rate=0.01, score=1.000, total=   1.5s\n",
      "[CV] dropout_rate=0.2, learning_rate=0.01 ............................\n",
      "[CV]  dropout_rate=0.2, learning_rate=0.01, score=0.250, total=   1.2s\n",
      "[CV] dropout_rate=0.2, learning_rate=0.01 ............................\n",
      "[CV]  dropout_rate=0.2, learning_rate=0.01, score=0.524, total=   1.5s\n",
      "[CV] dropout_rate=0.2, learning_rate=0.01 ............................\n",
      "[CV]  dropout_rate=0.2, learning_rate=0.01, score=0.680, total=   1.2s\n",
      "[CV] dropout_rate=0.2, learning_rate=0.01 ............................\n",
      "[CV]  dropout_rate=0.2, learning_rate=0.01, score=0.699, total=   1.5s\n",
      "[CV] dropout_rate=0.2, learning_rate=0.1 .............................\n",
      "[CV] . dropout_rate=0.2, learning_rate=0.1, score=1.000, total=   1.3s\n",
      "[CV] dropout_rate=0.2, learning_rate=0.1 .............................\n",
      "[CV] . dropout_rate=0.2, learning_rate=0.1, score=0.750, total=   1.8s\n",
      "[CV] dropout_rate=0.2, learning_rate=0.1 .............................\n",
      "[CV] . dropout_rate=0.2, learning_rate=0.1, score=0.524, total=   1.2s\n",
      "[CV] dropout_rate=0.2, learning_rate=0.1 .............................\n",
      "[CV] . dropout_rate=0.2, learning_rate=0.1, score=0.320, total=   1.5s\n",
      "[CV] dropout_rate=0.2, learning_rate=0.1 .............................\n",
      "[CV] . dropout_rate=0.2, learning_rate=0.1, score=0.699, total=   1.2s\n"
     ]
    },
    {
     "name": "stderr",
     "output_type": "stream",
     "text": [
      "[Parallel(n_jobs=1)]: Done  45 out of  45 | elapsed:  1.1min finished\n"
     ]
    }
   ],
   "source": [
    "from keras.layers import Dropout\n",
    "\n",
    "# Defining the model\n",
    "\n",
    "def create_model(learning_rate,dropout_rate):\n",
    "    model = Sequential()\n",
    "    model.add(Dense(12,input_dim = 30,kernel_initializer = 'normal',activation = 'relu'))\n",
    "    model.add(Dropout(dropout_rate))\n",
    "    model.add(Dense(8,input_dim = 30,kernel_initializer = 'normal',activation = 'softmax'))\n",
    "    model.add(Dropout(dropout_rate))\n",
    "    model.add(Dense(4,input_dim = 30,kernel_initializer = 'normal',activation = 'sigmoid'))\n",
    "    model.add(Dropout(dropout_rate))\n",
    "    model.add(Dense(1,activation = 'linear'))\n",
    "    \n",
    "    adam = Adam(lr = learning_rate)\n",
    "    model.compile(loss = 'binary_crossentropy',optimizer = adam,metrics = ['accuracy'])\n",
    "    return model\n",
    "\n",
    "# Create the model\n",
    "\n",
    "model = KerasClassifier(build_fn = create_model,verbose = 0,batch_size = 40,epochs = 10)\n",
    "\n",
    "# Define the grid search parameters\n",
    "\n",
    "learning_rate = [0.001,0.01,0.1]\n",
    "dropout_rate = [0.0,0.1,0.2]\n",
    "\n",
    "# Make a dictionary of the grid search parameters\n",
    "\n",
    "param_grids = dict(learning_rate = learning_rate,dropout_rate = dropout_rate)\n",
    "\n",
    "# Build and fit the GridSearchCV\n",
    "\n",
    "grid = GridSearchCV(estimator = model,param_grid = param_grids,cv = KFold(),verbose = 10)\n",
    "grid_result = grid.fit(X_standardized,Y)\n"
   ]
  },
  {
   "cell_type": "code",
   "execution_count": 17,
   "metadata": {
    "colab": {
     "base_uri": "https://localhost:8080/"
    },
    "id": "Pb9ACjXPt7FW",
    "outputId": "aa962a17-f47a-4776-e7d3-c045f8f39d9e"
   },
   "outputs": [
    {
     "name": "stdout",
     "output_type": "stream",
     "text": [
      "Best : 0.7422330141067505, using {'dropout_rate': 0.1, 'learning_rate': 0.01}\n",
      "0.46941747665405276,0.2757845552220708 with: {'dropout_rate': 0.0, 'learning_rate': 0.001}\n",
      "0.4684466063976288,0.2990937416258381 with: {'dropout_rate': 0.0, 'learning_rate': 0.01}\n",
      "0.26941747665405275,0.15435061244017306 with: {'dropout_rate': 0.0, 'learning_rate': 0.1}\n",
      "0.5694174766540527,0.2686514946324045 with: {'dropout_rate': 0.1, 'learning_rate': 0.001}\n",
      "0.7422330141067505,0.15224774392940219 with: {'dropout_rate': 0.1, 'learning_rate': 0.01}\n",
      "0.6587378680706024,0.22758449693740784 with: {'dropout_rate': 0.1, 'learning_rate': 0.1}\n",
      "0.6208737850189209,0.2497637683090065 with: {'dropout_rate': 0.2, 'learning_rate': 0.001}\n",
      "0.6305825233459472,0.24482772813004766 with: {'dropout_rate': 0.2, 'learning_rate': 0.01}\n",
      "0.6587378680706024,0.22758449693740784 with: {'dropout_rate': 0.2, 'learning_rate': 0.1}\n"
     ]
    }
   ],
   "source": [
    "# Summarize the results\n",
    "print('Best : {}, using {}'.format(grid_result.best_score_,grid_result.best_params_))\n",
    "means = grid_result.cv_results_['mean_test_score']\n",
    "stds = grid_result.cv_results_['std_test_score']\n",
    "params = grid_result.cv_results_['params']\n",
    "for mean, stdev, param in zip(means, stds, params):\n",
    "  print('{},{} with: {}'.format(mean, stdev, param))"
   ]
  },
  {
   "cell_type": "markdown",
   "metadata": {
    "id": "pyGDbpO4t7FW"
   },
   "source": [
    "#### Tuning of Hyperparameters:- Activation Function and Kernel Initializer"
   ]
  },
  {
   "cell_type": "code",
   "execution_count": 23,
   "metadata": {
    "colab": {
     "base_uri": "https://localhost:8080/"
    },
    "id": "j6Z9SSHIt7FX",
    "outputId": "2bcd2707-a567-47ae-b119-7f3356593211"
   },
   "outputs": [
    {
     "name": "stdout",
     "output_type": "stream",
     "text": [
      "Fitting 5 folds for each of 12 candidates, totalling 60 fits\n",
      "[CV] activation_function=softmax, init=uniform .......................\n"
     ]
    },
    {
     "name": "stderr",
     "output_type": "stream",
     "text": [
      "[Parallel(n_jobs=1)]: Using backend SequentialBackend with 1 concurrent workers.\n",
      "/usr/local/lib/python3.7/dist-packages/keras/optimizer_v2/optimizer_v2.py:356: UserWarning: The `lr` argument is deprecated, use `learning_rate` instead.\n",
      "  \"The `lr` argument is deprecated, use `learning_rate` instead.\")\n"
     ]
    },
    {
     "name": "stdout",
     "output_type": "stream",
     "text": [
      "[CV]  activation_function=softmax, init=uniform, score=1.000, total=   1.6s\n",
      "[CV] activation_function=softmax, init=uniform .......................\n"
     ]
    },
    {
     "name": "stderr",
     "output_type": "stream",
     "text": [
      "[Parallel(n_jobs=1)]: Done   1 out of   1 | elapsed:    1.6s remaining:    0.0s\n"
     ]
    },
    {
     "name": "stdout",
     "output_type": "stream",
     "text": [
      "[CV]  activation_function=softmax, init=uniform, score=0.750, total=   1.3s\n",
      "[CV] activation_function=softmax, init=uniform .......................\n"
     ]
    },
    {
     "name": "stderr",
     "output_type": "stream",
     "text": [
      "[Parallel(n_jobs=1)]: Done   2 out of   2 | elapsed:    2.8s remaining:    0.0s\n"
     ]
    },
    {
     "name": "stdout",
     "output_type": "stream",
     "text": [
      "[CV]  activation_function=softmax, init=uniform, score=0.524, total=   1.6s\n",
      "[CV] activation_function=softmax, init=uniform .......................\n"
     ]
    },
    {
     "name": "stderr",
     "output_type": "stream",
     "text": [
      "[Parallel(n_jobs=1)]: Done   3 out of   3 | elapsed:    4.4s remaining:    0.0s\n"
     ]
    },
    {
     "name": "stdout",
     "output_type": "stream",
     "text": [
      "[CV]  activation_function=softmax, init=uniform, score=0.680, total=   1.5s\n",
      "[CV] activation_function=softmax, init=uniform .......................\n"
     ]
    },
    {
     "name": "stderr",
     "output_type": "stream",
     "text": [
      "[Parallel(n_jobs=1)]: Done   4 out of   4 | elapsed:    6.0s remaining:    0.0s\n"
     ]
    },
    {
     "name": "stdout",
     "output_type": "stream",
     "text": [
      "[CV]  activation_function=softmax, init=uniform, score=0.699, total=   1.5s\n",
      "[CV] activation_function=softmax, init=normal ........................\n"
     ]
    },
    {
     "name": "stderr",
     "output_type": "stream",
     "text": [
      "[Parallel(n_jobs=1)]: Done   5 out of   5 | elapsed:    7.5s remaining:    0.0s\n"
     ]
    },
    {
     "name": "stdout",
     "output_type": "stream",
     "text": [
      "[CV]  activation_function=softmax, init=normal, score=1.000, total=   1.6s\n",
      "[CV] activation_function=softmax, init=normal ........................\n"
     ]
    },
    {
     "name": "stderr",
     "output_type": "stream",
     "text": [
      "[Parallel(n_jobs=1)]: Done   6 out of   6 | elapsed:    9.1s remaining:    0.0s\n"
     ]
    },
    {
     "name": "stdout",
     "output_type": "stream",
     "text": [
      "[CV]  activation_function=softmax, init=normal, score=0.250, total=   1.6s\n",
      "[CV] activation_function=softmax, init=normal ........................\n"
     ]
    },
    {
     "name": "stderr",
     "output_type": "stream",
     "text": [
      "[Parallel(n_jobs=1)]: Done   7 out of   7 | elapsed:   10.6s remaining:    0.0s\n"
     ]
    },
    {
     "name": "stdout",
     "output_type": "stream",
     "text": [
      "[CV]  activation_function=softmax, init=normal, score=0.524, total=   1.3s\n",
      "[CV] activation_function=softmax, init=normal ........................\n"
     ]
    },
    {
     "name": "stderr",
     "output_type": "stream",
     "text": [
      "[Parallel(n_jobs=1)]: Done   8 out of   8 | elapsed:   11.9s remaining:    0.0s\n"
     ]
    },
    {
     "name": "stdout",
     "output_type": "stream",
     "text": [
      "[CV]  activation_function=softmax, init=normal, score=0.680, total=   1.3s\n",
      "[CV] activation_function=softmax, init=normal ........................\n"
     ]
    },
    {
     "name": "stderr",
     "output_type": "stream",
     "text": [
      "[Parallel(n_jobs=1)]: Done   9 out of   9 | elapsed:   13.2s remaining:    0.0s\n"
     ]
    },
    {
     "name": "stdout",
     "output_type": "stream",
     "text": [
      "[CV]  activation_function=softmax, init=normal, score=0.699, total=   1.5s\n",
      "[CV] activation_function=softmax, init=zero ..........................\n",
      "[CV]  activation_function=softmax, init=zero, score=1.000, total=   1.5s\n",
      "[CV] activation_function=softmax, init=zero ..........................\n",
      "[CV]  activation_function=softmax, init=zero, score=0.750, total=   1.5s\n",
      "[CV] activation_function=softmax, init=zero ..........................\n",
      "[CV]  activation_function=softmax, init=zero, score=0.476, total=   1.3s\n",
      "[CV] activation_function=softmax, init=zero ..........................\n",
      "[CV]  activation_function=softmax, init=zero, score=0.680, total=   1.5s\n",
      "[CV] activation_function=softmax, init=zero ..........................\n",
      "[CV]  activation_function=softmax, init=zero, score=0.699, total=   1.5s\n",
      "[CV] activation_function=relu, init=uniform ..........................\n",
      "[CV]  activation_function=relu, init=uniform, score=0.000, total=   1.2s\n",
      "[CV] activation_function=relu, init=uniform ..........................\n",
      "[CV]  activation_function=relu, init=uniform, score=0.712, total=   1.5s\n",
      "[CV] activation_function=relu, init=uniform ..........................\n",
      "[CV]  activation_function=relu, init=uniform, score=0.592, total=   1.5s\n",
      "[CV] activation_function=relu, init=uniform ..........................\n",
      "[CV]  activation_function=relu, init=uniform, score=0.709, total=   1.5s\n",
      "[CV] activation_function=relu, init=uniform ..........................\n",
      "[CV]  activation_function=relu, init=uniform, score=0.631, total=   1.8s\n",
      "[CV] activation_function=relu, init=normal ...........................\n",
      "[CV]  activation_function=relu, init=normal, score=0.904, total=   1.5s\n",
      "[CV] activation_function=relu, init=normal ...........................\n",
      "[CV]  activation_function=relu, init=normal, score=0.750, total=   1.5s\n",
      "[CV] activation_function=relu, init=normal ...........................\n",
      "[CV]  activation_function=relu, init=normal, score=0.670, total=   1.5s\n",
      "[CV] activation_function=relu, init=normal ...........................\n",
      "[CV]  activation_function=relu, init=normal, score=0.699, total=   1.2s\n",
      "[CV] activation_function=relu, init=normal ...........................\n",
      "[CV]  activation_function=relu, init=normal, score=0.534, total=   1.5s\n",
      "[CV] activation_function=relu, init=zero .............................\n",
      "[CV] . activation_function=relu, init=zero, score=0.000, total=   1.5s\n",
      "[CV] activation_function=relu, init=zero .............................\n",
      "[CV] . activation_function=relu, init=zero, score=0.250, total=   1.5s\n",
      "[CV] activation_function=relu, init=zero .............................\n",
      "[CV] . activation_function=relu, init=zero, score=0.476, total=   1.6s\n",
      "[CV] activation_function=relu, init=zero .............................\n",
      "[CV] . activation_function=relu, init=zero, score=0.320, total=   1.5s\n",
      "[CV] activation_function=relu, init=zero .............................\n",
      "[CV] . activation_function=relu, init=zero, score=0.301, total=   1.2s\n",
      "[CV] activation_function=tanh, init=uniform ..........................\n",
      "[CV]  activation_function=tanh, init=uniform, score=0.990, total=   1.5s\n",
      "[CV] activation_function=tanh, init=uniform ..........................\n",
      "[CV]  activation_function=tanh, init=uniform, score=0.750, total=   1.5s\n",
      "[CV] activation_function=tanh, init=uniform ..........................\n",
      "[CV]  activation_function=tanh, init=uniform, score=0.728, total=   1.5s\n",
      "[CV] activation_function=tanh, init=uniform ..........................\n",
      "[CV]  activation_function=tanh, init=uniform, score=0.748, total=   1.2s\n",
      "[CV] activation_function=tanh, init=uniform ..........................\n",
      "[CV]  activation_function=tanh, init=uniform, score=0.680, total=   1.8s\n",
      "[CV] activation_function=tanh, init=normal ...........................\n",
      "[CV]  activation_function=tanh, init=normal, score=0.990, total=   1.5s\n",
      "[CV] activation_function=tanh, init=normal ...........................\n",
      "[CV]  activation_function=tanh, init=normal, score=0.769, total=   1.5s\n",
      "[CV] activation_function=tanh, init=normal ...........................\n",
      "[CV]  activation_function=tanh, init=normal, score=0.806, total=   1.5s\n",
      "[CV] activation_function=tanh, init=normal ...........................\n",
      "[CV]  activation_function=tanh, init=normal, score=0.718, total=   1.5s\n",
      "[CV] activation_function=tanh, init=normal ...........................\n",
      "[CV]  activation_function=tanh, init=normal, score=0.786, total=   1.5s\n",
      "[CV] activation_function=tanh, init=zero .............................\n",
      "[CV] . activation_function=tanh, init=zero, score=0.000, total=   1.5s\n",
      "[CV] activation_function=tanh, init=zero .............................\n",
      "[CV] . activation_function=tanh, init=zero, score=0.250, total=   1.2s\n",
      "[CV] activation_function=tanh, init=zero .............................\n",
      "[CV] . activation_function=tanh, init=zero, score=0.476, total=   1.6s\n",
      "[CV] activation_function=tanh, init=zero .............................\n",
      "[CV] . activation_function=tanh, init=zero, score=0.320, total=   1.3s\n",
      "[CV] activation_function=tanh, init=zero .............................\n",
      "[CV] . activation_function=tanh, init=zero, score=0.301, total=   1.5s\n",
      "[CV] activation_function=linear, init=uniform ........................\n",
      "[CV]  activation_function=linear, init=uniform, score=0.846, total=   1.5s\n",
      "[CV] activation_function=linear, init=uniform ........................\n",
      "[CV]  activation_function=linear, init=uniform, score=0.615, total=   1.2s\n",
      "[CV] activation_function=linear, init=uniform ........................\n",
      "[CV]  activation_function=linear, init=uniform, score=0.621, total=   1.2s\n",
      "[CV] activation_function=linear, init=uniform ........................\n",
      "[CV]  activation_function=linear, init=uniform, score=0.709, total=   1.2s\n",
      "[CV] activation_function=linear, init=uniform ........................\n",
      "[CV]  activation_function=linear, init=uniform, score=0.796, total=   1.5s\n",
      "[CV] activation_function=linear, init=normal .........................\n",
      "[CV]  activation_function=linear, init=normal, score=0.692, total=   1.8s\n",
      "[CV] activation_function=linear, init=normal .........................\n",
      "[CV]  activation_function=linear, init=normal, score=0.731, total=   1.5s\n",
      "[CV] activation_function=linear, init=normal .........................\n",
      "[CV]  activation_function=linear, init=normal, score=0.748, total=   1.2s\n",
      "[CV] activation_function=linear, init=normal .........................\n",
      "[CV]  activation_function=linear, init=normal, score=0.709, total=   1.5s\n",
      "[CV] activation_function=linear, init=normal .........................\n",
      "[CV]  activation_function=linear, init=normal, score=0.748, total=   1.5s\n",
      "[CV] activation_function=linear, init=zero ...........................\n",
      "[CV]  activation_function=linear, init=zero, score=0.000, total=   1.2s\n",
      "[CV] activation_function=linear, init=zero ...........................\n",
      "[CV]  activation_function=linear, init=zero, score=0.250, total=   1.5s\n",
      "[CV] activation_function=linear, init=zero ...........................\n",
      "[CV]  activation_function=linear, init=zero, score=0.476, total=   1.5s\n",
      "[CV] activation_function=linear, init=zero ...........................\n",
      "[CV]  activation_function=linear, init=zero, score=0.320, total=   1.8s\n",
      "[CV] activation_function=linear, init=zero ...........................\n",
      "[CV]  activation_function=linear, init=zero, score=0.301, total=   1.5s\n"
     ]
    },
    {
     "name": "stderr",
     "output_type": "stream",
     "text": [
      "[Parallel(n_jobs=1)]: Done  60 out of  60 | elapsed:  1.5min finished\n"
     ]
    }
   ],
   "source": [
    "# Defining the model\n",
    "\n",
    "def create_model(activation_function,init):\n",
    "    model = Sequential()\n",
    "    model.add(Dense(12,input_dim = 30,kernel_initializer = init,activation = activation_function))\n",
    "    model.add(Dropout(0.1))\n",
    "    model.add(Dense(8,input_dim = 30,kernel_initializer = init,activation = activation_function))\n",
    "    model.add(Dropout(0.1))\n",
    "    model.add(Dense(4,input_dim = 30,kernel_initializer = init,activation = activation_function))\n",
    "    model.add(Dropout(0.1))\n",
    "    model.add(Dense(1,activation = 'linear'))\n",
    "    \n",
    "    adam = Adam(lr = 0.01)\n",
    "    model.compile(loss = 'binary_crossentropy',optimizer = adam,metrics = ['accuracy'])\n",
    "    return model\n",
    "\n",
    "# Create the model\n",
    "\n",
    "model = KerasClassifier(build_fn = create_model,verbose = 0,batch_size = 40,epochs = 10)\n",
    "\n",
    "# Define the grid search parameters\n",
    "activation_function = ['softmax','relu','tanh','linear']\n",
    "init = ['uniform','normal','zero']\n",
    "\n",
    "# Make a dictionary of the grid search parameters\n",
    "param_grids = dict(activation_function = activation_function,init = init)\n",
    "\n",
    "# Build and fit the GridSearchCV\n",
    "\n",
    "grid = GridSearchCV(estimator = model,param_grid = param_grids,cv = KFold(),verbose = 10)\n",
    "grid_result = grid.fit(X_standardized,Y)\n",
    "\n"
   ]
  },
  {
   "cell_type": "code",
   "execution_count": 24,
   "metadata": {
    "colab": {
     "base_uri": "https://localhost:8080/"
    },
    "id": "Bg3CHImIt7FX",
    "outputId": "26b862fc-74b3-4b29-98e5-1237d37dd533"
   },
   "outputs": [
    {
     "name": "stdout",
     "output_type": "stream",
     "text": [
      "Best : 0.8140590071678162, using {'activation_function': 'tanh', 'init': 'normal'}\n",
      "0.7305825233459473,0.15435061319000673 with: {'activation_function': 'softmax', 'init': 'uniform'}\n",
      "0.6305825233459472,0.24482772813004766 with: {'activation_function': 'softmax', 'init': 'normal'}\n",
      "0.7208737850189209,0.16794994181639633 with: {'activation_function': 'softmax', 'init': 'zero'}\n",
      "0.528715443611145,0.26828449268033844 with: {'activation_function': 'relu', 'init': 'uniform'}\n",
      "0.7113517642021179,0.11989841801019935 with: {'activation_function': 'relu', 'init': 'normal'}\n",
      "0.26941747665405275,0.15435061244017306 with: {'activation_function': 'relu', 'init': 'zero'}\n",
      "0.7791448831558228,0.10860502586529668 with: {'activation_function': 'tanh', 'init': 'uniform'}\n",
      "0.8140590071678162,0.09281639288283755 with: {'activation_function': 'tanh', 'init': 'normal'}\n",
      "0.26941747665405275,0.15435061244017306 with: {'activation_function': 'tanh', 'init': 'zero'}\n",
      "0.7175504207611084,0.09217345702802908 with: {'activation_function': 'linear', 'init': 'uniform'}\n",
      "0.7253920912742615,0.021839526694582858 with: {'activation_function': 'linear', 'init': 'normal'}\n",
      "0.26941747665405275,0.15435061244017306 with: {'activation_function': 'linear', 'init': 'zero'}\n"
     ]
    }
   ],
   "source": [
    "# Summarize the results\n",
    "print('Best : {}, using {}'.format(grid_result.best_score_,grid_result.best_params_))\n",
    "means = grid_result.cv_results_['mean_test_score']\n",
    "stds = grid_result.cv_results_['std_test_score']\n",
    "params = grid_result.cv_results_['params']\n",
    "for mean, stdev, param in zip(means, stds, params):\n",
    "  print('{},{} with: {}'.format(mean, stdev, param))"
   ]
  },
  {
   "cell_type": "markdown",
   "metadata": {
    "id": "vHNvP3Bat7FY"
   },
   "source": [
    "#### Tuning of Hyperparameter :-Number of Neurons in activation layer"
   ]
  },
  {
   "cell_type": "code",
   "execution_count": 31,
   "metadata": {
    "colab": {
     "base_uri": "https://localhost:8080/"
    },
    "id": "AwF7n-Fst7FY",
    "outputId": "65d6984d-2359-40ea-f4d7-0810c0df4208"
   },
   "outputs": [
    {
     "name": "stdout",
     "output_type": "stream",
     "text": [
      "Fitting 5 folds for each of 27 candidates, totalling 135 fits\n",
      "[CV] neuron1=4, neuron2=4, neuron3=2 .................................\n"
     ]
    },
    {
     "name": "stderr",
     "output_type": "stream",
     "text": [
      "[Parallel(n_jobs=1)]: Using backend SequentialBackend with 1 concurrent workers.\n",
      "/usr/local/lib/python3.7/dist-packages/keras/optimizer_v2/optimizer_v2.py:356: UserWarning: The `lr` argument is deprecated, use `learning_rate` instead.\n",
      "  \"The `lr` argument is deprecated, use `learning_rate` instead.\")\n"
     ]
    },
    {
     "name": "stdout",
     "output_type": "stream",
     "text": [
      "[CV] ..... neuron1=4, neuron2=4, neuron3=2, score=0.981, total=  43.3s\n",
      "[CV] neuron1=4, neuron2=4, neuron3=2 .................................\n"
     ]
    },
    {
     "name": "stderr",
     "output_type": "stream",
     "text": [
      "[Parallel(n_jobs=1)]: Done   1 out of   1 | elapsed:   43.3s remaining:    0.0s\n"
     ]
    },
    {
     "name": "stdout",
     "output_type": "stream",
     "text": [
      "[CV] ..... neuron1=4, neuron2=4, neuron3=2, score=0.817, total=   2.1s\n",
      "[CV] neuron1=4, neuron2=4, neuron3=2 .................................\n"
     ]
    },
    {
     "name": "stderr",
     "output_type": "stream",
     "text": [
      "[Parallel(n_jobs=1)]: Done   2 out of   2 | elapsed:   45.4s remaining:    0.0s\n"
     ]
    },
    {
     "name": "stdout",
     "output_type": "stream",
     "text": [
      "[CV] ..... neuron1=4, neuron2=4, neuron3=2, score=0.476, total=   2.1s\n",
      "[CV] neuron1=4, neuron2=4, neuron3=2 .................................\n"
     ]
    },
    {
     "name": "stderr",
     "output_type": "stream",
     "text": [
      "[Parallel(n_jobs=1)]: Done   3 out of   3 | elapsed:   47.6s remaining:    0.0s\n"
     ]
    },
    {
     "name": "stdout",
     "output_type": "stream",
     "text": [
      "[CV] ..... neuron1=4, neuron2=4, neuron3=2, score=0.845, total=   2.2s\n",
      "[CV] neuron1=4, neuron2=4, neuron3=2 .................................\n"
     ]
    },
    {
     "name": "stderr",
     "output_type": "stream",
     "text": [
      "[Parallel(n_jobs=1)]: Done   4 out of   4 | elapsed:   49.7s remaining:    0.0s\n"
     ]
    },
    {
     "name": "stdout",
     "output_type": "stream",
     "text": [
      "[CV] ..... neuron1=4, neuron2=4, neuron3=2, score=0.369, total=   2.1s\n",
      "[CV] neuron1=4, neuron2=4, neuron3=4 .................................\n"
     ]
    },
    {
     "name": "stderr",
     "output_type": "stream",
     "text": [
      "[Parallel(n_jobs=1)]: Done   5 out of   5 | elapsed:   51.8s remaining:    0.0s\n"
     ]
    },
    {
     "name": "stdout",
     "output_type": "stream",
     "text": [
      "[CV] ..... neuron1=4, neuron2=4, neuron3=4, score=1.000, total=   2.1s\n",
      "[CV] neuron1=4, neuron2=4, neuron3=4 .................................\n"
     ]
    },
    {
     "name": "stderr",
     "output_type": "stream",
     "text": [
      "[Parallel(n_jobs=1)]: Done   6 out of   6 | elapsed:   53.9s remaining:    0.0s\n"
     ]
    },
    {
     "name": "stdout",
     "output_type": "stream",
     "text": [
      "[CV] ..... neuron1=4, neuron2=4, neuron3=4, score=0.769, total=   2.1s\n",
      "[CV] neuron1=4, neuron2=4, neuron3=4 .................................\n"
     ]
    },
    {
     "name": "stderr",
     "output_type": "stream",
     "text": [
      "[Parallel(n_jobs=1)]: Done   7 out of   7 | elapsed:   56.0s remaining:    0.0s\n"
     ]
    },
    {
     "name": "stdout",
     "output_type": "stream",
     "text": [
      "[CV] ..... neuron1=4, neuron2=4, neuron3=4, score=0.524, total=   2.1s\n",
      "[CV] neuron1=4, neuron2=4, neuron3=4 .................................\n"
     ]
    },
    {
     "name": "stderr",
     "output_type": "stream",
     "text": [
      "[Parallel(n_jobs=1)]: Done   8 out of   8 | elapsed:   58.0s remaining:    0.0s\n"
     ]
    },
    {
     "name": "stdout",
     "output_type": "stream",
     "text": [
      "[CV] ..... neuron1=4, neuron2=4, neuron3=4, score=0.709, total=   2.4s\n",
      "[CV] neuron1=4, neuron2=4, neuron3=4 .................................\n"
     ]
    },
    {
     "name": "stderr",
     "output_type": "stream",
     "text": [
      "[Parallel(n_jobs=1)]: Done   9 out of   9 | elapsed:  1.0min remaining:    0.0s\n"
     ]
    },
    {
     "name": "stdout",
     "output_type": "stream",
     "text": [
      "[CV] ..... neuron1=4, neuron2=4, neuron3=4, score=0.835, total=   2.1s\n",
      "[CV] neuron1=4, neuron2=4, neuron3=8 .................................\n",
      "[CV] ..... neuron1=4, neuron2=4, neuron3=8, score=0.904, total=   2.2s\n",
      "[CV] neuron1=4, neuron2=4, neuron3=8 .................................\n",
      "[CV] ..... neuron1=4, neuron2=4, neuron3=8, score=0.750, total=   2.2s\n",
      "[CV] neuron1=4, neuron2=4, neuron3=8 .................................\n",
      "[CV] ..... neuron1=4, neuron2=4, neuron3=8, score=0.524, total=   2.2s\n",
      "[CV] neuron1=4, neuron2=4, neuron3=8 .................................\n",
      "[CV] ..... neuron1=4, neuron2=4, neuron3=8, score=0.689, total=   2.2s\n",
      "[CV] neuron1=4, neuron2=4, neuron3=8 .................................\n",
      "[CV] ..... neuron1=4, neuron2=4, neuron3=8, score=0.786, total=   2.1s\n",
      "[CV] neuron1=4, neuron2=8, neuron3=2 .................................\n",
      "[CV] ..... neuron1=4, neuron2=8, neuron3=2, score=0.971, total=   2.1s\n",
      "[CV] neuron1=4, neuron2=8, neuron3=2 .................................\n",
      "[CV] ..... neuron1=4, neuron2=8, neuron3=2, score=0.769, total=   2.4s\n",
      "[CV] neuron1=4, neuron2=8, neuron3=2 .................................\n",
      "[CV] ..... neuron1=4, neuron2=8, neuron3=2, score=0.670, total=   2.1s\n",
      "[CV] neuron1=4, neuron2=8, neuron3=2 .................................\n",
      "[CV] ..... neuron1=4, neuron2=8, neuron3=2, score=0.825, total=   2.0s\n",
      "[CV] neuron1=4, neuron2=8, neuron3=2 .................................\n",
      "[CV] ..... neuron1=4, neuron2=8, neuron3=2, score=0.845, total=   2.1s\n",
      "[CV] neuron1=4, neuron2=8, neuron3=4 .................................\n",
      "[CV] ..... neuron1=4, neuron2=8, neuron3=4, score=0.010, total=   2.1s\n",
      "[CV] neuron1=4, neuron2=8, neuron3=4 .................................\n",
      "[CV] ..... neuron1=4, neuron2=8, neuron3=4, score=0.779, total=   2.1s\n",
      "[CV] neuron1=4, neuron2=8, neuron3=4 .................................\n",
      "[CV] ..... neuron1=4, neuron2=8, neuron3=4, score=0.835, total=   2.1s\n",
      "[CV] neuron1=4, neuron2=8, neuron3=4 .................................\n",
      "[CV] ..... neuron1=4, neuron2=8, neuron3=4, score=0.767, total=   2.1s\n",
      "[CV] neuron1=4, neuron2=8, neuron3=4 .................................\n",
      "[CV] ..... neuron1=4, neuron2=8, neuron3=4, score=0.301, total=   2.4s\n",
      "[CV] neuron1=4, neuron2=8, neuron3=8 .................................\n",
      "[CV] ..... neuron1=4, neuron2=8, neuron3=8, score=0.731, total=   2.2s\n",
      "[CV] neuron1=4, neuron2=8, neuron3=8 .................................\n",
      "[CV] ..... neuron1=4, neuron2=8, neuron3=8, score=0.740, total=   2.0s\n",
      "[CV] neuron1=4, neuron2=8, neuron3=8 .................................\n",
      "[CV] ..... neuron1=4, neuron2=8, neuron3=8, score=0.738, total=   2.1s\n",
      "[CV] neuron1=4, neuron2=8, neuron3=8 .................................\n",
      "[CV] ..... neuron1=4, neuron2=8, neuron3=8, score=0.786, total=   2.1s\n",
      "[CV] neuron1=4, neuron2=8, neuron3=8 .................................\n",
      "[CV] ..... neuron1=4, neuron2=8, neuron3=8, score=0.777, total=   2.1s\n",
      "[CV] neuron1=4, neuron2=16, neuron3=2 ................................\n",
      "[CV] .... neuron1=4, neuron2=16, neuron3=2, score=0.971, total=   2.1s\n",
      "[CV] neuron1=4, neuron2=16, neuron3=2 ................................\n",
      "[CV] .... neuron1=4, neuron2=16, neuron3=2, score=0.779, total=   2.3s\n",
      "[CV] neuron1=4, neuron2=16, neuron3=2 ................................\n",
      "[CV] .... neuron1=4, neuron2=16, neuron3=2, score=0.825, total=   2.1s\n",
      "[CV] neuron1=4, neuron2=16, neuron3=2 ................................\n",
      "[CV] .... neuron1=4, neuron2=16, neuron3=2, score=0.825, total=   2.1s\n",
      "[CV] neuron1=4, neuron2=16, neuron3=2 ................................\n",
      "[CV] .... neuron1=4, neuron2=16, neuron3=2, score=0.854, total=   2.2s\n",
      "[CV] neuron1=4, neuron2=16, neuron3=4 ................................\n",
      "[CV] .... neuron1=4, neuron2=16, neuron3=4, score=1.000, total=   2.1s\n",
      "[CV] neuron1=4, neuron2=16, neuron3=4 ................................\n",
      "[CV] .... neuron1=4, neuron2=16, neuron3=4, score=0.250, total=   2.1s\n",
      "[CV] neuron1=4, neuron2=16, neuron3=4 ................................\n",
      "[CV] .... neuron1=4, neuron2=16, neuron3=4, score=0.612, total=   2.1s\n",
      "[CV] neuron1=4, neuron2=16, neuron3=4 ................................\n",
      "[CV] .... neuron1=4, neuron2=16, neuron3=4, score=0.796, total=   2.0s\n",
      "[CV] neuron1=4, neuron2=16, neuron3=4 ................................\n",
      "[CV] .... neuron1=4, neuron2=16, neuron3=4, score=0.699, total=   2.4s\n",
      "[CV] neuron1=4, neuron2=16, neuron3=8 ................................\n",
      "[CV] .... neuron1=4, neuron2=16, neuron3=8, score=0.962, total=   2.1s\n",
      "[CV] neuron1=4, neuron2=16, neuron3=8 ................................\n",
      "[CV] .... neuron1=4, neuron2=16, neuron3=8, score=0.779, total=   2.0s\n",
      "[CV] neuron1=4, neuron2=16, neuron3=8 ................................\n",
      "[CV] .... neuron1=4, neuron2=16, neuron3=8, score=0.718, total=   2.1s\n",
      "[CV] neuron1=4, neuron2=16, neuron3=8 ................................\n",
      "[CV] .... neuron1=4, neuron2=16, neuron3=8, score=0.835, total=   2.1s\n",
      "[CV] neuron1=4, neuron2=16, neuron3=8 ................................\n",
      "[CV] .... neuron1=4, neuron2=16, neuron3=8, score=0.786, total=   2.1s\n",
      "[CV] neuron1=8, neuron2=4, neuron3=2 .................................\n",
      "[CV] ..... neuron1=8, neuron2=4, neuron3=2, score=0.990, total=   2.1s\n",
      "[CV] neuron1=8, neuron2=4, neuron3=2 .................................\n",
      "[CV] ..... neuron1=8, neuron2=4, neuron3=2, score=0.769, total=   2.2s\n",
      "[CV] neuron1=8, neuron2=4, neuron3=2 .................................\n",
      "[CV] ..... neuron1=8, neuron2=4, neuron3=2, score=0.854, total=   2.4s\n",
      "[CV] neuron1=8, neuron2=4, neuron3=2 .................................\n",
      "[CV] ..... neuron1=8, neuron2=4, neuron3=2, score=0.777, total=   2.1s\n",
      "[CV] neuron1=8, neuron2=4, neuron3=2 .................................\n",
      "[CV] ..... neuron1=8, neuron2=4, neuron3=2, score=0.796, total=   2.1s\n",
      "[CV] neuron1=8, neuron2=4, neuron3=4 .................................\n",
      "[CV] ..... neuron1=8, neuron2=4, neuron3=4, score=0.865, total=   2.1s\n",
      "[CV] neuron1=8, neuron2=4, neuron3=4 .................................\n",
      "[CV] ..... neuron1=8, neuron2=4, neuron3=4, score=0.798, total=   2.1s\n",
      "[CV] neuron1=8, neuron2=4, neuron3=4 .................................\n",
      "[CV] ..... neuron1=8, neuron2=4, neuron3=4, score=0.806, total=   2.1s\n",
      "[CV] neuron1=8, neuron2=4, neuron3=4 .................................\n",
      "[CV] ..... neuron1=8, neuron2=4, neuron3=4, score=0.806, total=   2.1s\n",
      "[CV] neuron1=8, neuron2=4, neuron3=4 .................................\n",
      "[CV] ..... neuron1=8, neuron2=4, neuron3=4, score=0.777, total=   2.1s\n",
      "[CV] neuron1=8, neuron2=4, neuron3=8 .................................\n",
      "[CV] ..... neuron1=8, neuron2=4, neuron3=8, score=0.981, total=   2.4s\n",
      "[CV] neuron1=8, neuron2=4, neuron3=8 .................................\n",
      "[CV] ..... neuron1=8, neuron2=4, neuron3=8, score=0.769, total=   2.1s\n",
      "[CV] neuron1=8, neuron2=4, neuron3=8 .................................\n",
      "[CV] ..... neuron1=8, neuron2=4, neuron3=8, score=0.777, total=   2.1s\n",
      "[CV] neuron1=8, neuron2=4, neuron3=8 .................................\n",
      "[CV] ..... neuron1=8, neuron2=4, neuron3=8, score=0.709, total=   2.1s\n",
      "[CV] neuron1=8, neuron2=4, neuron3=8 .................................\n",
      "[CV] ..... neuron1=8, neuron2=4, neuron3=8, score=0.757, total=   2.1s\n",
      "[CV] neuron1=8, neuron2=8, neuron3=2 .................................\n",
      "[CV] ..... neuron1=8, neuron2=8, neuron3=2, score=0.644, total=   2.1s\n",
      "[CV] neuron1=8, neuron2=8, neuron3=2 .................................\n",
      "[CV] ..... neuron1=8, neuron2=8, neuron3=2, score=0.250, total=   2.2s\n",
      "[CV] neuron1=8, neuron2=8, neuron3=2 .................................\n",
      "[CV] ..... neuron1=8, neuron2=8, neuron3=2, score=0.670, total=   2.1s\n",
      "[CV] neuron1=8, neuron2=8, neuron3=2 .................................\n",
      "[CV] ..... neuron1=8, neuron2=8, neuron3=2, score=0.786, total=   2.4s\n",
      "[CV] neuron1=8, neuron2=8, neuron3=2 .................................\n",
      "[CV] ..... neuron1=8, neuron2=8, neuron3=2, score=0.738, total=   2.1s\n",
      "[CV] neuron1=8, neuron2=8, neuron3=4 .................................\n",
      "[CV] ..... neuron1=8, neuron2=8, neuron3=4, score=0.942, total=   2.1s\n",
      "[CV] neuron1=8, neuron2=8, neuron3=4 .................................\n",
      "[CV] ..... neuron1=8, neuron2=8, neuron3=4, score=0.760, total=   2.1s\n",
      "[CV] neuron1=8, neuron2=8, neuron3=4 .................................\n",
      "[CV] ..... neuron1=8, neuron2=8, neuron3=4, score=0.660, total=   2.1s\n",
      "[CV] neuron1=8, neuron2=8, neuron3=4 .................................\n",
      "[CV] ..... neuron1=8, neuron2=8, neuron3=4, score=0.709, total=   2.1s\n",
      "[CV] neuron1=8, neuron2=8, neuron3=4 .................................\n",
      "[CV] ..... neuron1=8, neuron2=8, neuron3=4, score=0.738, total=   2.2s\n",
      "[CV] neuron1=8, neuron2=8, neuron3=8 .................................\n",
      "[CV] ..... neuron1=8, neuron2=8, neuron3=8, score=0.654, total=   2.4s\n",
      "[CV] neuron1=8, neuron2=8, neuron3=8 .................................\n",
      "[CV] ..... neuron1=8, neuron2=8, neuron3=8, score=0.827, total=   2.1s\n",
      "[CV] neuron1=8, neuron2=8, neuron3=8 .................................\n",
      "[CV] ..... neuron1=8, neuron2=8, neuron3=8, score=0.767, total=   2.2s\n",
      "[CV] neuron1=8, neuron2=8, neuron3=8 .................................\n",
      "[CV] ..... neuron1=8, neuron2=8, neuron3=8, score=0.796, total=   2.0s\n",
      "[CV] neuron1=8, neuron2=8, neuron3=8 .................................\n",
      "[CV] ..... neuron1=8, neuron2=8, neuron3=8, score=0.379, total=   2.1s\n",
      "[CV] neuron1=8, neuron2=16, neuron3=2 ................................\n",
      "[CV] .... neuron1=8, neuron2=16, neuron3=2, score=0.990, total=   2.0s\n",
      "[CV] neuron1=8, neuron2=16, neuron3=2 ................................\n",
      "[CV] .... neuron1=8, neuron2=16, neuron3=2, score=0.692, total=   2.0s\n",
      "[CV] neuron1=8, neuron2=16, neuron3=2 ................................\n",
      "[CV] .... neuron1=8, neuron2=16, neuron3=2, score=0.738, total=   2.0s\n",
      "[CV] neuron1=8, neuron2=16, neuron3=2 ................................\n",
      "[CV] .... neuron1=8, neuron2=16, neuron3=2, score=0.806, total=   2.4s\n",
      "[CV] neuron1=8, neuron2=16, neuron3=2 ................................\n",
      "[CV] .... neuron1=8, neuron2=16, neuron3=2, score=0.738, total=   2.2s\n",
      "[CV] neuron1=8, neuron2=16, neuron3=4 ................................\n",
      "[CV] .... neuron1=8, neuron2=16, neuron3=4, score=0.990, total=   2.0s\n",
      "[CV] neuron1=8, neuron2=16, neuron3=4 ................................\n",
      "[CV] .... neuron1=8, neuron2=16, neuron3=4, score=0.750, total=   2.1s\n",
      "[CV] neuron1=8, neuron2=16, neuron3=4 ................................\n",
      "[CV] .... neuron1=8, neuron2=16, neuron3=4, score=0.748, total=   2.2s\n",
      "[CV] neuron1=8, neuron2=16, neuron3=4 ................................\n",
      "[CV] .... neuron1=8, neuron2=16, neuron3=4, score=0.796, total=   2.2s\n",
      "[CV] neuron1=8, neuron2=16, neuron3=4 ................................\n",
      "[CV] .... neuron1=8, neuron2=16, neuron3=4, score=0.767, total=   2.1s\n",
      "[CV] neuron1=8, neuron2=16, neuron3=8 ................................\n",
      "[CV] .... neuron1=8, neuron2=16, neuron3=8, score=0.000, total=   2.0s\n",
      "[CV] neuron1=8, neuron2=16, neuron3=8 ................................\n",
      "[CV] .... neuron1=8, neuron2=16, neuron3=8, score=0.712, total=   2.4s\n",
      "[CV] neuron1=8, neuron2=16, neuron3=8 ................................\n",
      "[CV] .... neuron1=8, neuron2=16, neuron3=8, score=0.816, total=   2.2s\n",
      "[CV] neuron1=8, neuron2=16, neuron3=8 ................................\n",
      "[CV] .... neuron1=8, neuron2=16, neuron3=8, score=0.718, total=   2.1s\n",
      "[CV] neuron1=8, neuron2=16, neuron3=8 ................................\n",
      "[CV] .... neuron1=8, neuron2=16, neuron3=8, score=0.767, total=   2.1s\n",
      "[CV] neuron1=16, neuron2=4, neuron3=2 ................................\n",
      "[CV] .... neuron1=16, neuron2=4, neuron3=2, score=0.981, total=   2.1s\n",
      "[CV] neuron1=16, neuron2=4, neuron3=2 ................................\n",
      "[CV] .... neuron1=16, neuron2=4, neuron3=2, score=0.760, total=   2.2s\n",
      "[CV] neuron1=16, neuron2=4, neuron3=2 ................................\n",
      "[CV] .... neuron1=16, neuron2=4, neuron3=2, score=0.806, total=   2.1s\n",
      "[CV] neuron1=16, neuron2=4, neuron3=2 ................................\n",
      "[CV] .... neuron1=16, neuron2=4, neuron3=2, score=0.806, total=   2.0s\n",
      "[CV] neuron1=16, neuron2=4, neuron3=2 ................................\n",
      "[CV] .... neuron1=16, neuron2=4, neuron3=2, score=0.874, total=   2.5s\n",
      "[CV] neuron1=16, neuron2=4, neuron3=4 ................................\n",
      "[CV] .... neuron1=16, neuron2=4, neuron3=4, score=0.942, total=   2.1s\n",
      "[CV] neuron1=16, neuron2=4, neuron3=4 ................................\n",
      "[CV] .... neuron1=16, neuron2=4, neuron3=4, score=0.750, total=   2.1s\n",
      "[CV] neuron1=16, neuron2=4, neuron3=4 ................................\n",
      "[CV] .... neuron1=16, neuron2=4, neuron3=4, score=0.767, total=   2.0s\n",
      "[CV] neuron1=16, neuron2=4, neuron3=4 ................................\n",
      "[CV] .... neuron1=16, neuron2=4, neuron3=4, score=0.854, total=   2.2s\n",
      "[CV] neuron1=16, neuron2=4, neuron3=4 ................................\n",
      "[CV] .... neuron1=16, neuron2=4, neuron3=4, score=0.796, total=   2.2s\n",
      "[CV] neuron1=16, neuron2=4, neuron3=8 ................................\n",
      "[CV] .... neuron1=16, neuron2=4, neuron3=8, score=0.933, total=   2.1s\n",
      "[CV] neuron1=16, neuron2=4, neuron3=8 ................................\n",
      "[CV] .... neuron1=16, neuron2=4, neuron3=8, score=0.692, total=   2.1s\n",
      "[CV] neuron1=16, neuron2=4, neuron3=8 ................................\n",
      "[CV] .... neuron1=16, neuron2=4, neuron3=8, score=0.524, total=   2.5s\n",
      "[CV] neuron1=16, neuron2=4, neuron3=8 ................................\n",
      "[CV] .... neuron1=16, neuron2=4, neuron3=8, score=0.796, total=   2.1s\n",
      "[CV] neuron1=16, neuron2=4, neuron3=8 ................................\n",
      "[CV] .... neuron1=16, neuron2=4, neuron3=8, score=0.845, total=   2.2s\n",
      "[CV] neuron1=16, neuron2=8, neuron3=2 ................................\n",
      "[CV] .... neuron1=16, neuron2=8, neuron3=2, score=0.750, total=   2.1s\n",
      "[CV] neuron1=16, neuron2=8, neuron3=2 ................................\n",
      "[CV] .... neuron1=16, neuron2=8, neuron3=2, score=0.779, total=   2.1s\n",
      "[CV] neuron1=16, neuron2=8, neuron3=2 ................................\n",
      "[CV] .... neuron1=16, neuron2=8, neuron3=2, score=0.767, total=   2.1s\n",
      "[CV] neuron1=16, neuron2=8, neuron3=2 ................................\n",
      "[CV] .... neuron1=16, neuron2=8, neuron3=2, score=0.806, total=   2.1s\n",
      "[CV] neuron1=16, neuron2=8, neuron3=2 ................................\n",
      "[CV] .... neuron1=16, neuron2=8, neuron3=2, score=0.864, total=   2.4s\n",
      "[CV] neuron1=16, neuron2=8, neuron3=4 ................................\n",
      "[CV] .... neuron1=16, neuron2=8, neuron3=4, score=0.702, total=   2.1s\n",
      "[CV] neuron1=16, neuron2=8, neuron3=4 ................................\n",
      "[CV] .... neuron1=16, neuron2=8, neuron3=4, score=0.750, total=   2.1s\n",
      "[CV] neuron1=16, neuron2=8, neuron3=4 ................................\n",
      "[CV] .... neuron1=16, neuron2=8, neuron3=4, score=0.786, total=   2.1s\n",
      "[CV] neuron1=16, neuron2=8, neuron3=4 ................................\n",
      "[CV] .... neuron1=16, neuron2=8, neuron3=4, score=0.718, total=   2.1s\n",
      "[CV] neuron1=16, neuron2=8, neuron3=4 ................................\n",
      "[CV] .... neuron1=16, neuron2=8, neuron3=4, score=0.806, total=   2.1s\n",
      "[CV] neuron1=16, neuron2=8, neuron3=8 ................................\n",
      "[CV] .... neuron1=16, neuron2=8, neuron3=8, score=0.856, total=   2.2s\n",
      "[CV] neuron1=16, neuron2=8, neuron3=8 ................................\n",
      "[CV] .... neuron1=16, neuron2=8, neuron3=8, score=0.760, total=   2.1s\n",
      "[CV] neuron1=16, neuron2=8, neuron3=8 ................................\n",
      "[CV] .... neuron1=16, neuron2=8, neuron3=8, score=0.786, total=   2.4s\n",
      "[CV] neuron1=16, neuron2=8, neuron3=8 ................................\n",
      "[CV] .... neuron1=16, neuron2=8, neuron3=8, score=0.806, total=   2.1s\n",
      "[CV] neuron1=16, neuron2=8, neuron3=8 ................................\n",
      "[CV] .... neuron1=16, neuron2=8, neuron3=8, score=0.816, total=   2.1s\n",
      "[CV] neuron1=16, neuron2=16, neuron3=2 ...............................\n",
      "[CV] ... neuron1=16, neuron2=16, neuron3=2, score=0.904, total=   2.2s\n",
      "[CV] neuron1=16, neuron2=16, neuron3=2 ...............................\n",
      "[CV] ... neuron1=16, neuron2=16, neuron3=2, score=0.750, total=   2.1s\n",
      "[CV] neuron1=16, neuron2=16, neuron3=2 ...............................\n",
      "[CV] ... neuron1=16, neuron2=16, neuron3=2, score=0.845, total=   2.1s\n",
      "[CV] neuron1=16, neuron2=16, neuron3=2 ...............................\n",
      "[CV] ... neuron1=16, neuron2=16, neuron3=2, score=0.796, total=   2.0s\n",
      "[CV] neuron1=16, neuron2=16, neuron3=2 ...............................\n",
      "[CV] ... neuron1=16, neuron2=16, neuron3=2, score=0.728, total=   2.2s\n",
      "[CV] neuron1=16, neuron2=16, neuron3=4 ...............................\n",
      "[CV] ... neuron1=16, neuron2=16, neuron3=4, score=0.856, total=   2.5s\n",
      "[CV] neuron1=16, neuron2=16, neuron3=4 ...............................\n",
      "[CV] ... neuron1=16, neuron2=16, neuron3=4, score=0.769, total=   2.1s\n",
      "[CV] neuron1=16, neuron2=16, neuron3=4 ...............................\n",
      "[CV] ... neuron1=16, neuron2=16, neuron3=4, score=0.689, total=   2.0s\n",
      "[CV] neuron1=16, neuron2=16, neuron3=4 ...............................\n",
      "[CV] ... neuron1=16, neuron2=16, neuron3=4, score=0.738, total=   2.1s\n",
      "[CV] neuron1=16, neuron2=16, neuron3=4 ...............................\n",
      "[CV] ... neuron1=16, neuron2=16, neuron3=4, score=0.524, total=   2.2s\n",
      "[CV] neuron1=16, neuron2=16, neuron3=8 ...............................\n",
      "[CV] ... neuron1=16, neuron2=16, neuron3=8, score=0.510, total=   2.2s\n",
      "[CV] neuron1=16, neuron2=16, neuron3=8 ...............................\n",
      "[CV] ... neuron1=16, neuron2=16, neuron3=8, score=0.731, total=   2.1s\n",
      "[CV] neuron1=16, neuron2=16, neuron3=8 ...............................\n",
      "[CV] ... neuron1=16, neuron2=16, neuron3=8, score=0.777, total=   2.1s\n",
      "[CV] neuron1=16, neuron2=16, neuron3=8 ...............................\n",
      "[CV] ... neuron1=16, neuron2=16, neuron3=8, score=0.680, total=   2.3s\n",
      "[CV] neuron1=16, neuron2=16, neuron3=8 ...............................\n",
      "[CV] ... neuron1=16, neuron2=16, neuron3=8, score=0.544, total=   2.1s\n"
     ]
    },
    {
     "name": "stderr",
     "output_type": "stream",
     "text": [
      "[Parallel(n_jobs=1)]: Done 135 out of 135 | elapsed:  5.5min finished\n"
     ]
    }
   ],
   "source": [
    "# Defining the model\n",
    "\n",
    "def create_model(neuron1,neuron2,neuron3):\n",
    "    model = Sequential()\n",
    "    model.add(Dense(neuron1,input_dim = 30,kernel_initializer = 'normal',activation = 'tanh'))\n",
    "    model.add(Dropout(0.1))\n",
    "    model.add(Dense(neuron2,kernel_initializer = 'normal',activation = 'tanh'))\n",
    "    model.add(Dropout(0.1))\n",
    "    model.add(Dense(neuron3,kernel_initializer = 'normal',activation = 'tanh'))\n",
    "    model.add(Dropout(0.1))\n",
    "    model.add(Dense(1,activation = 'linear'))\n",
    "    \n",
    "    adam = Adam(lr = 0.01)\n",
    "    model.compile(loss = 'binary_crossentropy',optimizer = adam,metrics = ['accuracy'])\n",
    "    return model\n",
    "\n",
    "# Create the model\n",
    "\n",
    "model = KerasClassifier(build_fn = create_model,verbose = 0,batch_size = 10,epochs = 10)\n",
    "\n",
    "# Define the grid search parameters\n",
    "\n",
    "neuron1 = [4,8,16]\n",
    "neuron2 = [4,8,16]\n",
    "neuron3 = [2,4,8]\n",
    "\n",
    "# Make a dictionary of the grid search parameters\n",
    "\n",
    "param_grids = dict(neuron1 = neuron1,neuron2 = neuron2,neuron3 = neuron3)\n",
    "\n",
    "# Build and fit the GridSearchCV\n",
    "\n",
    "grid = GridSearchCV(estimator = model,param_grid = param_grids,cv = KFold(),verbose = 10)\n",
    "grid_result = grid.fit(X_standardized,Y)\n"
   ]
  },
  {
   "cell_type": "code",
   "execution_count": 32,
   "metadata": {
    "colab": {
     "base_uri": "https://localhost:8080/"
    },
    "id": "oc3o4DA1t7FY",
    "outputId": "cfa7afb7-2880-411b-bd73-86e108628c1a"
   },
   "outputs": [
    {
     "name": "stdout",
     "output_type": "stream",
     "text": [
      "Best : 0.8509708642959595, using {'neuron1': 4, 'neuron2': 16, 'neuron3': 2}\n",
      "0.6974794685840606,0.23383375407226084 with: {'neuron1': 4, 'neuron2': 4, 'neuron3': 2}\n",
      "0.7674383878707886,0.15570603801506697 with: {'neuron1': 4, 'neuron2': 4, 'neuron3': 4}\n",
      "0.7307692289352417,0.12472390652031813 with: {'neuron1': 4, 'neuron2': 4, 'neuron3': 8}\n",
      "0.8160380959510803,0.09850001383158404 with: {'neuron1': 4, 'neuron2': 8, 'neuron3': 2}\n",
      "0.5382748352363705,0.3268015669973073 with: {'neuron1': 4, 'neuron2': 8, 'neuron3': 4}\n",
      "0.7544249415397644,0.022583271933735587 with: {'neuron1': 4, 'neuron2': 8, 'neuron3': 8}\n",
      "0.8509708642959595,0.06477862362214779 with: {'neuron1': 4, 'neuron2': 16, 'neuron3': 2}\n",
      "0.6713592290878296,0.2471612838893226 with: {'neuron1': 4, 'neuron2': 16, 'neuron3': 4}\n",
      "0.8160380840301513,0.08162519088486984 with: {'neuron1': 4, 'neuron2': 16, 'neuron3': 8}\n",
      "0.8373599767684936,0.08213186171374963 with: {'neuron1': 8, 'neuron2': 4, 'neuron3': 2}\n",
      "0.8103622078895569,0.029505170250214662 with: {'neuron1': 8, 'neuron2': 4, 'neuron3': 4}\n",
      "0.7985436797142029,0.09413844394737926 with: {'neuron1': 8, 'neuron2': 4, 'neuron3': 8}\n",
      "0.6176811099052429,0.19054345029177477 with: {'neuron1': 8, 'neuron2': 8, 'neuron3': 2}\n",
      "0.7617438316345215,0.09622895368580128 with: {'neuron1': 8, 'neuron2': 8, 'neuron3': 4}\n",
      "0.6845033645629883,0.16372950776449433 with: {'neuron1': 8, 'neuron2': 8, 'neuron3': 8}\n",
      "0.7928491473197937,0.10520831278585879 with: {'neuron1': 8, 'neuron2': 16, 'neuron3': 2}\n",
      "0.8102128624916076,0.09173671702089972 with: {'neuron1': 8, 'neuron2': 16, 'neuron3': 4}\n",
      "0.6025018692016602,0.30357199818047437 with: {'neuron1': 8, 'neuron2': 16, 'neuron3': 8}\n",
      "0.8451642870903016,0.07696968585489151 with: {'neuron1': 16, 'neuron2': 4, 'neuron3': 2}\n",
      "0.8219566941261292,0.06985943573162372 with: {'neuron1': 16, 'neuron2': 4, 'neuron3': 4}\n",
      "0.7580097198486329,0.14030294830915016 with: {'neuron1': 16, 'neuron2': 4, 'neuron3': 8}\n",
      "0.793147873878479,0.039855365544649746 with: {'neuron1': 16, 'neuron2': 8, 'neuron3': 2}\n",
      "0.7525205373764038,0.039286700080801595 with: {'neuron1': 16, 'neuron2': 8, 'neuron3': 4}\n",
      "0.8046303153038025,0.0319183727490904 with: {'neuron1': 16, 'neuron2': 8, 'neuron3': 8}\n",
      "0.8045556426048279,0.0637989466199184 with: {'neuron1': 16, 'neuron2': 16, 'neuron3': 2}\n",
      "0.7152912616729736,0.10983256669808657 with: {'neuron1': 16, 'neuron2': 16, 'neuron3': 4}\n",
      "0.6480769038200378,0.10434986419094243 with: {'neuron1': 16, 'neuron2': 16, 'neuron3': 8}\n"
     ]
    }
   ],
   "source": [
    "# Summarize the results\n",
    "print('Best : {}, using {}'.format(grid_result.best_score_,grid_result.best_params_))\n",
    "means = grid_result.cv_results_['mean_test_score']\n",
    "stds = grid_result.cv_results_['std_test_score']\n",
    "params = grid_result.cv_results_['params']\n",
    "for mean, stdev, param in zip(means, stds, params):\n",
    "  print('{},{} with: {}'.format(mean, stdev, param))"
   ]
  },
  {
   "cell_type": "markdown",
   "metadata": {
    "id": "joS-p64Bt7FZ"
   },
   "source": [
    "#### Training model with optimum values of Hyperparameters"
   ]
  },
  {
   "cell_type": "code",
   "execution_count": 38,
   "metadata": {
    "colab": {
     "base_uri": "https://localhost:8080/"
    },
    "id": "I0VB9zizt7FZ",
    "outputId": "8b661f30-802b-4bb0-a909-a050c9b2e83d"
   },
   "outputs": [
    {
     "name": "stderr",
     "output_type": "stream",
     "text": [
      "/usr/local/lib/python3.7/dist-packages/keras/optimizer_v2/optimizer_v2.py:356: UserWarning: The `lr` argument is deprecated, use `learning_rate` instead.\n",
      "  \"The `lr` argument is deprecated, use `learning_rate` instead.\")\n"
     ]
    }
   ],
   "source": [
    "from sklearn.metrics import classification_report, accuracy_score\n",
    "\n",
    "# Defining the model\n",
    "\n",
    "def create_model():\n",
    "    model = Sequential()\n",
    "    model.add(Dense(4,input_dim = 30,kernel_initializer = 'normal',activation = 'tanh'))\n",
    "    model.add(Dropout(0.1))\n",
    "    model.add(Dense(16,kernel_initializer = 'normal',activation = 'tanh'))\n",
    "    model.add(Dropout(0.1))\n",
    "    model.add(Dense(2,kernel_initializer = 'normal',activation = 'tanh'))\n",
    "    model.add(Dropout(0.1))\n",
    "    model.add(Dense(1,activation = 'linear'))\n",
    "    \n",
    "    adam = Adam(lr = 0.01) \n",
    "    #sgd = SGD(lr=learning_rate, momentum=momentum, decay=decay_rate, nesterov=False)\n",
    "\n",
    "    model.compile(loss = 'binary_crossentropy',optimizer = adam,metrics = ['accuracy'])\n",
    "    return model\n",
    "\n",
    "# Create the model\n",
    "\n",
    "model = KerasClassifier(build_fn = create_model,verbose = 0,batch_size = 10,epochs = 10)\n",
    "\n",
    "# Fitting the model\n",
    "\n",
    "model.fit(X_standardized,Y)\n",
    "\n",
    "# Predicting using trained model\n",
    "\n",
    "y_predict = model.predict(X_standardized)\n"
   ]
  },
  {
   "cell_type": "code",
   "execution_count": 39,
   "metadata": {
    "colab": {
     "base_uri": "https://localhost:8080/"
    },
    "id": "r55eYQ-pt7Fa",
    "outputId": "118234d5-53a3-4107-cddc-5dc55f7258aa"
   },
   "outputs": [
    {
     "name": "stdout",
     "output_type": "stream",
     "text": [
      "0.7756286266924565\n"
     ]
    }
   ],
   "source": [
    "# Printing the metrics\n",
    "print(accuracy_score(Y,y_predict))"
   ]
  },
  {
   "cell_type": "code",
   "execution_count": null,
   "metadata": {
    "id": "tpb0KnQD4dAZ"
   },
   "outputs": [],
   "source": []
  }
 ],
 "metadata": {
  "accelerator": "GPU",
  "colab": {
   "collapsed_sections": [],
   "name": "Neural_Network_Assignment_2.ipynb",
   "provenance": []
  },
  "kernelspec": {
   "display_name": "Python 3",
   "language": "python",
   "name": "python3"
  },
  "language_info": {
   "codemirror_mode": {
    "name": "ipython",
    "version": 3
   },
   "file_extension": ".py",
   "mimetype": "text/x-python",
   "name": "python",
   "nbconvert_exporter": "python",
   "pygments_lexer": "ipython3",
   "version": "3.8.8"
  }
 },
 "nbformat": 4,
 "nbformat_minor": 1
}
