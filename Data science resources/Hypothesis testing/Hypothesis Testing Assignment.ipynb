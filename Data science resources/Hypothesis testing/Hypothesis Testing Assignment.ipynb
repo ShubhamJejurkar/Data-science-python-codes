{
 "cells": [
  {
   "cell_type": "code",
   "execution_count": 1,
   "id": "5b2870c8",
   "metadata": {},
   "outputs": [],
   "source": [
    "import statsmodels.api as sm\n",
    "import scipy.stats as stats\n",
    "import numpy as np\n",
    "import matplotlib.pyplot as plt\n",
    "import seaborn as sns\n",
    "import pandas as pd"
   ]
  },
  {
   "cell_type": "markdown",
   "id": "a2ceb083",
   "metadata": {},
   "source": [
    "**Question 1**\n",
    "\n",
    "A F&B manager wants to determine whether there is any significant difference in the diameter of the cutlet between two units. A randomly selected sample of cutlets was collected from both units and measured? Analyze the data and draw inferences at 5% significance level. Please state the assumptions and tests that you carried out to check validity of the assumptions.\n",
    "\n",
    "\n",
    "**Parameter:** Cutlets from Unit A & Unit B\n",
    "\n",
    "**Parameter of Interest:** $\\mu_1 - \\mu_2$, diameter of the cutlet.\n",
    "\n",
    "**Null Hypothesis:** $\\mu_1 = \\mu_2$\n",
    "\n",
    "**Alternative Hypthosis:** $\\mu_1 \\neq \\mu_2$\n",
    "\n",
    "**Checking for Inequality** \n",
    "\n",
    "**2 sample 2-tail test**"
   ]
  },
  {
   "cell_type": "code",
   "execution_count": 2,
   "id": "0ad7ade0",
   "metadata": {},
   "outputs": [
    {
     "data": {
      "text/html": [
       "<div>\n",
       "<style scoped>\n",
       "    .dataframe tbody tr th:only-of-type {\n",
       "        vertical-align: middle;\n",
       "    }\n",
       "\n",
       "    .dataframe tbody tr th {\n",
       "        vertical-align: top;\n",
       "    }\n",
       "\n",
       "    .dataframe thead th {\n",
       "        text-align: right;\n",
       "    }\n",
       "</style>\n",
       "<table border=\"1\" class=\"dataframe\">\n",
       "  <thead>\n",
       "    <tr style=\"text-align: right;\">\n",
       "      <th></th>\n",
       "      <th>Unit A</th>\n",
       "      <th>Unit B</th>\n",
       "    </tr>\n",
       "  </thead>\n",
       "  <tbody>\n",
       "    <tr>\n",
       "      <th>0</th>\n",
       "      <td>6.8090</td>\n",
       "      <td>6.7703</td>\n",
       "    </tr>\n",
       "    <tr>\n",
       "      <th>1</th>\n",
       "      <td>6.4376</td>\n",
       "      <td>7.5093</td>\n",
       "    </tr>\n",
       "    <tr>\n",
       "      <th>2</th>\n",
       "      <td>6.9157</td>\n",
       "      <td>6.7300</td>\n",
       "    </tr>\n",
       "    <tr>\n",
       "      <th>3</th>\n",
       "      <td>7.3012</td>\n",
       "      <td>6.7878</td>\n",
       "    </tr>\n",
       "    <tr>\n",
       "      <th>4</th>\n",
       "      <td>7.4488</td>\n",
       "      <td>7.1522</td>\n",
       "    </tr>\n",
       "  </tbody>\n",
       "</table>\n",
       "</div>"
      ],
      "text/plain": [
       "   Unit A  Unit B\n",
       "0  6.8090  6.7703\n",
       "1  6.4376  7.5093\n",
       "2  6.9157  6.7300\n",
       "3  7.3012  6.7878\n",
       "4  7.4488  7.1522"
      ]
     },
     "execution_count": 2,
     "metadata": {},
     "output_type": "execute_result"
    }
   ],
   "source": [
    "cutlets = pd.read_csv('cutlets.csv')\n",
    "cutlets.head()"
   ]
  },
  {
   "cell_type": "code",
   "execution_count": 3,
   "id": "506f273e",
   "metadata": {},
   "outputs": [
    {
     "data": {
      "text/plain": [
       "Unit A    7.019091\n",
       "Unit B    6.964297\n",
       "dtype: float64"
      ]
     },
     "execution_count": 3,
     "metadata": {},
     "output_type": "execute_result"
    }
   ],
   "source": [
    "cutlets.mean()"
   ]
  },
  {
   "cell_type": "code",
   "execution_count": 4,
   "id": "6241a232",
   "metadata": {},
   "outputs": [
    {
     "name": "stdout",
     "output_type": "stream",
     "text": [
      "t value = 0.7228688704678063 \n",
      "p-value = 0.46976045023906055\n"
     ]
    }
   ],
   "source": [
    "p=sm.stats.ztest(cutlets[\"Unit A\"].dropna(), cutlets[\"Unit B\"].dropna(), alternative='two-sided')\n",
    "print('t value = {} \\np-value = {}'.format(p[0] , p[1]))"
   ]
  },
  {
   "cell_type": "markdown",
   "id": "0807de0e",
   "metadata": {},
   "source": [
    "#### or"
   ]
  },
  {
   "cell_type": "code",
   "execution_count": 5,
   "id": "12c1ea54",
   "metadata": {},
   "outputs": [
    {
     "name": "stdout",
     "output_type": "stream",
     "text": [
      "t value = 0.7228688704678063 \n",
      "p-value = 0.4722394724599501\n"
     ]
    }
   ],
   "source": [
    "p=stats.ttest_ind( cutlets[\"Unit A\"].dropna(), cutlets[\"Unit B\"])\n",
    "print('t value = {} \\np-value = {}'.format(p[0] , p[1]))"
   ]
  },
  {
   "cell_type": "markdown",
   "id": "1a3274ab",
   "metadata": {},
   "source": [
    "**Conclusion of the hypothesis test**\n",
    "\n",
    "Since the p-value is greater than 0.05, we failed to reject the Null hypothesis that there is no significant difference in the diameter of the cutlet between two units.\n"
   ]
  },
  {
   "cell_type": "markdown",
   "id": "73713fd0",
   "metadata": {},
   "source": []
  },
  {
   "cell_type": "markdown",
   "id": "468d1dc7",
   "metadata": {},
   "source": [
    "**Question 2**\n",
    "\n",
    "A hospital wants to determine whether there is any difference in the average Turn Around Time (TAT) of reports of the laboratories on their preferred list. They collected a random sample and recorded TAT for reports of 4 laboratories. TAT is defined as sample collected to report dispatch. Analyze the data and determine whether there is any difference in average TAT among the different laboratories at 5% significance level.\n",
    "\n",
    "**Parameter:** Reports of the laboratories\n",
    "\n",
    "**Parameter of Interest:** Time required for the reports\n",
    "\n",
    "**Test  Annova**"
   ]
  },
  {
   "cell_type": "code",
   "execution_count": 6,
   "id": "fe65db2a",
   "metadata": {},
   "outputs": [
    {
     "data": {
      "text/html": [
       "<div>\n",
       "<style scoped>\n",
       "    .dataframe tbody tr th:only-of-type {\n",
       "        vertical-align: middle;\n",
       "    }\n",
       "\n",
       "    .dataframe tbody tr th {\n",
       "        vertical-align: top;\n",
       "    }\n",
       "\n",
       "    .dataframe thead th {\n",
       "        text-align: right;\n",
       "    }\n",
       "</style>\n",
       "<table border=\"1\" class=\"dataframe\">\n",
       "  <thead>\n",
       "    <tr style=\"text-align: right;\">\n",
       "      <th></th>\n",
       "      <th>Laboratory 1</th>\n",
       "      <th>Laboratory 2</th>\n",
       "      <th>Laboratory 3</th>\n",
       "      <th>Laboratory 4</th>\n",
       "    </tr>\n",
       "  </thead>\n",
       "  <tbody>\n",
       "    <tr>\n",
       "      <th>0</th>\n",
       "      <td>185.35</td>\n",
       "      <td>165.53</td>\n",
       "      <td>176.70</td>\n",
       "      <td>166.13</td>\n",
       "    </tr>\n",
       "    <tr>\n",
       "      <th>1</th>\n",
       "      <td>170.49</td>\n",
       "      <td>185.91</td>\n",
       "      <td>198.45</td>\n",
       "      <td>160.79</td>\n",
       "    </tr>\n",
       "    <tr>\n",
       "      <th>2</th>\n",
       "      <td>192.77</td>\n",
       "      <td>194.92</td>\n",
       "      <td>201.23</td>\n",
       "      <td>185.18</td>\n",
       "    </tr>\n",
       "    <tr>\n",
       "      <th>3</th>\n",
       "      <td>177.33</td>\n",
       "      <td>183.00</td>\n",
       "      <td>199.61</td>\n",
       "      <td>176.42</td>\n",
       "    </tr>\n",
       "    <tr>\n",
       "      <th>4</th>\n",
       "      <td>193.41</td>\n",
       "      <td>169.57</td>\n",
       "      <td>204.63</td>\n",
       "      <td>152.60</td>\n",
       "    </tr>\n",
       "  </tbody>\n",
       "</table>\n",
       "</div>"
      ],
      "text/plain": [
       "   Laboratory 1  Laboratory 2  Laboratory 3  Laboratory 4\n",
       "0        185.35        165.53        176.70        166.13\n",
       "1        170.49        185.91        198.45        160.79\n",
       "2        192.77        194.92        201.23        185.18\n",
       "3        177.33        183.00        199.61        176.42\n",
       "4        193.41        169.57        204.63        152.60"
      ]
     },
     "execution_count": 6,
     "metadata": {},
     "output_type": "execute_result"
    }
   ],
   "source": [
    "LabTAT=pd.read_csv('LabTAT.csv')\n",
    "LabTAT.head()"
   ]
  },
  {
   "cell_type": "code",
   "execution_count": 7,
   "id": "796a6948",
   "metadata": {},
   "outputs": [
    {
     "data": {
      "text/plain": [
       "F_onewayResult(statistic=118.70421654401437, pvalue=2.1156708949992414e-57)"
      ]
     },
     "execution_count": 7,
     "metadata": {},
     "output_type": "execute_result"
    }
   ],
   "source": [
    "stats.f_oneway(LabTAT.iloc[:,0], LabTAT.iloc[:,1],LabTAT.iloc[:,2],LabTAT.iloc[:,3])"
   ]
  },
  {
   "cell_type": "markdown",
   "id": "da90fc08",
   "metadata": {},
   "source": [
    "**Conclusion**\n",
    "\n",
    "Since the p-value is less than 0.05, we reject the null hypothesis. This means we can say that there is a difference in the average Turn Around Time (TAT) of reports of the laboratories on their preferred list."
   ]
  },
  {
   "cell_type": "markdown",
   "id": "b3a69fbc",
   "metadata": {},
   "source": []
  },
  {
   "attachments": {},
   "cell_type": "markdown",
   "id": "a21f82e0",
   "metadata": {},
   "source": [
    "**Question 3**\n",
    "\n",
    "Sales of products in four different regions is tabulated for males and females. Find if male-female buyer rations are similar across regions.\n",
    "\n",
    "**H0 = All proportions are equal!**\n",
    "\n",
    "**Ha = Not all proportions are equal!**\n",
    "\n",
    "**Chi-Squared - Test of Independence**\n",
    "\n"
   ]
  },
  {
   "cell_type": "code",
   "execution_count": 8,
   "id": "447cbe9c",
   "metadata": {},
   "outputs": [
    {
     "data": {
      "text/html": [
       "<div>\n",
       "<style scoped>\n",
       "    .dataframe tbody tr th:only-of-type {\n",
       "        vertical-align: middle;\n",
       "    }\n",
       "\n",
       "    .dataframe tbody tr th {\n",
       "        vertical-align: top;\n",
       "    }\n",
       "\n",
       "    .dataframe thead th {\n",
       "        text-align: right;\n",
       "    }\n",
       "</style>\n",
       "<table border=\"1\" class=\"dataframe\">\n",
       "  <thead>\n",
       "    <tr style=\"text-align: right;\">\n",
       "      <th></th>\n",
       "      <th>Observed Values</th>\n",
       "      <th>East</th>\n",
       "      <th>West</th>\n",
       "      <th>North</th>\n",
       "      <th>South</th>\n",
       "    </tr>\n",
       "  </thead>\n",
       "  <tbody>\n",
       "    <tr>\n",
       "      <th>0</th>\n",
       "      <td>Males</td>\n",
       "      <td>50</td>\n",
       "      <td>142</td>\n",
       "      <td>131</td>\n",
       "      <td>70</td>\n",
       "    </tr>\n",
       "    <tr>\n",
       "      <th>1</th>\n",
       "      <td>Females</td>\n",
       "      <td>435</td>\n",
       "      <td>1523</td>\n",
       "      <td>1356</td>\n",
       "      <td>750</td>\n",
       "    </tr>\n",
       "  </tbody>\n",
       "</table>\n",
       "</div>"
      ],
      "text/plain": [
       "  Observed Values  East  West  North  South\n",
       "0           Males    50   142    131     70\n",
       "1         Females   435  1523   1356    750"
      ]
     },
     "execution_count": 8,
     "metadata": {},
     "output_type": "execute_result"
    }
   ],
   "source": [
    "product_sale = pd.read_csv('BuyerRatio.csv')\n",
    "product_sale"
   ]
  },
  {
   "cell_type": "code",
   "execution_count": 9,
   "id": "8cf8481d",
   "metadata": {},
   "outputs": [],
   "source": [
    "from scipy.stats import chi2_contingency"
   ]
  },
  {
   "cell_type": "code",
   "execution_count": 10,
   "id": "ad2fc0d2",
   "metadata": {},
   "outputs": [
    {
     "name": "stdout",
     "output_type": "stream",
     "text": [
      "[[50, 142, 131, 70], [550, 351, 480, 350]]\n"
     ]
    }
   ],
   "source": [
    "# contingency table\n",
    "table = [[50, 142, 131, 70],\n",
    "[550, 351, 480, 350]]\n",
    "print(table)"
   ]
  },
  {
   "cell_type": "code",
   "execution_count": 11,
   "id": "11503647",
   "metadata": {},
   "outputs": [
    {
     "name": "stdout",
     "output_type": "stream",
     "text": [
      "Statistic = 80.27295426602495 \n",
      "p value = 2.682172557281901e-17 \n",
      "Degree of freedom = 3 \n",
      "Expected values = [[111.01694915  91.21892655 113.05225989  77.71186441]\n",
      " [488.98305085 401.78107345 497.94774011 342.28813559]]\n"
     ]
    }
   ],
   "source": [
    "stat, p, dof, expected = chi2_contingency(table)\n",
    "print(f'Statistic = {stat} \\np value = {p} \\nDegree of freedom = {dof} \\nExpected values = {expected}')"
   ]
  },
  {
   "cell_type": "markdown",
   "id": "b3452e03",
   "metadata": {},
   "source": [
    "**Conclusion**\n",
    "\n",
    "All proportions are equal."
   ]
  },
  {
   "cell_type": "markdown",
   "id": "9107d275",
   "metadata": {},
   "source": []
  },
  {
   "cell_type": "markdown",
   "id": "bf81b377",
   "metadata": {},
   "source": [
    "**Question 4**\n",
    "\n",
    "TeleCall uses 4 centers around the globe to process customer order forms. They audit a certain % of the customer order forms. Any error in order form renders it defective and has to be reworked before processing. The manager wants to check whether the defective % varies by centre. Please analyze the data at 5% significance level and help the manager draw appropriate inferences\n",
    "\n",
    "**H0 : defective % does not vary by centre**\n",
    "\n",
    "**Ha : defective % varies by centre</h2>**\n",
    "\n",
    "**Using Anova**"
   ]
  },
  {
   "cell_type": "code",
   "execution_count": 12,
   "id": "7c7c9b6b",
   "metadata": {},
   "outputs": [
    {
     "data": {
      "text/html": [
       "<div>\n",
       "<style scoped>\n",
       "    .dataframe tbody tr th:only-of-type {\n",
       "        vertical-align: middle;\n",
       "    }\n",
       "\n",
       "    .dataframe tbody tr th {\n",
       "        vertical-align: top;\n",
       "    }\n",
       "\n",
       "    .dataframe thead th {\n",
       "        text-align: right;\n",
       "    }\n",
       "</style>\n",
       "<table border=\"1\" class=\"dataframe\">\n",
       "  <thead>\n",
       "    <tr style=\"text-align: right;\">\n",
       "      <th></th>\n",
       "      <th>Phillippines</th>\n",
       "      <th>Indonesia</th>\n",
       "      <th>Malta</th>\n",
       "      <th>India</th>\n",
       "    </tr>\n",
       "  </thead>\n",
       "  <tbody>\n",
       "    <tr>\n",
       "      <th>0</th>\n",
       "      <td>Error Free</td>\n",
       "      <td>Error Free</td>\n",
       "      <td>Defective</td>\n",
       "      <td>Error Free</td>\n",
       "    </tr>\n",
       "    <tr>\n",
       "      <th>1</th>\n",
       "      <td>Error Free</td>\n",
       "      <td>Error Free</td>\n",
       "      <td>Error Free</td>\n",
       "      <td>Defective</td>\n",
       "    </tr>\n",
       "    <tr>\n",
       "      <th>2</th>\n",
       "      <td>Error Free</td>\n",
       "      <td>Defective</td>\n",
       "      <td>Defective</td>\n",
       "      <td>Error Free</td>\n",
       "    </tr>\n",
       "    <tr>\n",
       "      <th>3</th>\n",
       "      <td>Error Free</td>\n",
       "      <td>Error Free</td>\n",
       "      <td>Error Free</td>\n",
       "      <td>Error Free</td>\n",
       "    </tr>\n",
       "    <tr>\n",
       "      <th>4</th>\n",
       "      <td>Error Free</td>\n",
       "      <td>Error Free</td>\n",
       "      <td>Defective</td>\n",
       "      <td>Error Free</td>\n",
       "    </tr>\n",
       "  </tbody>\n",
       "</table>\n",
       "</div>"
      ],
      "text/plain": [
       "  Phillippines   Indonesia       Malta       India\n",
       "0   Error Free  Error Free   Defective  Error Free\n",
       "1   Error Free  Error Free  Error Free   Defective\n",
       "2   Error Free   Defective   Defective  Error Free\n",
       "3   Error Free  Error Free  Error Free  Error Free\n",
       "4   Error Free  Error Free   Defective  Error Free"
      ]
     },
     "execution_count": 12,
     "metadata": {},
     "output_type": "execute_result"
    }
   ],
   "source": [
    "COF=pd.read_csv('CostomerOrderForm.csv')\n",
    "COF.head()"
   ]
  },
  {
   "cell_type": "code",
   "execution_count": 13,
   "id": "723d522b",
   "metadata": {},
   "outputs": [],
   "source": [
    "from sklearn.preprocessing import LabelEncoder\n",
    "labelencoder = LabelEncoder()\n",
    "COF.iloc[:,0] = labelencoder.fit_transform(COF.iloc[:,0])\n",
    "COF.iloc[:,1] = labelencoder.fit_transform(COF.iloc[:,1])\n",
    "COF.iloc[:,2] = labelencoder.fit_transform(COF.iloc[:,2])\n",
    "COF.iloc[:,3] = labelencoder.fit_transform(COF.iloc[:,3])"
   ]
  },
  {
   "cell_type": "code",
   "execution_count": 14,
   "id": "a214dd10",
   "metadata": {},
   "outputs": [
    {
     "data": {
      "text/plain": [
       "F_onewayResult(statistic=1.286168556089167, pvalue=0.2776780955705948)"
      ]
     },
     "execution_count": 14,
     "metadata": {},
     "output_type": "execute_result"
    }
   ],
   "source": [
    "stats.f_oneway(COF.iloc[:,0], COF.iloc[:,1],COF.iloc[:,2],COF.iloc[:,3])"
   ]
  },
  {
   "cell_type": "markdown",
   "id": "f9069efa",
   "metadata": {},
   "source": [
    "**Conclusion**\n",
    "\n",
    "Since the p-value is greater than 0.05, we failed to reject the null hypothesis. "
   ]
  },
  {
   "cell_type": "markdown",
   "id": "46b0923d",
   "metadata": {},
   "source": [
    "**Using chi-square test**"
   ]
  },
  {
   "cell_type": "code",
   "execution_count": 15,
   "id": "9ef2aba2",
   "metadata": {},
   "outputs": [
    {
     "data": {
      "text/plain": [
       "1    271\n",
       "0     29\n",
       "Name: Phillippines, dtype: int64"
      ]
     },
     "execution_count": 15,
     "metadata": {},
     "output_type": "execute_result"
    }
   ],
   "source": [
    "COF['Phillippines'].value_counts()"
   ]
  },
  {
   "cell_type": "code",
   "execution_count": 16,
   "id": "ed65f548",
   "metadata": {},
   "outputs": [
    {
     "data": {
      "text/plain": [
       "1    267\n",
       "0     33\n",
       "Name: Indonesia, dtype: int64"
      ]
     },
     "execution_count": 16,
     "metadata": {},
     "output_type": "execute_result"
    }
   ],
   "source": [
    "COF['Indonesia'].value_counts()"
   ]
  },
  {
   "cell_type": "code",
   "execution_count": 17,
   "id": "5ed67699",
   "metadata": {},
   "outputs": [
    {
     "data": {
      "text/plain": [
       "1    269\n",
       "0     31\n",
       "Name: Malta, dtype: int64"
      ]
     },
     "execution_count": 17,
     "metadata": {},
     "output_type": "execute_result"
    }
   ],
   "source": [
    "COF['Malta'].value_counts()"
   ]
  },
  {
   "cell_type": "code",
   "execution_count": 18,
   "id": "86c00cf4",
   "metadata": {},
   "outputs": [
    {
     "data": {
      "text/plain": [
       "1    280\n",
       "0     20\n",
       "Name: India, dtype: int64"
      ]
     },
     "execution_count": 18,
     "metadata": {},
     "output_type": "execute_result"
    }
   ],
   "source": [
    "COF['India'].value_counts()"
   ]
  },
  {
   "cell_type": "code",
   "execution_count": 19,
   "id": "c088a488",
   "metadata": {},
   "outputs": [
    {
     "data": {
      "text/plain": [
       "array([[271, 267, 269, 280],\n",
       "       [ 29,  33,  31,  20]])"
      ]
     },
     "execution_count": 19,
     "metadata": {},
     "output_type": "execute_result"
    }
   ],
   "source": [
    "# Creating contingency table\n",
    "cont_table = np.array([[271,267,269,280],[29,33,31,20]])\n",
    "cont_table"
   ]
  },
  {
   "cell_type": "code",
   "execution_count": 20,
   "id": "5f419c47",
   "metadata": {},
   "outputs": [
    {
     "name": "stdout",
     "output_type": "stream",
     "text": [
      "Statistic = 3.858960685820355 \n",
      "p value = 0.2771020991233135 \n",
      "Degree of freedom = 3 \n",
      "Expected values = [[271.75 271.75 271.75 271.75]\n",
      " [ 28.25  28.25  28.25  28.25]]\n"
     ]
    }
   ],
   "source": [
    "stat, p, dof, expected = chi2_contingency(cont_table)\n",
    "print(f'Statistic = {stat} \\np value = {p} \\nDegree of freedom = {dof} \\nExpected values = {expected}')"
   ]
  },
  {
   "cell_type": "markdown",
   "id": "294eb2b4",
   "metadata": {},
   "source": [
    "**Conclusion**\n",
    "\n",
    "Since the p-value is greater than 0.05, we failed to reject the null hypothesis."
   ]
  },
  {
   "cell_type": "code",
   "execution_count": null,
   "id": "dd348ea2",
   "metadata": {},
   "outputs": [],
   "source": []
  }
 ],
 "metadata": {
  "kernelspec": {
   "display_name": "Python 3",
   "language": "python",
   "name": "python3"
  },
  "language_info": {
   "codemirror_mode": {
    "name": "ipython",
    "version": 3
   },
   "file_extension": ".py",
   "mimetype": "text/x-python",
   "name": "python",
   "nbconvert_exporter": "python",
   "pygments_lexer": "ipython3",
   "version": "3.8.8"
  }
 },
 "nbformat": 4,
 "nbformat_minor": 5
}
